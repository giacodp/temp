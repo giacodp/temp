{
 "cells": [
  {
   "cell_type": "markdown",
   "metadata": {},
   "source": [
    "# Librerie"
   ]
  },
  {
   "cell_type": "code",
   "execution_count": 1,
   "metadata": {
    "collapsed": false
   },
   "outputs": [],
   "source": [
    "import pandas as pd"
   ]
  },
  {
   "cell_type": "markdown",
   "metadata": {},
   "source": [
    "# Data Ingestion & Data Preparation"
   ]
  },
  {
   "cell_type": "code",
   "execution_count": 2,
   "metadata": {
    "collapsed": false
   },
   "outputs": [],
   "source": [
    "nomi=pd.read_csv('Nomi.csv')\n",
    "nomi.loc[3]=('31567','Giorgia Stazzi, Remo Stazzi','Giacinto Oscano')\n",
    "nomi.loc[4]=('98989','Giorgia Stazzi/Remo Stazzi','Giacinto Oscano')\n",
    "nomi.loc[5]=('98987','Giorgia Ramarindo Mazziconi','Giorgia Stazzi')\n",
    "nomi.loc[6]=('54543','Giorgia R. Mazziconi','Giorgia Stazzi')\n",
    "nomi.loc[7]=('56564','Giorgia Ramarindo Mazziconi srl','Amica Chic Srl')\n",
    "nomi.loc[8]=('81324','Giorgia R. Mazziconi srl','Amica Chic S.r.l.')\n",
    "nomi.loc[9]=('78789','Giorgia R. Mazziconi srl','Amica Chic S. r. l.')\n",
    "nomi.loc[10]=('12895','Giorgia R.Mazziconi','Giancarlo Mazziconi')\n",
    "nomi.loc[11]=('12895','Giorgia R.Mazziconi','Giancarlo Mazziconi, Stazzi Giorgia')\n",
    "nomi.loc[12]=('12895','Giorgia R. Mazziconi - Giacinto Oscano','Giacinto De Pitis, Stazzi Giorgia')\n",
    "nomi.loc[13]=('12895','Giorgia R. Mazziconi - Dino Di Iorio','Dino Di Renzo, Stazzi Giorgia')"
   ]
  },
  {
   "cell_type": "code",
   "execution_count": 3,
   "metadata": {
    "collapsed": false
   },
   "outputs": [
    {
     "data": {
      "text/html": [
       "<div>\n",
       "<table border=\"1\" class=\"dataframe\">\n",
       "  <thead>\n",
       "    <tr style=\"text-align: right;\">\n",
       "      <th></th>\n",
       "      <th>COD_MOVIMENTO</th>\n",
       "      <th>ORDINANTE</th>\n",
       "      <th>BENEFICIARIO</th>\n",
       "    </tr>\n",
       "  </thead>\n",
       "  <tbody>\n",
       "    <tr>\n",
       "      <th>0</th>\n",
       "      <td>12536</td>\n",
       "      <td>Aldo Vanni - Remo Stazzi</td>\n",
       "      <td>STazzi Giorgia</td>\n",
       "    </tr>\n",
       "    <tr>\n",
       "      <th>1</th>\n",
       "      <td>65879</td>\n",
       "      <td>Aldo Vanni - Remo Stazzi</td>\n",
       "      <td>Stazzi Remo</td>\n",
       "    </tr>\n",
       "    <tr>\n",
       "      <th>2</th>\n",
       "      <td>14235</td>\n",
       "      <td>Aldo Vanni Remo Stazzi</td>\n",
       "      <td>Gloria Vanni</td>\n",
       "    </tr>\n",
       "    <tr>\n",
       "      <th>3</th>\n",
       "      <td>31567</td>\n",
       "      <td>Giorgia Stazzi, Remo Stazzi</td>\n",
       "      <td>Giacinto Oscano</td>\n",
       "    </tr>\n",
       "    <tr>\n",
       "      <th>4</th>\n",
       "      <td>98989</td>\n",
       "      <td>Giorgia Stazzi/Remo Stazzi</td>\n",
       "      <td>Giacinto Oscano</td>\n",
       "    </tr>\n",
       "    <tr>\n",
       "      <th>5</th>\n",
       "      <td>98987</td>\n",
       "      <td>Giorgia Ramarindo Mazziconi</td>\n",
       "      <td>Giorgia Stazzi</td>\n",
       "    </tr>\n",
       "    <tr>\n",
       "      <th>6</th>\n",
       "      <td>54543</td>\n",
       "      <td>Giorgia R. Mazziconi</td>\n",
       "      <td>Giorgia Stazzi</td>\n",
       "    </tr>\n",
       "    <tr>\n",
       "      <th>7</th>\n",
       "      <td>56564</td>\n",
       "      <td>Giorgia Ramarindo Mazziconi srl</td>\n",
       "      <td>Amica Chic Srl</td>\n",
       "    </tr>\n",
       "    <tr>\n",
       "      <th>8</th>\n",
       "      <td>81324</td>\n",
       "      <td>Giorgia R. Mazziconi srl</td>\n",
       "      <td>Amica Chic S.r.l.</td>\n",
       "    </tr>\n",
       "    <tr>\n",
       "      <th>9</th>\n",
       "      <td>78789</td>\n",
       "      <td>Giorgia R. Mazziconi srl</td>\n",
       "      <td>Amica Chic S. r. l.</td>\n",
       "    </tr>\n",
       "    <tr>\n",
       "      <th>10</th>\n",
       "      <td>12895</td>\n",
       "      <td>Giorgia R.Mazziconi</td>\n",
       "      <td>Giancarlo Mazziconi</td>\n",
       "    </tr>\n",
       "    <tr>\n",
       "      <th>11</th>\n",
       "      <td>12895</td>\n",
       "      <td>Giorgia R.Mazziconi</td>\n",
       "      <td>Giancarlo Mazziconi, Stazzi Giorgia</td>\n",
       "    </tr>\n",
       "    <tr>\n",
       "      <th>12</th>\n",
       "      <td>12895</td>\n",
       "      <td>Giorgia R. Mazziconi - Giacinto Oscano</td>\n",
       "      <td>Giacinto De Pitis, Stazzi Giorgia</td>\n",
       "    </tr>\n",
       "    <tr>\n",
       "      <th>13</th>\n",
       "      <td>12895</td>\n",
       "      <td>Giorgia R. Mazziconi - Dino Di Iorio</td>\n",
       "      <td>Dino Di Renzo, Stazzi Giorgia</td>\n",
       "    </tr>\n",
       "  </tbody>\n",
       "</table>\n",
       "</div>"
      ],
      "text/plain": [
       "   COD_MOVIMENTO                               ORDINANTE  \\\n",
       "0          12536                Aldo Vanni - Remo Stazzi   \n",
       "1          65879                Aldo Vanni - Remo Stazzi   \n",
       "2          14235                  Aldo Vanni Remo Stazzi   \n",
       "3          31567             Giorgia Stazzi, Remo Stazzi   \n",
       "4          98989              Giorgia Stazzi/Remo Stazzi   \n",
       "5          98987             Giorgia Ramarindo Mazziconi   \n",
       "6          54543                    Giorgia R. Mazziconi   \n",
       "7          56564         Giorgia Ramarindo Mazziconi srl   \n",
       "8          81324                Giorgia R. Mazziconi srl   \n",
       "9          78789                Giorgia R. Mazziconi srl   \n",
       "10         12895                     Giorgia R.Mazziconi   \n",
       "11         12895                     Giorgia R.Mazziconi   \n",
       "12         12895  Giorgia R. Mazziconi - Giacinto Oscano   \n",
       "13         12895    Giorgia R. Mazziconi - Dino Di Iorio   \n",
       "\n",
       "                           BENEFICIARIO  \n",
       "0                        STazzi Giorgia  \n",
       "1                           Stazzi Remo  \n",
       "2                          Gloria Vanni  \n",
       "3                       Giacinto Oscano  \n",
       "4                       Giacinto Oscano  \n",
       "5                        Giorgia Stazzi  \n",
       "6                        Giorgia Stazzi  \n",
       "7                        Amica Chic Srl  \n",
       "8                     Amica Chic S.r.l.  \n",
       "9                   Amica Chic S. r. l.  \n",
       "10                  Giancarlo Mazziconi  \n",
       "11  Giancarlo Mazziconi, Stazzi Giorgia  \n",
       "12    Giacinto De Pitis, Stazzi Giorgia  \n",
       "13        Dino Di Renzo, Stazzi Giorgia  "
      ]
     },
     "execution_count": 3,
     "metadata": {},
     "output_type": "execute_result"
    }
   ],
   "source": [
    "nomi"
   ]
  },
  {
   "cell_type": "code",
   "execution_count": 4,
   "metadata": {
    "collapsed": false
   },
   "outputs": [
    {
     "data": {
      "text/plain": [
       "COD_MOVIMENTO    object\n",
       "ORDINANTE        object\n",
       "BENEFICIARIO     object\n",
       "dtype: object"
      ]
     },
     "execution_count": 4,
     "metadata": {},
     "output_type": "execute_result"
    }
   ],
   "source": [
    "nomi.dtypes"
   ]
  },
  {
   "cell_type": "code",
   "execution_count": 5,
   "metadata": {
    "collapsed": false
   },
   "outputs": [
    {
     "name": "stdout",
     "output_type": "stream",
     "text": [
      "(1302, 2)\n",
      "(927, 2)\n"
     ]
    }
   ],
   "source": [
    "nomi_femminili = pd.read_csv('nomi_femminili_fascia_eta_2013.csv',usecols=['nome','frequenza'])\n",
    "nomi_maschili = pd.read_csv('nomi_maschili_fascia_eta_2013.csv',usecols=['nome','frequenza'])\n",
    "print nomi_femminili.shape\n",
    "print nomi_maschili.shape"
   ]
  },
  {
   "cell_type": "code",
   "execution_count": 6,
   "metadata": {
    "collapsed": false
   },
   "outputs": [
    {
     "data": {
      "text/html": [
       "<div>\n",
       "<table border=\"1\" class=\"dataframe\">\n",
       "  <thead>\n",
       "    <tr style=\"text-align: right;\">\n",
       "      <th></th>\n",
       "      <th>nome</th>\n",
       "      <th>frequenza</th>\n",
       "    </tr>\n",
       "  </thead>\n",
       "  <tbody>\n",
       "    <tr>\n",
       "      <th>0</th>\n",
       "      <td>GIULIA</td>\n",
       "      <td>561</td>\n",
       "    </tr>\n",
       "    <tr>\n",
       "      <th>1</th>\n",
       "      <td>SOFIA</td>\n",
       "      <td>507</td>\n",
       "    </tr>\n",
       "    <tr>\n",
       "      <th>2</th>\n",
       "      <td>SARA</td>\n",
       "      <td>372</td>\n",
       "    </tr>\n",
       "    <tr>\n",
       "      <th>3</th>\n",
       "      <td>EMMA</td>\n",
       "      <td>276</td>\n",
       "    </tr>\n",
       "    <tr>\n",
       "      <th>4</th>\n",
       "      <td>MATILDE</td>\n",
       "      <td>262</td>\n",
       "    </tr>\n",
       "  </tbody>\n",
       "</table>\n",
       "</div>"
      ],
      "text/plain": [
       "      nome  frequenza\n",
       "0   GIULIA        561\n",
       "1    SOFIA        507\n",
       "2     SARA        372\n",
       "3     EMMA        276\n",
       "4  MATILDE        262"
      ]
     },
     "execution_count": 6,
     "metadata": {},
     "output_type": "execute_result"
    }
   ],
   "source": [
    "nomi_femminili.head()"
   ]
  },
  {
   "cell_type": "code",
   "execution_count": 7,
   "metadata": {
    "collapsed": false,
    "scrolled": true
   },
   "outputs": [
    {
     "name": "stdout",
     "output_type": "stream",
     "text": [
      "(344, 2)\n",
      "(217, 2)\n"
     ]
    }
   ],
   "source": [
    "nomi_femminili = pd.DataFrame(nomi_femminili.groupby(['nome'],as_index=False)['frequenza'].sum())\n",
    "nomi_maschili = pd.DataFrame(nomi_maschili.groupby(['nome'],as_index=False)['frequenza'].sum())\n",
    "print nomi_femminili.shape\n",
    "print nomi_maschili.shape"
   ]
  },
  {
   "cell_type": "code",
   "execution_count": 8,
   "metadata": {
    "collapsed": false
   },
   "outputs": [
    {
     "name": "stdout",
     "output_type": "stream",
     "text": [
      "(561, 2)\n",
      "561\n"
     ]
    }
   ],
   "source": [
    "nomi_italiani = nomi_femminili.merge(nomi_maschili, how='outer')\n",
    "print nomi_italiani.shape\n",
    "print nomi_femminili.shape[0]+nomi_maschili.shape[0]"
   ]
  },
  {
   "cell_type": "markdown",
   "metadata": {},
   "source": [
    "# Algoritmo"
   ]
  },
  {
   "cell_type": "code",
   "execution_count": 9,
   "metadata": {
    "collapsed": false
   },
   "outputs": [],
   "source": [
    "from matching_ordinante_beneficiario import matching_ordinante_beneficiario as mob"
   ]
  },
  {
   "cell_type": "code",
   "execution_count": 10,
   "metadata": {
    "collapsed": false
   },
   "outputs": [
    {
     "name": "stderr",
     "output_type": "stream",
     "text": [
      "matching_ordinante_beneficiario.py:99: SettingWithCopyWarning: \n",
      "A value is trying to be set on a copy of a slice from a DataFrame\n",
      "\n",
      "See the caveats in the documentation: http://pandas.pydata.org/pandas-docs/stable/indexing.html#indexing-view-versus-copy\n",
      "  data[output_column_name][row] = check_match(data[nameA][row],data[nameB][row],*common_names)\n"
     ]
    }
   ],
   "source": [
    "mob(nomi, 'matcH','ORDINANTE', 'BENEFICIARIO', nomi_italiani['nome'],\\\n",
    "                                output_file_name = 'matching_ordinante_beneficiario.csv')"
   ]
  },
  {
   "cell_type": "code",
   "execution_count": null,
   "metadata": {
    "collapsed": true
   },
   "outputs": [],
   "source": [
    "#TEST\n",
    "mob(nomi, 'matcH','ORDINANTE', 'BENEFICIARIO', nomi_italiani['nome'])"
   ]
  },
  {
   "cell_type": "code",
   "execution_count": null,
   "metadata": {
    "collapsed": true
   },
   "outputs": [],
   "source": [
    "#TEST\n",
    "mob(nomi, 'matcH','ORDINANTE', 'BENEFICIARIO',\\\n",
    "                                output_file_name = 'matching_ordinante_beneficiario.csv')"
   ]
  },
  {
   "cell_type": "code",
   "execution_count": null,
   "metadata": {
    "collapsed": true
   },
   "outputs": [],
   "source": [
    "#TEST\n",
    "mob(nomi, 'matcH','ORDINANTE', 'BENEFICIARIO')"
   ]
  },
  {
   "cell_type": "code",
   "execution_count": 11,
   "metadata": {
    "collapsed": false
   },
   "outputs": [
    {
     "data": {
      "text/html": [
       "<div>\n",
       "<table border=\"1\" class=\"dataframe\">\n",
       "  <thead>\n",
       "    <tr style=\"text-align: right;\">\n",
       "      <th></th>\n",
       "      <th>COD_MOVIMENTO</th>\n",
       "      <th>ORDINANTE</th>\n",
       "      <th>BENEFICIARIO</th>\n",
       "      <th>MATCH_NAMES_AND_SURNAMES</th>\n",
       "      <th>MATCH_SURNAMES</th>\n",
       "      <th>MATCH</th>\n",
       "    </tr>\n",
       "  </thead>\n",
       "  <tbody>\n",
       "    <tr>\n",
       "      <th>0</th>\n",
       "      <td>12536</td>\n",
       "      <td>Aldo Vanni - Remo Stazzi</td>\n",
       "      <td>STazzi Giorgia</td>\n",
       "      <td>1</td>\n",
       "      <td>1</td>\n",
       "      <td>2</td>\n",
       "    </tr>\n",
       "    <tr>\n",
       "      <th>1</th>\n",
       "      <td>65879</td>\n",
       "      <td>Aldo Vanni - Remo Stazzi</td>\n",
       "      <td>Stazzi Remo</td>\n",
       "      <td>2</td>\n",
       "      <td>1</td>\n",
       "      <td>3</td>\n",
       "    </tr>\n",
       "    <tr>\n",
       "      <th>2</th>\n",
       "      <td>14235</td>\n",
       "      <td>Aldo Vanni Remo Stazzi</td>\n",
       "      <td>Gloria Vanni</td>\n",
       "      <td>1</td>\n",
       "      <td>0</td>\n",
       "      <td>1</td>\n",
       "    </tr>\n",
       "    <tr>\n",
       "      <th>3</th>\n",
       "      <td>31567</td>\n",
       "      <td>Giorgia Stazzi, Remo Stazzi</td>\n",
       "      <td>Giacinto Oscano</td>\n",
       "      <td>0</td>\n",
       "      <td>0</td>\n",
       "      <td>0</td>\n",
       "    </tr>\n",
       "    <tr>\n",
       "      <th>4</th>\n",
       "      <td>98989</td>\n",
       "      <td>Giorgia Stazzi/Remo Stazzi</td>\n",
       "      <td>Giacinto Oscano</td>\n",
       "      <td>0</td>\n",
       "      <td>0</td>\n",
       "      <td>0</td>\n",
       "    </tr>\n",
       "    <tr>\n",
       "      <th>5</th>\n",
       "      <td>98987</td>\n",
       "      <td>Giorgia Ramarindo Mazziconi</td>\n",
       "      <td>Giorgia Stazzi</td>\n",
       "      <td>1</td>\n",
       "      <td>0</td>\n",
       "      <td>1</td>\n",
       "    </tr>\n",
       "    <tr>\n",
       "      <th>6</th>\n",
       "      <td>54543</td>\n",
       "      <td>Giorgia R. Mazziconi</td>\n",
       "      <td>Giorgia Stazzi</td>\n",
       "      <td>1</td>\n",
       "      <td>0</td>\n",
       "      <td>1</td>\n",
       "    </tr>\n",
       "    <tr>\n",
       "      <th>7</th>\n",
       "      <td>56564</td>\n",
       "      <td>Giorgia Ramarindo Mazziconi srl</td>\n",
       "      <td>Amica Chic Srl</td>\n",
       "      <td>0</td>\n",
       "      <td>0</td>\n",
       "      <td>0</td>\n",
       "    </tr>\n",
       "    <tr>\n",
       "      <th>8</th>\n",
       "      <td>81324</td>\n",
       "      <td>Giorgia R. Mazziconi srl</td>\n",
       "      <td>Amica Chic S.r.l.</td>\n",
       "      <td>0</td>\n",
       "      <td>0</td>\n",
       "      <td>0</td>\n",
       "    </tr>\n",
       "    <tr>\n",
       "      <th>9</th>\n",
       "      <td>78789</td>\n",
       "      <td>Giorgia R. Mazziconi srl</td>\n",
       "      <td>Amica Chic S. r. l.</td>\n",
       "      <td>0</td>\n",
       "      <td>0</td>\n",
       "      <td>0</td>\n",
       "    </tr>\n",
       "    <tr>\n",
       "      <th>10</th>\n",
       "      <td>12895</td>\n",
       "      <td>Giorgia R.Mazziconi</td>\n",
       "      <td>Giancarlo Mazziconi</td>\n",
       "      <td>1</td>\n",
       "      <td>1</td>\n",
       "      <td>2</td>\n",
       "    </tr>\n",
       "    <tr>\n",
       "      <th>11</th>\n",
       "      <td>12895</td>\n",
       "      <td>Giorgia R.Mazziconi</td>\n",
       "      <td>Giancarlo Mazziconi, Stazzi Giorgia</td>\n",
       "      <td>2</td>\n",
       "      <td>1</td>\n",
       "      <td>3</td>\n",
       "    </tr>\n",
       "    <tr>\n",
       "      <th>12</th>\n",
       "      <td>12895</td>\n",
       "      <td>Giorgia R. Mazziconi - Giacinto Oscano</td>\n",
       "      <td>Giacinto De Pitis, Stazzi Giorgia</td>\n",
       "      <td>2</td>\n",
       "      <td>1</td>\n",
       "      <td>3</td>\n",
       "    </tr>\n",
       "    <tr>\n",
       "      <th>13</th>\n",
       "      <td>12895</td>\n",
       "      <td>Giorgia R. Mazziconi - Dino Di Iorio</td>\n",
       "      <td>Dino Di Renzo, Stazzi Giorgia</td>\n",
       "      <td>2</td>\n",
       "      <td>0</td>\n",
       "      <td>2</td>\n",
       "    </tr>\n",
       "  </tbody>\n",
       "</table>\n",
       "</div>"
      ],
      "text/plain": [
       "   COD_MOVIMENTO                               ORDINANTE  \\\n",
       "0          12536                Aldo Vanni - Remo Stazzi   \n",
       "1          65879                Aldo Vanni - Remo Stazzi   \n",
       "2          14235                  Aldo Vanni Remo Stazzi   \n",
       "3          31567             Giorgia Stazzi, Remo Stazzi   \n",
       "4          98989              Giorgia Stazzi/Remo Stazzi   \n",
       "5          98987             Giorgia Ramarindo Mazziconi   \n",
       "6          54543                    Giorgia R. Mazziconi   \n",
       "7          56564         Giorgia Ramarindo Mazziconi srl   \n",
       "8          81324                Giorgia R. Mazziconi srl   \n",
       "9          78789                Giorgia R. Mazziconi srl   \n",
       "10         12895                     Giorgia R.Mazziconi   \n",
       "11         12895                     Giorgia R.Mazziconi   \n",
       "12         12895  Giorgia R. Mazziconi - Giacinto Oscano   \n",
       "13         12895    Giorgia R. Mazziconi - Dino Di Iorio   \n",
       "\n",
       "                           BENEFICIARIO  MATCH_NAMES_AND_SURNAMES  \\\n",
       "0                        STazzi Giorgia                         1   \n",
       "1                           Stazzi Remo                         2   \n",
       "2                          Gloria Vanni                         1   \n",
       "3                       Giacinto Oscano                         0   \n",
       "4                       Giacinto Oscano                         0   \n",
       "5                        Giorgia Stazzi                         1   \n",
       "6                        Giorgia Stazzi                         1   \n",
       "7                        Amica Chic Srl                         0   \n",
       "8                     Amica Chic S.r.l.                         0   \n",
       "9                   Amica Chic S. r. l.                         0   \n",
       "10                  Giancarlo Mazziconi                         1   \n",
       "11  Giancarlo Mazziconi, Stazzi Giorgia                         2   \n",
       "12    Giacinto De Pitis, Stazzi Giorgia                         2   \n",
       "13        Dino Di Renzo, Stazzi Giorgia                         2   \n",
       "\n",
       "    MATCH_SURNAMES  MATCH  \n",
       "0                1      2  \n",
       "1                1      3  \n",
       "2                0      1  \n",
       "3                0      0  \n",
       "4                0      0  \n",
       "5                0      1  \n",
       "6                0      1  \n",
       "7                0      0  \n",
       "8                0      0  \n",
       "9                0      0  \n",
       "10               1      2  \n",
       "11               1      3  \n",
       "12               1      3  \n",
       "13               0      2  "
      ]
     },
     "execution_count": 11,
     "metadata": {},
     "output_type": "execute_result"
    }
   ],
   "source": [
    "nomi"
   ]
  },
  {
   "cell_type": "code",
   "execution_count": 12,
   "metadata": {
    "collapsed": false
   },
   "outputs": [
    {
     "data": {
      "text/plain": [
       "COD_MOVIMENTO               object\n",
       "ORDINANTE                   object\n",
       "BENEFICIARIO                object\n",
       "MATCH_NAMES_AND_SURNAMES     int64\n",
       "MATCH_SURNAMES               int64\n",
       "MATCH                        int64\n",
       "dtype: object"
      ]
     },
     "execution_count": 12,
     "metadata": {},
     "output_type": "execute_result"
    }
   ],
   "source": [
    "nomi.dtypes"
   ]
  },
  {
   "cell_type": "code",
   "execution_count": 13,
   "metadata": {
    "collapsed": false
   },
   "outputs": [
    {
     "data": {
      "text/html": [
       "<div>\n",
       "<table border=\"1\" class=\"dataframe\">\n",
       "  <thead>\n",
       "    <tr style=\"text-align: right;\">\n",
       "      <th></th>\n",
       "      <th>COD_MOVIMENTO</th>\n",
       "      <th>ORDINANTE</th>\n",
       "      <th>BENEFICIARIO</th>\n",
       "      <th>MATCH</th>\n",
       "    </tr>\n",
       "  </thead>\n",
       "  <tbody>\n",
       "    <tr>\n",
       "      <th>0</th>\n",
       "      <td>12536</td>\n",
       "      <td>Aldo Vanni - Remo Stazzi</td>\n",
       "      <td>STazzi Giorgia</td>\n",
       "      <td>2</td>\n",
       "    </tr>\n",
       "    <tr>\n",
       "      <th>1</th>\n",
       "      <td>65879</td>\n",
       "      <td>Aldo Vanni - Remo Stazzi</td>\n",
       "      <td>Stazzi Remo</td>\n",
       "      <td>3</td>\n",
       "    </tr>\n",
       "    <tr>\n",
       "      <th>2</th>\n",
       "      <td>14235</td>\n",
       "      <td>Aldo Vanni Remo Stazzi</td>\n",
       "      <td>Gloria Vanni</td>\n",
       "      <td>1</td>\n",
       "    </tr>\n",
       "    <tr>\n",
       "      <th>3</th>\n",
       "      <td>31567</td>\n",
       "      <td>Giorgia Stazzi, Remo Stazzi</td>\n",
       "      <td>Giacinto Oscano</td>\n",
       "      <td>0</td>\n",
       "    </tr>\n",
       "    <tr>\n",
       "      <th>4</th>\n",
       "      <td>98989</td>\n",
       "      <td>Giorgia Stazzi/Remo Stazzi</td>\n",
       "      <td>Giacinto Oscano</td>\n",
       "      <td>0</td>\n",
       "    </tr>\n",
       "    <tr>\n",
       "      <th>5</th>\n",
       "      <td>98987</td>\n",
       "      <td>Giorgia Ramarindo Mazziconi</td>\n",
       "      <td>Giorgia Stazzi</td>\n",
       "      <td>1</td>\n",
       "    </tr>\n",
       "    <tr>\n",
       "      <th>6</th>\n",
       "      <td>54543</td>\n",
       "      <td>Giorgia R. Mazziconi</td>\n",
       "      <td>Giorgia Stazzi</td>\n",
       "      <td>1</td>\n",
       "    </tr>\n",
       "    <tr>\n",
       "      <th>7</th>\n",
       "      <td>56564</td>\n",
       "      <td>Giorgia Ramarindo Mazziconi srl</td>\n",
       "      <td>Amica Chic Srl</td>\n",
       "      <td>0</td>\n",
       "    </tr>\n",
       "    <tr>\n",
       "      <th>8</th>\n",
       "      <td>81324</td>\n",
       "      <td>Giorgia R. Mazziconi srl</td>\n",
       "      <td>Amica Chic S.r.l.</td>\n",
       "      <td>0</td>\n",
       "    </tr>\n",
       "    <tr>\n",
       "      <th>9</th>\n",
       "      <td>78789</td>\n",
       "      <td>Giorgia R. Mazziconi srl</td>\n",
       "      <td>Amica Chic S. r. l.</td>\n",
       "      <td>0</td>\n",
       "    </tr>\n",
       "    <tr>\n",
       "      <th>10</th>\n",
       "      <td>12895</td>\n",
       "      <td>Giorgia R.Mazziconi</td>\n",
       "      <td>Giancarlo Mazziconi</td>\n",
       "      <td>2</td>\n",
       "    </tr>\n",
       "    <tr>\n",
       "      <th>11</th>\n",
       "      <td>12895</td>\n",
       "      <td>Giorgia R.Mazziconi</td>\n",
       "      <td>Giancarlo Mazziconi, Stazzi Giorgia</td>\n",
       "      <td>3</td>\n",
       "    </tr>\n",
       "    <tr>\n",
       "      <th>12</th>\n",
       "      <td>12895</td>\n",
       "      <td>Giorgia R. Mazziconi - Giacinto Oscano</td>\n",
       "      <td>Giacinto De Pitis, Stazzi Giorgia</td>\n",
       "      <td>3</td>\n",
       "    </tr>\n",
       "    <tr>\n",
       "      <th>13</th>\n",
       "      <td>12895</td>\n",
       "      <td>Giorgia R. Mazziconi - Dino Di Iorio</td>\n",
       "      <td>Dino Di Renzo, Stazzi Giorgia</td>\n",
       "      <td>2</td>\n",
       "    </tr>\n",
       "  </tbody>\n",
       "</table>\n",
       "</div>"
      ],
      "text/plain": [
       "    COD_MOVIMENTO                               ORDINANTE  \\\n",
       "0           12536                Aldo Vanni - Remo Stazzi   \n",
       "1           65879                Aldo Vanni - Remo Stazzi   \n",
       "2           14235                  Aldo Vanni Remo Stazzi   \n",
       "3           31567             Giorgia Stazzi, Remo Stazzi   \n",
       "4           98989              Giorgia Stazzi/Remo Stazzi   \n",
       "5           98987             Giorgia Ramarindo Mazziconi   \n",
       "6           54543                    Giorgia R. Mazziconi   \n",
       "7           56564         Giorgia Ramarindo Mazziconi srl   \n",
       "8           81324                Giorgia R. Mazziconi srl   \n",
       "9           78789                Giorgia R. Mazziconi srl   \n",
       "10          12895                     Giorgia R.Mazziconi   \n",
       "11          12895                     Giorgia R.Mazziconi   \n",
       "12          12895  Giorgia R. Mazziconi - Giacinto Oscano   \n",
       "13          12895    Giorgia R. Mazziconi - Dino Di Iorio   \n",
       "\n",
       "                           BENEFICIARIO  MATCH  \n",
       "0                        STazzi Giorgia      2  \n",
       "1                           Stazzi Remo      3  \n",
       "2                          Gloria Vanni      1  \n",
       "3                       Giacinto Oscano      0  \n",
       "4                       Giacinto Oscano      0  \n",
       "5                        Giorgia Stazzi      1  \n",
       "6                        Giorgia Stazzi      1  \n",
       "7                        Amica Chic Srl      0  \n",
       "8                     Amica Chic S.r.l.      0  \n",
       "9                   Amica Chic S. r. l.      0  \n",
       "10                  Giancarlo Mazziconi      2  \n",
       "11  Giancarlo Mazziconi, Stazzi Giorgia      3  \n",
       "12    Giacinto De Pitis, Stazzi Giorgia      3  \n",
       "13        Dino Di Renzo, Stazzi Giorgia      2  "
      ]
     },
     "execution_count": 13,
     "metadata": {},
     "output_type": "execute_result"
    }
   ],
   "source": [
    "pd.read_csv('matching_ordinante_beneficiario.csv')"
   ]
  },
  {
   "cell_type": "code",
   "execution_count": 14,
   "metadata": {
    "collapsed": false
   },
   "outputs": [
    {
     "data": {
      "text/plain": [
       "COD_MOVIMENTO     int64\n",
       "ORDINANTE        object\n",
       "BENEFICIARIO     object\n",
       "MATCH             int64\n",
       "dtype: object"
      ]
     },
     "execution_count": 14,
     "metadata": {},
     "output_type": "execute_result"
    }
   ],
   "source": [
    "pd.read_csv('matching_ordinante_beneficiario.csv').dtypes"
   ]
  }
 ],
 "metadata": {
  "kernelspec": {
   "display_name": "Python 2",
   "language": "python",
   "name": "python2"
  },
  "language_info": {
   "codemirror_mode": {
    "name": "ipython",
    "version": 2
   },
   "file_extension": ".py",
   "mimetype": "text/x-python",
   "name": "python",
   "nbconvert_exporter": "python",
   "pygments_lexer": "ipython2",
   "version": "2.7.10"
  }
 },
 "nbformat": 4,
 "nbformat_minor": 0
}
