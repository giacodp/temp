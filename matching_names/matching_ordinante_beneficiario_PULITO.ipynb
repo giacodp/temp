{
 "cells": [
  {
   "cell_type": "markdown",
   "metadata": {},
   "source": [
    "# Librerie"
   ]
  },
  {
   "cell_type": "code",
   "execution_count": 1,
   "metadata": {
    "collapsed": true
   },
   "outputs": [],
   "source": [
    "import pandas as pd"
   ]
  },
  {
   "cell_type": "markdown",
   "metadata": {},
   "source": [
    "# Data Ingestion & Data Preparation"
   ]
  },
  {
   "cell_type": "code",
   "execution_count": 2,
   "metadata": {
    "collapsed": false
   },
   "outputs": [],
   "source": [
    "nomi=pd.read_csv('Nomi.csv')\n",
    "nomi.loc[3]=('31567','Giorgia Stazzi, Remo Stazzi','Giacinto Oscano')\n",
    "nomi.loc[4]=('98989','Giorgia Stazzi/Remo Stazzi','Giacinto Oscano')\n",
    "nomi.loc[5]=('98987','Giorgia Ramarindo Mazziconi','Giorgia Stazzi')\n",
    "nomi.loc[6]=('54543','Giorgia R. Mazziconi','Giorgia Stazzi')\n",
    "nomi.loc[7]=('56564','Giorgia Ramarindo Mazziconi srl','Amica Chic Srl')\n",
    "nomi.loc[8]=('81324','Giorgia R. Mazziconi srl','Amica Chic S.r.l.')\n",
    "nomi.loc[9]=('78789','Giorgia R. Mazziconi srl','Amica Chic S. r. l.')\n",
    "nomi.loc[10]=('12895','Giorgia R.Mazziconi','Giancarlo Mazziconi')"
   ]
  },
  {
   "cell_type": "code",
   "execution_count": 3,
   "metadata": {
    "collapsed": false
   },
   "outputs": [
    {
     "data": {
      "text/html": [
       "<div>\n",
       "<table border=\"1\" class=\"dataframe\">\n",
       "  <thead>\n",
       "    <tr style=\"text-align: right;\">\n",
       "      <th></th>\n",
       "      <th>COD_MOVIMENTO</th>\n",
       "      <th>ORDINANTE</th>\n",
       "      <th>BENEFICIARIO</th>\n",
       "    </tr>\n",
       "  </thead>\n",
       "  <tbody>\n",
       "    <tr>\n",
       "      <th>0</th>\n",
       "      <td>12536</td>\n",
       "      <td>Aldo Vanni - Remo Stazzi</td>\n",
       "      <td>Stazzi Giorgia</td>\n",
       "    </tr>\n",
       "    <tr>\n",
       "      <th>1</th>\n",
       "      <td>65879</td>\n",
       "      <td>Aldo Vanni - Remo Stazzi</td>\n",
       "      <td>Stazzi Remo</td>\n",
       "    </tr>\n",
       "    <tr>\n",
       "      <th>2</th>\n",
       "      <td>14235</td>\n",
       "      <td>Aldo Vanni Remo Stazzi</td>\n",
       "      <td>Gloria Neppi</td>\n",
       "    </tr>\n",
       "    <tr>\n",
       "      <th>3</th>\n",
       "      <td>31567</td>\n",
       "      <td>Giorgia Stazzi, Remo Stazzi</td>\n",
       "      <td>Giacinto Oscano</td>\n",
       "    </tr>\n",
       "    <tr>\n",
       "      <th>4</th>\n",
       "      <td>98989</td>\n",
       "      <td>Giorgia Stazzi/Remo Stazzi</td>\n",
       "      <td>Giacinto Oscano</td>\n",
       "    </tr>\n",
       "    <tr>\n",
       "      <th>5</th>\n",
       "      <td>98987</td>\n",
       "      <td>Giorgia Ramarindo Mazziconi</td>\n",
       "      <td>Giorgia Stazzi</td>\n",
       "    </tr>\n",
       "    <tr>\n",
       "      <th>6</th>\n",
       "      <td>54543</td>\n",
       "      <td>Giorgia R. Mazziconi</td>\n",
       "      <td>Giorgia Stazzi</td>\n",
       "    </tr>\n",
       "    <tr>\n",
       "      <th>7</th>\n",
       "      <td>56564</td>\n",
       "      <td>Giorgia Ramarindo Mazziconi srl</td>\n",
       "      <td>Amica Chic Srl</td>\n",
       "    </tr>\n",
       "    <tr>\n",
       "      <th>8</th>\n",
       "      <td>81324</td>\n",
       "      <td>Giorgia R. Mazziconi srl</td>\n",
       "      <td>Amica Chic S.r.l.</td>\n",
       "    </tr>\n",
       "    <tr>\n",
       "      <th>9</th>\n",
       "      <td>78789</td>\n",
       "      <td>Giorgia R. Mazziconi srl</td>\n",
       "      <td>Amica Chic S. r. l.</td>\n",
       "    </tr>\n",
       "    <tr>\n",
       "      <th>10</th>\n",
       "      <td>12895</td>\n",
       "      <td>Giorgia R.Mazziconi</td>\n",
       "      <td>Giancarlo Mazziconi</td>\n",
       "    </tr>\n",
       "  </tbody>\n",
       "</table>\n",
       "</div>"
      ],
      "text/plain": [
       "   COD_MOVIMENTO                        ORDINANTE         BENEFICIARIO\n",
       "0          12536         Aldo Vanni - Remo Stazzi       Stazzi Giorgia\n",
       "1          65879         Aldo Vanni - Remo Stazzi          Stazzi Remo\n",
       "2          14235           Aldo Vanni Remo Stazzi         Gloria Neppi\n",
       "3          31567      Giorgia Stazzi, Remo Stazzi      Giacinto Oscano\n",
       "4          98989       Giorgia Stazzi/Remo Stazzi      Giacinto Oscano\n",
       "5          98987      Giorgia Ramarindo Mazziconi       Giorgia Stazzi\n",
       "6          54543             Giorgia R. Mazziconi       Giorgia Stazzi\n",
       "7          56564  Giorgia Ramarindo Mazziconi srl       Amica Chic Srl\n",
       "8          81324         Giorgia R. Mazziconi srl    Amica Chic S.r.l.\n",
       "9          78789         Giorgia R. Mazziconi srl  Amica Chic S. r. l.\n",
       "10         12895              Giorgia R.Mazziconi  Giancarlo Mazziconi"
      ]
     },
     "execution_count": 3,
     "metadata": {},
     "output_type": "execute_result"
    }
   ],
   "source": [
    "nomi"
   ]
  },
  {
   "cell_type": "code",
   "execution_count": 4,
   "metadata": {
    "collapsed": false
   },
   "outputs": [
    {
     "data": {
      "text/plain": [
       "COD_MOVIMENTO    object\n",
       "ORDINANTE        object\n",
       "BENEFICIARIO     object\n",
       "dtype: object"
      ]
     },
     "execution_count": 4,
     "metadata": {},
     "output_type": "execute_result"
    }
   ],
   "source": [
    "nomi.dtypes"
   ]
  },
  {
   "cell_type": "code",
   "execution_count": 5,
   "metadata": {
    "collapsed": false
   },
   "outputs": [
    {
     "name": "stdout",
     "output_type": "stream",
     "text": [
      " e  e unk\n",
      "['e', 'e', 'unk']\n",
      "['unk', 'e']\n"
     ]
    }
   ],
   "source": [
    "#TEST\n",
    "print 'Tette/unK'.lower().replace('/',' ').replace('t',' ')\n",
    "print 'Tette/unK'.lower().replace('/',' ').replace('t',' ').split()\n",
    "print list(set('Tette/unK'.lower().replace('/',' ').replace('t',' ').split()))"
   ]
  },
  {
   "cell_type": "code",
   "execution_count": 6,
   "metadata": {
    "collapsed": false
   },
   "outputs": [
    {
     "name": "stdout",
     "output_type": "stream",
     "text": [
      "(1302, 2)\n",
      "(927, 2)\n"
     ]
    }
   ],
   "source": [
    "nomi_femminili = pd.read_csv('nomi_femminili_fascia_eta_2013.csv',usecols=['nome','frequenza'])\n",
    "nomi_maschili = pd.read_csv('nomi_maschili_fascia_eta_2013.csv',usecols=['nome','frequenza'])\n",
    "print nomi_femminili.shape\n",
    "print nomi_maschili.shape"
   ]
  },
  {
   "cell_type": "code",
   "execution_count": 7,
   "metadata": {
    "collapsed": false
   },
   "outputs": [
    {
     "data": {
      "text/html": [
       "<div>\n",
       "<table border=\"1\" class=\"dataframe\">\n",
       "  <thead>\n",
       "    <tr style=\"text-align: right;\">\n",
       "      <th></th>\n",
       "      <th>nome</th>\n",
       "      <th>frequenza</th>\n",
       "    </tr>\n",
       "  </thead>\n",
       "  <tbody>\n",
       "    <tr>\n",
       "      <th>0</th>\n",
       "      <td>GIULIA</td>\n",
       "      <td>561</td>\n",
       "    </tr>\n",
       "    <tr>\n",
       "      <th>1</th>\n",
       "      <td>SOFIA</td>\n",
       "      <td>507</td>\n",
       "    </tr>\n",
       "    <tr>\n",
       "      <th>2</th>\n",
       "      <td>SARA</td>\n",
       "      <td>372</td>\n",
       "    </tr>\n",
       "    <tr>\n",
       "      <th>3</th>\n",
       "      <td>EMMA</td>\n",
       "      <td>276</td>\n",
       "    </tr>\n",
       "    <tr>\n",
       "      <th>4</th>\n",
       "      <td>MATILDE</td>\n",
       "      <td>262</td>\n",
       "    </tr>\n",
       "  </tbody>\n",
       "</table>\n",
       "</div>"
      ],
      "text/plain": [
       "      nome  frequenza\n",
       "0   GIULIA        561\n",
       "1    SOFIA        507\n",
       "2     SARA        372\n",
       "3     EMMA        276\n",
       "4  MATILDE        262"
      ]
     },
     "execution_count": 7,
     "metadata": {},
     "output_type": "execute_result"
    }
   ],
   "source": [
    "nomi_femminili.head()"
   ]
  },
  {
   "cell_type": "code",
   "execution_count": 8,
   "metadata": {
    "collapsed": false
   },
   "outputs": [
    {
     "name": "stdout",
     "output_type": "stream",
     "text": [
      "     nome  frequenza\n",
      "329  CIRO         26\n",
      "     nome  frequenza\n",
      "450  CIRO         29\n",
      "     nome  frequenza\n",
      "579  CIRO         24\n"
     ]
    }
   ],
   "source": [
    "#TEST\n",
    "for i in nomi_maschili.index:\n",
    "    if nomi_maschili['nome'][i]=='CIRO': print nomi_maschili[i:i+1]"
   ]
  },
  {
   "cell_type": "code",
   "execution_count": 9,
   "metadata": {
    "collapsed": false,
    "scrolled": true
   },
   "outputs": [
    {
     "name": "stdout",
     "output_type": "stream",
     "text": [
      "(344, 2)\n",
      "(217, 2)\n"
     ]
    }
   ],
   "source": [
    "nomi_femminili = pd.DataFrame(nomi_femminili.groupby(['nome'],as_index=False)['frequenza'].sum())\n",
    "nomi_maschili = pd.DataFrame(nomi_maschili.groupby(['nome'],as_index=False)['frequenza'].sum())\n",
    "print nomi_femminili.shape\n",
    "print nomi_maschili.shape"
   ]
  },
  {
   "cell_type": "code",
   "execution_count": 10,
   "metadata": {
    "collapsed": false
   },
   "outputs": [
    {
     "name": "stdout",
     "output_type": "stream",
     "text": [
      "    nome  frequenza\n",
      "36  CIRO         79\n"
     ]
    }
   ],
   "source": [
    "#TEST\n",
    "for i in nomi_maschili.index:\n",
    "    if nomi_maschili['nome'][i]=='CIRO': print nomi_maschili[i:i+1]"
   ]
  },
  {
   "cell_type": "code",
   "execution_count": 11,
   "metadata": {
    "collapsed": false
   },
   "outputs": [
    {
     "name": "stdout",
     "output_type": "stream",
     "text": [
      "(561, 2)\n",
      "561\n"
     ]
    }
   ],
   "source": [
    "nomi_italiani = nomi_femminili.merge(nomi_maschili, how='outer')\n",
    "print nomi_italiani.shape\n",
    "print nomi_femminili.shape[0]+nomi_maschili.shape[0]"
   ]
  },
  {
   "cell_type": "markdown",
   "metadata": {},
   "source": [
    "# Algoritmo innestato"
   ]
  },
  {
   "cell_type": "markdown",
   "metadata": {},
   "source": [
    "## matchin_ordinante_beneficiario\n",
    "### --- matchin_evaluation\n",
    "#### ------ check_match\n",
    "##### --------- name_cleaner"
   ]
  },
  {
   "cell_type": "code",
   "execution_count": 12,
   "metadata": {
    "collapsed": false
   },
   "outputs": [],
   "source": [
    "def name_cleaner (self, *common_names):\n",
    "    self = self.lower().replace('/',' ').replace('-',' ').replace(',',' ').replace('.',' ')\\\n",
    "        .replace('srl',' ').replace('s r l',' ').replace('s  r  l',' ')\\\n",
    "        .replace('spa',' ').replace('s p a',' ').replace('s  p  a',' ')\n",
    "    try:\n",
    "        for each_common_names in common_names[0]:\n",
    "            self = self.replace(each_common_names.lower(),' ')\n",
    "    except: pass\n",
    "    return self"
   ]
  },
  {
   "cell_type": "code",
   "execution_count": 13,
   "metadata": {
    "collapsed": false
   },
   "outputs": [
    {
     "name": "stdout",
     "output_type": "stream",
     "text": [
      "tette unk     vanessa\n",
      "tette unk      \n"
     ]
    }
   ],
   "source": [
    "#TEST\n",
    "print name_cleaner('Tette/unK.spa s.r.L Vanessa')\n",
    "print name_cleaner('Tette/unK.spa s.r.L Vanessa', nomi_italiani['nome'])"
   ]
  },
  {
   "cell_type": "code",
   "execution_count": 14,
   "metadata": {
    "collapsed": false
   },
   "outputs": [
    {
     "data": {
      "text/plain": [
       "'Aldo Vanni - Remo Stazzi'"
      ]
     },
     "execution_count": 14,
     "metadata": {},
     "output_type": "execute_result"
    }
   ],
   "source": [
    "#TEST\n",
    "nomi['ORDINANTE'][0]"
   ]
  },
  {
   "cell_type": "code",
   "execution_count": 15,
   "metadata": {
    "collapsed": false
   },
   "outputs": [],
   "source": [
    "def check_match (nameA, nameB, *common_names):\n",
    "    ordinante = name_cleaner(nameA, *common_names)\n",
    "    partial_ordinante = list(set(ordinante.split()))\n",
    "    print partial_ordinante\n",
    "    \n",
    "    beneficiario = name_cleaner(nameB, *common_names)\n",
    "    partial_beneficiario = list(set(beneficiario.split()))\n",
    "    print partial_beneficiario\n",
    "    \n",
    "    names_union =partial_ordinante + partial_beneficiario\n",
    "    wordcounts={}\n",
    "    for single_word in names_union:\n",
    "        wordcounts[single_word] = names_union.count(single_word)\n",
    "    print wordcounts\n",
    "    print wordcounts.values()\n",
    "    print wordcounts.values().count(2)\n",
    "    match = wordcounts.values().count(2)\n",
    "    return match\n",
    "    # Se match = 1 --> nome o cognome,\n",
    "    # se match = 2 --> (nome e nome) o (nome e cognome) o (cognome e cognome)\n",
    "    # se match = 3 --> forte possibilità se stesso"
   ]
  },
  {
   "cell_type": "code",
   "execution_count": 16,
   "metadata": {
    "collapsed": false
   },
   "outputs": [],
   "source": [
    "def matching_evaluation(data, output_column_name, nameA, nameB, *common_names):\n",
    "    data[output_column_name] = 0\n",
    "    for row in data.index:\n",
    "        data[output_column_name][row] = check_match(data[nameA][row],data[nameB][row],*common_names)"
   ]
  },
  {
   "cell_type": "code",
   "execution_count": null,
   "metadata": {
    "collapsed": true
   },
   "outputs": [],
   "source": [
    "#TEST\n",
    "matching_valuation(nomi, 'MATCH_NAMES_AND_SURNAMES','ORDINANTE', 'BENEFICIARIO')"
   ]
  },
  {
   "cell_type": "code",
   "execution_count": null,
   "metadata": {
    "collapsed": true
   },
   "outputs": [],
   "source": [
    "#TEST\n",
    "nomi"
   ]
  },
  {
   "cell_type": "code",
   "execution_count": null,
   "metadata": {
    "collapsed": true
   },
   "outputs": [],
   "source": [
    "#TEST\n",
    "matching_valuation(nomi, 'MATCH_SURNAMES','ORDINANTE', 'BENEFICIARIO', nomi_italiani['nome'])"
   ]
  },
  {
   "cell_type": "code",
   "execution_count": null,
   "metadata": {
    "collapsed": true
   },
   "outputs": [],
   "source": [
    "#TEST\n",
    "nomi"
   ]
  },
  {
   "cell_type": "code",
   "execution_count": null,
   "metadata": {
    "collapsed": true
   },
   "outputs": [],
   "source": [
    "#TEST\n",
    "def rinomina(nomissimi):\n",
    "    nomissimi = nomissimi.rename(columns={'COD_MOVIMENTO':'COD'})\n",
    "    return nomissimi\n",
    "    \n",
    "rinomina(nomi)\n",
    "#se rinominago dentro funzione fuori dalla funzione non cambia nulla "
   ]
  },
  {
   "cell_type": "code",
   "execution_count": 17,
   "metadata": {
    "collapsed": false
   },
   "outputs": [
    {
     "data": {
      "text/plain": [
       "'COD_MOVIMENTO'"
      ]
     },
     "execution_count": 17,
     "metadata": {},
     "output_type": "execute_result"
    }
   ],
   "source": [
    "#TEST\n",
    "nomi.columns[0]"
   ]
  },
  {
   "cell_type": "code",
   "execution_count": 18,
   "metadata": {
    "collapsed": false
   },
   "outputs": [
    {
     "name": "stdout",
     "output_type": "stream",
     "text": [
      "a --> 1\n",
      "b --> 1\n",
      "c --> ()\n",
      "d --> {'nome_file': 'rabarbaro'}\n",
      "d(value) --> rabarbaro\n"
     ]
    }
   ],
   "source": [
    "#TEST\n",
    "def funzio (a,b,*c,**d):\n",
    "    print 'a -->',a\n",
    "    print 'b -->',a\n",
    "    print 'c -->',c\n",
    "    print 'd -->',d\n",
    "    print 'd(value) -->',d['nome_file']\n",
    "    \n",
    "funzio(1,'abv', nome_file = 'rabarbaro')"
   ]
  },
  {
   "cell_type": "code",
   "execution_count": 19,
   "metadata": {
    "collapsed": true
   },
   "outputs": [],
   "source": [
    "#TEST\n",
    "nomi.to_csv('matching_ordinante_beneficiario.csv',columns=[nomi.columns[0],'ORDINANTE','BENEFICIARIO','MATCH'],index=False)"
   ]
  },
  {
   "cell_type": "code",
   "execution_count": 20,
   "metadata": {
    "collapsed": false
   },
   "outputs": [],
   "source": [
    "def matching_ordinante_beneficiario (data, output_column_name, nameA, nameB, *common_names, **output_file_csv):\n",
    "    output_column_name = output_column_name.upper()\n",
    "    matching_evaluation(data, output_column_name+'_NAMES_AND_SURNAMES', nameA, nameB)\n",
    "    if common_names is not ():\n",
    "        matching_evaluation(data, output_column_name+'_SURNAMES', nameA, nameB, *common_names)\n",
    "        data[output_column_name] = data[output_column_name+'_NAMES_AND_SURNAMES']+data[output_column_name+'_SURNAMES']\n",
    "    try:\n",
    "        data.to_csv(output_file_csv['nome_file'], columns=[data.columns[0],nameA,nameB, data.columns[-1]],index=False)\n",
    "    except: pass\n",
    "    print 'COD -->',data.columns[0]    \n",
    "    '''\n",
    "    Se output_column_name >= 3 ->> probabile SE STESSO,\n",
    "    se output_column_name = 2 ->> probabile PARENTE (stesso cognome),\n",
    "    se output_column_name = 1 ->> li accomuna solo il nome di battesimo\n",
    "    se output_column_name = 0 ->> no match\n",
    "    '''"
   ]
  },
  {
   "cell_type": "code",
   "execution_count": 21,
   "metadata": {
    "collapsed": false
   },
   "outputs": [
    {
     "name": "stdout",
     "output_type": "stream",
     "text": [
      "['aldo', 'stazzi', 'vanni', 'remo']\n",
      "['stazzi', 'giorgia']\n",
      "{'aldo': 1, 'stazzi': 2, 'giorgia': 1, 'vanni': 1, 'remo': 1}\n",
      "[1, 2, 1, 1, 1]\n",
      "1\n",
      "['aldo', 'stazzi', 'vanni', 'remo']\n",
      "['stazzi', 'remo']\n",
      "{'aldo': 1, 'stazzi': 2, 'vanni': 1, 'remo': 2}\n",
      "[1, 2, 1, 2]\n",
      "2\n",
      "['aldo', 'stazzi', 'vanni', 'remo']\n",
      "['neppi', 'gloria']\n",
      "{'stazzi': 1, 'aldo': 1, 'remo': 1, 'neppi': 1, 'vanni': 1, 'gloria': 1}\n",
      "[1, 1, 1, 1, 1, 1]\n",
      "0\n",
      "['stazzi', 'remo', 'giorgia']\n",
      "['oscano', 'giacinto']\n",
      "{'oscano': 1, 'stazzi': 1, 'giacinto': 1, 'giorgia': 1, 'remo': 1}\n",
      "[1, 1, 1, 1, 1]\n",
      "0\n",
      "['stazzi', 'remo', 'giorgia']\n",
      "['oscano', 'giacinto']\n",
      "{'oscano': 1, 'stazzi': 1, 'giacinto': 1, 'giorgia': 1, 'remo': 1}\n",
      "[1, 1, 1, 1, 1]\n",
      "0\n",
      "['ramarindo', 'mazziconi', 'giorgia']\n",
      "['stazzi', 'giorgia']\n",
      "{'stazzi': 1, 'ramarindo': 1, 'mazziconi': 1, 'giorgia': 2}\n",
      "[1, 1, 1, 2]\n",
      "1\n",
      "['r', 'mazziconi', 'giorgia']\n",
      "['stazzi', 'giorgia']\n",
      "{'stazzi': 1, 'r': 1, 'mazziconi': 1, 'giorgia': 2}\n",
      "[1, 1, 1, 2]\n",
      "1\n",
      "['ramarindo', 'mazziconi', 'giorgia']\n",
      "['chic', 'amica']\n",
      "{'chic': 1, 'ramarindo': 1, 'mazziconi': 1, 'amica': 1, 'giorgia': 1}\n",
      "[1, 1, 1, 1, 1]\n",
      "0\n",
      "['r', 'mazziconi', 'giorgia']\n",
      "['chic', 'amica']\n",
      "{'chic': 1, 'amica': 1, 'r': 1, 'mazziconi': 1, 'giorgia': 1}\n",
      "[1, 1, 1, 1, 1]\n",
      "0\n",
      "['r', 'mazziconi', 'giorgia']\n",
      "['chic', 'amica']\n",
      "{'chic': 1, 'amica': 1, 'r': 1, 'mazziconi': 1, 'giorgia': 1}\n",
      "[1, 1, 1, 1, 1]\n",
      "0\n",
      "['r', 'mazziconi', 'giorgia']\n",
      "['giancarlo', 'mazziconi']\n",
      "{'giancarlo': 1, 'r': 1, 'mazziconi': 2, 'giorgia': 1}\n",
      "[1, 1, 2, 1]\n",
      "1\n",
      "['stazzi']\n",
      "['stazzi']\n",
      "{'stazzi': 2}\n",
      "[2]\n",
      "1\n",
      "['stazzi']\n",
      "['stazzi']\n",
      "{'stazzi': 2}\n",
      "[2]\n",
      "1\n",
      "['stazzi']\n",
      "['neppi']\n",
      "{'stazzi': 1, 'neppi': 1}\n",
      "[1, 1]\n",
      "0\n",
      "['stazzi']\n",
      "['oscano', 'giacinto']\n",
      "{'stazzi': 1, 'giacinto': 1, 'oscano': 1}\n",
      "[1, 1, 1]\n",
      "0\n",
      "['stazzi']\n",
      "['oscano', 'giacinto']\n",
      "{'stazzi': 1, 'giacinto': 1, 'oscano': 1}\n",
      "[1, 1, 1]\n",
      "0\n",
      "['ramarindo', 'mazziconi']\n",
      "['stazzi']\n",
      "{'stazzi': 1, 'ramarindo': 1, 'mazziconi': 1}\n",
      "[1, 1, 1]\n",
      "0\n",
      "['r', 'mazziconi']\n",
      "['stazzi']\n",
      "{'stazzi': 1, 'r': 1, 'mazziconi': 1}\n",
      "[1, 1, 1]\n",
      "0\n",
      "['ramarindo', 'mazziconi']\n",
      "['chic', 'amica']\n",
      "{'chic': 1, 'ramarindo': 1, 'mazziconi': 1, 'amica': 1}\n",
      "[1, 1, 1, 1]\n",
      "0\n",
      "['r', 'mazziconi']\n",
      "['chic', 'amica']\n",
      "{'chic': 1, 'amica': 1, 'r': 1, 'mazziconi': 1}\n",
      "[1, 1, 1, 1]\n",
      "0\n",
      "['r', 'mazziconi']\n",
      "['chic', 'amica']\n",
      "{'chic': 1, 'amica': 1, 'r': 1, 'mazziconi': 1}\n",
      "[1, 1, 1, 1]\n",
      "0\n",
      "['r', 'mazziconi']\n",
      "['mazziconi', 'gian']\n",
      "{'r': 1, 'mazziconi': 2, 'gian': 1}\n",
      "[1, 2, 1]\n",
      "1\n",
      "COD --> COD_MOVIMENTO\n"
     ]
    },
    {
     "name": "stderr",
     "output_type": "stream",
     "text": [
      "/Library/Frameworks/Python.framework/Versions/2.7/lib/python2.7/site-packages/IPython/kernel/__main__.py:4: SettingWithCopyWarning: \n",
      "A value is trying to be set on a copy of a slice from a DataFrame\n",
      "\n",
      "See the caveats in the documentation: http://pandas.pydata.org/pandas-docs/stable/indexing.html#indexing-view-versus-copy\n"
     ]
    }
   ],
   "source": [
    "matching_ordinante_beneficiario(nomi, 'matcH','ORDINANTE', 'BENEFICIARIO', nomi_italiani['nome'],\\\n",
    "                                nome_file = 'matching_ordinante_beneficiario.csv')"
   ]
  },
  {
   "cell_type": "code",
   "execution_count": null,
   "metadata": {
    "collapsed": true
   },
   "outputs": [],
   "source": [
    "#TEST\n",
    "matching_ordinante_beneficiario(nomi, 'matcH','ORDINANTE', 'BENEFICIARIO', nomi_italiani['nome'])"
   ]
  },
  {
   "cell_type": "code",
   "execution_count": null,
   "metadata": {
    "collapsed": true
   },
   "outputs": [],
   "source": [
    "#TEST\n",
    "matching_ordinante_beneficiario(nomi, 'matcH','ORDINANTE', 'BENEFICIARIO',\\\n",
    "                                nome_file = 'matching_ordinante_beneficiario.csv')"
   ]
  },
  {
   "cell_type": "code",
   "execution_count": null,
   "metadata": {
    "collapsed": true
   },
   "outputs": [],
   "source": [
    "#TEST\n",
    "matching_ordinante_beneficiario(nomi, 'matcH','ORDINANTE', 'BENEFICIARIO')"
   ]
  },
  {
   "cell_type": "code",
   "execution_count": 22,
   "metadata": {
    "collapsed": false
   },
   "outputs": [
    {
     "data": {
      "text/html": [
       "<div>\n",
       "<table border=\"1\" class=\"dataframe\">\n",
       "  <thead>\n",
       "    <tr style=\"text-align: right;\">\n",
       "      <th></th>\n",
       "      <th>COD_MOVIMENTO</th>\n",
       "      <th>ORDINANTE</th>\n",
       "      <th>BENEFICIARIO</th>\n",
       "      <th>MATCH_NAMES_AND_SURNAMES</th>\n",
       "      <th>MATCH_SURNAMES</th>\n",
       "      <th>MATCH</th>\n",
       "    </tr>\n",
       "  </thead>\n",
       "  <tbody>\n",
       "    <tr>\n",
       "      <th>0</th>\n",
       "      <td>12536</td>\n",
       "      <td>Aldo Vanni - Remo Stazzi</td>\n",
       "      <td>Stazzi Giorgia</td>\n",
       "      <td>1</td>\n",
       "      <td>1</td>\n",
       "      <td>2</td>\n",
       "    </tr>\n",
       "    <tr>\n",
       "      <th>1</th>\n",
       "      <td>65879</td>\n",
       "      <td>Aldo Vanni - Remo Stazzi</td>\n",
       "      <td>Stazzi Remo</td>\n",
       "      <td>2</td>\n",
       "      <td>1</td>\n",
       "      <td>3</td>\n",
       "    </tr>\n",
       "    <tr>\n",
       "      <th>2</th>\n",
       "      <td>14235</td>\n",
       "      <td>Aldo Vanni Remo Stazzi</td>\n",
       "      <td>Gloria Neppi</td>\n",
       "      <td>0</td>\n",
       "      <td>0</td>\n",
       "      <td>0</td>\n",
       "    </tr>\n",
       "    <tr>\n",
       "      <th>3</th>\n",
       "      <td>31567</td>\n",
       "      <td>Giorgia Stazzi, Remo Stazzi</td>\n",
       "      <td>Giacinto Oscano</td>\n",
       "      <td>0</td>\n",
       "      <td>0</td>\n",
       "      <td>0</td>\n",
       "    </tr>\n",
       "    <tr>\n",
       "      <th>4</th>\n",
       "      <td>98989</td>\n",
       "      <td>Giorgia Stazzi/Remo Stazzi</td>\n",
       "      <td>Giacinto Oscano</td>\n",
       "      <td>0</td>\n",
       "      <td>0</td>\n",
       "      <td>0</td>\n",
       "    </tr>\n",
       "    <tr>\n",
       "      <th>5</th>\n",
       "      <td>98987</td>\n",
       "      <td>Giorgia Ramarindo Mazziconi</td>\n",
       "      <td>Giorgia Stazzi</td>\n",
       "      <td>1</td>\n",
       "      <td>0</td>\n",
       "      <td>1</td>\n",
       "    </tr>\n",
       "    <tr>\n",
       "      <th>6</th>\n",
       "      <td>54543</td>\n",
       "      <td>Giorgia R. Mazziconi</td>\n",
       "      <td>Giorgia Stazzi</td>\n",
       "      <td>1</td>\n",
       "      <td>0</td>\n",
       "      <td>1</td>\n",
       "    </tr>\n",
       "    <tr>\n",
       "      <th>7</th>\n",
       "      <td>56564</td>\n",
       "      <td>Giorgia Ramarindo Mazziconi srl</td>\n",
       "      <td>Amica Chic Srl</td>\n",
       "      <td>0</td>\n",
       "      <td>0</td>\n",
       "      <td>0</td>\n",
       "    </tr>\n",
       "    <tr>\n",
       "      <th>8</th>\n",
       "      <td>81324</td>\n",
       "      <td>Giorgia R. Mazziconi srl</td>\n",
       "      <td>Amica Chic S.r.l.</td>\n",
       "      <td>0</td>\n",
       "      <td>0</td>\n",
       "      <td>0</td>\n",
       "    </tr>\n",
       "    <tr>\n",
       "      <th>9</th>\n",
       "      <td>78789</td>\n",
       "      <td>Giorgia R. Mazziconi srl</td>\n",
       "      <td>Amica Chic S. r. l.</td>\n",
       "      <td>0</td>\n",
       "      <td>0</td>\n",
       "      <td>0</td>\n",
       "    </tr>\n",
       "    <tr>\n",
       "      <th>10</th>\n",
       "      <td>12895</td>\n",
       "      <td>Giorgia R.Mazziconi</td>\n",
       "      <td>Giancarlo Mazziconi</td>\n",
       "      <td>1</td>\n",
       "      <td>1</td>\n",
       "      <td>2</td>\n",
       "    </tr>\n",
       "  </tbody>\n",
       "</table>\n",
       "</div>"
      ],
      "text/plain": [
       "   COD_MOVIMENTO                        ORDINANTE         BENEFICIARIO  \\\n",
       "0          12536         Aldo Vanni - Remo Stazzi       Stazzi Giorgia   \n",
       "1          65879         Aldo Vanni - Remo Stazzi          Stazzi Remo   \n",
       "2          14235           Aldo Vanni Remo Stazzi         Gloria Neppi   \n",
       "3          31567      Giorgia Stazzi, Remo Stazzi      Giacinto Oscano   \n",
       "4          98989       Giorgia Stazzi/Remo Stazzi      Giacinto Oscano   \n",
       "5          98987      Giorgia Ramarindo Mazziconi       Giorgia Stazzi   \n",
       "6          54543             Giorgia R. Mazziconi       Giorgia Stazzi   \n",
       "7          56564  Giorgia Ramarindo Mazziconi srl       Amica Chic Srl   \n",
       "8          81324         Giorgia R. Mazziconi srl    Amica Chic S.r.l.   \n",
       "9          78789         Giorgia R. Mazziconi srl  Amica Chic S. r. l.   \n",
       "10         12895              Giorgia R.Mazziconi  Giancarlo Mazziconi   \n",
       "\n",
       "    MATCH_NAMES_AND_SURNAMES  MATCH_SURNAMES  MATCH  \n",
       "0                          1               1      2  \n",
       "1                          2               1      3  \n",
       "2                          0               0      0  \n",
       "3                          0               0      0  \n",
       "4                          0               0      0  \n",
       "5                          1               0      1  \n",
       "6                          1               0      1  \n",
       "7                          0               0      0  \n",
       "8                          0               0      0  \n",
       "9                          0               0      0  \n",
       "10                         1               1      2  "
      ]
     },
     "execution_count": 22,
     "metadata": {},
     "output_type": "execute_result"
    }
   ],
   "source": [
    "nomi"
   ]
  },
  {
   "cell_type": "code",
   "execution_count": 23,
   "metadata": {
    "collapsed": false
   },
   "outputs": [
    {
     "data": {
      "text/plain": [
       "COD_MOVIMENTO               object\n",
       "ORDINANTE                   object\n",
       "BENEFICIARIO                object\n",
       "MATCH_NAMES_AND_SURNAMES     int64\n",
       "MATCH_SURNAMES               int64\n",
       "MATCH                        int64\n",
       "dtype: object"
      ]
     },
     "execution_count": 23,
     "metadata": {},
     "output_type": "execute_result"
    }
   ],
   "source": [
    "nomi.dtypes"
   ]
  },
  {
   "cell_type": "code",
   "execution_count": 24,
   "metadata": {
    "collapsed": false
   },
   "outputs": [
    {
     "data": {
      "text/html": [
       "<div>\n",
       "<table border=\"1\" class=\"dataframe\">\n",
       "  <thead>\n",
       "    <tr style=\"text-align: right;\">\n",
       "      <th></th>\n",
       "      <th>COD_MOVIMENTO</th>\n",
       "      <th>ORDINANTE</th>\n",
       "      <th>BENEFICIARIO</th>\n",
       "      <th>MATCH</th>\n",
       "    </tr>\n",
       "  </thead>\n",
       "  <tbody>\n",
       "    <tr>\n",
       "      <th>0</th>\n",
       "      <td>12536</td>\n",
       "      <td>Aldo Vanni - Remo Stazzi</td>\n",
       "      <td>Stazzi Giorgia</td>\n",
       "      <td>2</td>\n",
       "    </tr>\n",
       "    <tr>\n",
       "      <th>1</th>\n",
       "      <td>65879</td>\n",
       "      <td>Aldo Vanni - Remo Stazzi</td>\n",
       "      <td>Stazzi Remo</td>\n",
       "      <td>3</td>\n",
       "    </tr>\n",
       "    <tr>\n",
       "      <th>2</th>\n",
       "      <td>14235</td>\n",
       "      <td>Aldo Vanni Remo Stazzi</td>\n",
       "      <td>Gloria Neppi</td>\n",
       "      <td>0</td>\n",
       "    </tr>\n",
       "    <tr>\n",
       "      <th>3</th>\n",
       "      <td>31567</td>\n",
       "      <td>Giorgia Stazzi, Remo Stazzi</td>\n",
       "      <td>Giacinto Oscano</td>\n",
       "      <td>0</td>\n",
       "    </tr>\n",
       "    <tr>\n",
       "      <th>4</th>\n",
       "      <td>98989</td>\n",
       "      <td>Giorgia Stazzi/Remo Stazzi</td>\n",
       "      <td>Giacinto Oscano</td>\n",
       "      <td>0</td>\n",
       "    </tr>\n",
       "    <tr>\n",
       "      <th>5</th>\n",
       "      <td>98987</td>\n",
       "      <td>Giorgia Ramarindo Mazziconi</td>\n",
       "      <td>Giorgia Stazzi</td>\n",
       "      <td>1</td>\n",
       "    </tr>\n",
       "    <tr>\n",
       "      <th>6</th>\n",
       "      <td>54543</td>\n",
       "      <td>Giorgia R. Mazziconi</td>\n",
       "      <td>Giorgia Stazzi</td>\n",
       "      <td>1</td>\n",
       "    </tr>\n",
       "    <tr>\n",
       "      <th>7</th>\n",
       "      <td>56564</td>\n",
       "      <td>Giorgia Ramarindo Mazziconi srl</td>\n",
       "      <td>Amica Chic Srl</td>\n",
       "      <td>0</td>\n",
       "    </tr>\n",
       "    <tr>\n",
       "      <th>8</th>\n",
       "      <td>81324</td>\n",
       "      <td>Giorgia R. Mazziconi srl</td>\n",
       "      <td>Amica Chic S.r.l.</td>\n",
       "      <td>0</td>\n",
       "    </tr>\n",
       "    <tr>\n",
       "      <th>9</th>\n",
       "      <td>78789</td>\n",
       "      <td>Giorgia R. Mazziconi srl</td>\n",
       "      <td>Amica Chic S. r. l.</td>\n",
       "      <td>0</td>\n",
       "    </tr>\n",
       "    <tr>\n",
       "      <th>10</th>\n",
       "      <td>12895</td>\n",
       "      <td>Giorgia R.Mazziconi</td>\n",
       "      <td>Giancarlo Mazziconi</td>\n",
       "      <td>2</td>\n",
       "    </tr>\n",
       "  </tbody>\n",
       "</table>\n",
       "</div>"
      ],
      "text/plain": [
       "    COD_MOVIMENTO                        ORDINANTE         BENEFICIARIO  MATCH\n",
       "0           12536         Aldo Vanni - Remo Stazzi       Stazzi Giorgia      2\n",
       "1           65879         Aldo Vanni - Remo Stazzi          Stazzi Remo      3\n",
       "2           14235           Aldo Vanni Remo Stazzi         Gloria Neppi      0\n",
       "3           31567      Giorgia Stazzi, Remo Stazzi      Giacinto Oscano      0\n",
       "4           98989       Giorgia Stazzi/Remo Stazzi      Giacinto Oscano      0\n",
       "5           98987      Giorgia Ramarindo Mazziconi       Giorgia Stazzi      1\n",
       "6           54543             Giorgia R. Mazziconi       Giorgia Stazzi      1\n",
       "7           56564  Giorgia Ramarindo Mazziconi srl       Amica Chic Srl      0\n",
       "8           81324         Giorgia R. Mazziconi srl    Amica Chic S.r.l.      0\n",
       "9           78789         Giorgia R. Mazziconi srl  Amica Chic S. r. l.      0\n",
       "10          12895              Giorgia R.Mazziconi  Giancarlo Mazziconi      2"
      ]
     },
     "execution_count": 24,
     "metadata": {},
     "output_type": "execute_result"
    }
   ],
   "source": [
    "pd.read_csv('matching_ordinante_beneficiario.csv')"
   ]
  },
  {
   "cell_type": "code",
   "execution_count": 25,
   "metadata": {
    "collapsed": false
   },
   "outputs": [
    {
     "data": {
      "text/plain": [
       "COD_MOVIMENTO     int64\n",
       "ORDINANTE        object\n",
       "BENEFICIARIO     object\n",
       "MATCH             int64\n",
       "dtype: object"
      ]
     },
     "execution_count": 25,
     "metadata": {},
     "output_type": "execute_result"
    }
   ],
   "source": [
    "pd.read_csv('matching_ordinante_beneficiario.csv').dtypes"
   ]
  }
 ],
 "metadata": {
  "kernelspec": {
   "display_name": "Python 2",
   "language": "python",
   "name": "python2"
  },
  "language_info": {
   "codemirror_mode": {
    "name": "ipython",
    "version": 2
   },
   "file_extension": ".py",
   "mimetype": "text/x-python",
   "name": "python",
   "nbconvert_exporter": "python",
   "pygments_lexer": "ipython2",
   "version": "2.7.10"
  }
 },
 "nbformat": 4,
 "nbformat_minor": 0
}
