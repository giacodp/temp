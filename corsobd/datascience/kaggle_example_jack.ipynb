{
 "cells": [
  {
   "cell_type": "code",
   "execution_count": 1,
   "metadata": {
    "collapsed": false
   },
   "outputs": [
    {
     "name": "stdout",
     "output_type": "stream",
     "text": [
      "Populating the interactive namespace from numpy and matplotlib\n"
     ]
    }
   ],
   "source": [
    "%pylab inline\n",
    "import pandas as pd"
   ]
  },
  {
   "cell_type": "markdown",
   "metadata": {},
   "source": [
    "# Load the train data"
   ]
  },
  {
   "cell_type": "code",
   "execution_count": 2,
   "metadata": {
    "collapsed": false
   },
   "outputs": [],
   "source": [
    "train_data = pd.read_csv(\"train_data.csv.gz\", compression=\"gzip\", encoding=\"utf8\")"
   ]
  },
  {
   "cell_type": "code",
   "execution_count": 3,
   "metadata": {
    "collapsed": false
   },
   "outputs": [
    {
     "data": {
      "text/html": [
       "<div>\n",
       "<table border=\"1\" class=\"dataframe\">\n",
       "  <thead>\n",
       "    <tr style=\"text-align: right;\">\n",
       "      <th></th>\n",
       "      <th>author</th>\n",
       "      <th>subreddit</th>\n",
       "      <th>created_utc</th>\n",
       "      <th>body</th>\n",
       "    </tr>\n",
       "  </thead>\n",
       "  <tbody>\n",
       "    <tr>\n",
       "      <th>0</th>\n",
       "      <td>ejchristian86</td>\n",
       "      <td>TwoXChromosomes</td>\n",
       "      <td>1.388534e+09</td>\n",
       "      <td>I hadn't ever heard of them before joining thi...</td>\n",
       "    </tr>\n",
       "    <tr>\n",
       "      <th>1</th>\n",
       "      <td>Shamus_Aran</td>\n",
       "      <td>mylittlepony</td>\n",
       "      <td>1.388534e+09</td>\n",
       "      <td>I don't think we'd get nearly as much fanficti...</td>\n",
       "    </tr>\n",
       "    <tr>\n",
       "      <th>2</th>\n",
       "      <td>Riddance</td>\n",
       "      <td>sex</td>\n",
       "      <td>1.388534e+09</td>\n",
       "      <td>Thanks. I made it up, that's how I got over my...</td>\n",
       "    </tr>\n",
       "    <tr>\n",
       "      <th>3</th>\n",
       "      <td>savoytruffle</td>\n",
       "      <td>AskReddit</td>\n",
       "      <td>1.388534e+09</td>\n",
       "      <td>bite me</td>\n",
       "    </tr>\n",
       "    <tr>\n",
       "      <th>4</th>\n",
       "      <td>Secret_Wizard</td>\n",
       "      <td>DragonsDogma</td>\n",
       "      <td>1.388534e+09</td>\n",
       "      <td>Are you sure you aren't confusing Cyclops (the...</td>\n",
       "    </tr>\n",
       "  </tbody>\n",
       "</table>\n",
       "</div>"
      ],
      "text/plain": [
       "          author        subreddit   created_utc  \\\n",
       "0  ejchristian86  TwoXChromosomes  1.388534e+09   \n",
       "1    Shamus_Aran     mylittlepony  1.388534e+09   \n",
       "2       Riddance              sex  1.388534e+09   \n",
       "3   savoytruffle        AskReddit  1.388534e+09   \n",
       "4  Secret_Wizard     DragonsDogma  1.388534e+09   \n",
       "\n",
       "                                                body  \n",
       "0  I hadn't ever heard of them before joining thi...  \n",
       "1  I don't think we'd get nearly as much fanficti...  \n",
       "2  Thanks. I made it up, that's how I got over my...  \n",
       "3                                            bite me  \n",
       "4  Are you sure you aren't confusing Cyclops (the...  "
      ]
     },
     "execution_count": 3,
     "metadata": {},
     "output_type": "execute_result"
    }
   ],
   "source": [
    "train_data.head()"
   ]
  },
  {
   "cell_type": "code",
   "execution_count": 4,
   "metadata": {
    "collapsed": false
   },
   "outputs": [],
   "source": [
    "target = pd.read_csv(\"train_target.csv\")"
   ]
  },
  {
   "cell_type": "code",
   "execution_count": 5,
   "metadata": {
    "collapsed": false
   },
   "outputs": [
    {
     "data": {
      "text/html": [
       "<div>\n",
       "<table border=\"1\" class=\"dataframe\">\n",
       "  <thead>\n",
       "    <tr style=\"text-align: right;\">\n",
       "      <th></th>\n",
       "      <th>author</th>\n",
       "      <th>gender</th>\n",
       "    </tr>\n",
       "  </thead>\n",
       "  <tbody>\n",
       "    <tr>\n",
       "      <th>0</th>\n",
       "      <td>RedThunder90</td>\n",
       "      <td>0</td>\n",
       "    </tr>\n",
       "    <tr>\n",
       "      <th>1</th>\n",
       "      <td>Lirkmor</td>\n",
       "      <td>1</td>\n",
       "    </tr>\n",
       "    <tr>\n",
       "      <th>2</th>\n",
       "      <td>In0chi</td>\n",
       "      <td>0</td>\n",
       "    </tr>\n",
       "    <tr>\n",
       "      <th>3</th>\n",
       "      <td>ProjectGrudge</td>\n",
       "      <td>0</td>\n",
       "    </tr>\n",
       "    <tr>\n",
       "      <th>4</th>\n",
       "      <td>TehTurtleHermit</td>\n",
       "      <td>0</td>\n",
       "    </tr>\n",
       "  </tbody>\n",
       "</table>\n",
       "</div>"
      ],
      "text/plain": [
       "            author  gender\n",
       "0     RedThunder90       0\n",
       "1          Lirkmor       1\n",
       "2           In0chi       0\n",
       "3    ProjectGrudge       0\n",
       "4  TehTurtleHermit       0"
      ]
     },
     "execution_count": 5,
     "metadata": {},
     "output_type": "execute_result"
    }
   ],
   "source": [
    "target.head()"
   ]
  },
  {
   "cell_type": "code",
   "execution_count": 6,
   "metadata": {
    "collapsed": false
   },
   "outputs": [
    {
     "data": {
      "text/html": [
       "<div>\n",
       "<table border=\"1\" class=\"dataframe\">\n",
       "  <thead>\n",
       "    <tr style=\"text-align: right;\">\n",
       "      <th></th>\n",
       "      <th>author</th>\n",
       "      <th>subreddit</th>\n",
       "      <th>created_utc</th>\n",
       "      <th>body</th>\n",
       "    </tr>\n",
       "  </thead>\n",
       "  <tbody>\n",
       "    <tr>\n",
       "      <th>3</th>\n",
       "      <td>savoytruffle</td>\n",
       "      <td>AskReddit</td>\n",
       "      <td>1.388534e+09</td>\n",
       "      <td>bite me</td>\n",
       "    </tr>\n",
       "    <tr>\n",
       "      <th>9</th>\n",
       "      <td>savoytruffle</td>\n",
       "      <td>AskReddit</td>\n",
       "      <td>1.388534e+09</td>\n",
       "      <td>too bad\\n\\nIf I was some thirty starving boys ...</td>\n",
       "    </tr>\n",
       "    <tr>\n",
       "      <th>53</th>\n",
       "      <td>savoytruffle</td>\n",
       "      <td>AskReddit</td>\n",
       "      <td>1.388535e+09</td>\n",
       "      <td>Are there men that don't enjoy sex?</td>\n",
       "    </tr>\n",
       "    <tr>\n",
       "      <th>74</th>\n",
       "      <td>savoytruffle</td>\n",
       "      <td>AskReddit</td>\n",
       "      <td>1.388535e+09</td>\n",
       "      <td>I don't know. I should probably record my pare...</td>\n",
       "    </tr>\n",
       "    <tr>\n",
       "      <th>84</th>\n",
       "      <td>savoytruffle</td>\n",
       "      <td>AskReddit</td>\n",
       "      <td>1.388535e+09</td>\n",
       "      <td>but why?</td>\n",
       "    </tr>\n",
       "    <tr>\n",
       "      <th>91</th>\n",
       "      <td>savoytruffle</td>\n",
       "      <td>AskReddit</td>\n",
       "      <td>1.388535e+09</td>\n",
       "      <td>ouch for her! but that is adorable!</td>\n",
       "    </tr>\n",
       "    <tr>\n",
       "      <th>100</th>\n",
       "      <td>savoytruffle</td>\n",
       "      <td>AskReddit</td>\n",
       "      <td>1.388535e+09</td>\n",
       "      <td>Gay men enjoy sex most of all!</td>\n",
       "    </tr>\n",
       "    <tr>\n",
       "      <th>115</th>\n",
       "      <td>savoytruffle</td>\n",
       "      <td>AskReddit</td>\n",
       "      <td>1.388535e+09</td>\n",
       "      <td>Not on Netflix, but I think via BitTorrent I j...</td>\n",
       "    </tr>\n",
       "    <tr>\n",
       "      <th>169</th>\n",
       "      <td>savoytruffle</td>\n",
       "      <td>AskReddit</td>\n",
       "      <td>1.388535e+09</td>\n",
       "      <td>Probably yes but I believe the grammar for Ame...</td>\n",
       "    </tr>\n",
       "    <tr>\n",
       "      <th>191</th>\n",
       "      <td>savoytruffle</td>\n",
       "      <td>AskReddit</td>\n",
       "      <td>1.388535e+09</td>\n",
       "      <td>Who would say that?</td>\n",
       "    </tr>\n",
       "    <tr>\n",
       "      <th>214</th>\n",
       "      <td>savoytruffle</td>\n",
       "      <td>AskReddit</td>\n",
       "      <td>1.388535e+09</td>\n",
       "      <td>who are you, Duck Dynasty beardey?</td>\n",
       "    </tr>\n",
       "    <tr>\n",
       "      <th>225</th>\n",
       "      <td>savoytruffle</td>\n",
       "      <td>AskReddit</td>\n",
       "      <td>1.388535e+09</td>\n",
       "      <td>My country spends too much money on the milita...</td>\n",
       "    </tr>\n",
       "    <tr>\n",
       "      <th>242</th>\n",
       "      <td>savoytruffle</td>\n",
       "      <td>AskReddit</td>\n",
       "      <td>1.388536e+09</td>\n",
       "      <td>Grade 2 == Second grade.</td>\n",
       "    </tr>\n",
       "    <tr>\n",
       "      <th>261</th>\n",
       "      <td>savoytruffle</td>\n",
       "      <td>AskReddit</td>\n",
       "      <td>1.388536e+09</td>\n",
       "      <td>maybe yes? maybe just for girls</td>\n",
       "    </tr>\n",
       "    <tr>\n",
       "      <th>295</th>\n",
       "      <td>savoytruffle</td>\n",
       "      <td>AskReddit</td>\n",
       "      <td>1.388536e+09</td>\n",
       "      <td>I saw The Killers in like late 2007 in a big a...</td>\n",
       "    </tr>\n",
       "    <tr>\n",
       "      <th>328</th>\n",
       "      <td>savoytruffle</td>\n",
       "      <td>AskReddit</td>\n",
       "      <td>1.388536e+09</td>\n",
       "      <td>It's nonsense</td>\n",
       "    </tr>\n",
       "    <tr>\n",
       "      <th>367</th>\n",
       "      <td>savoytruffle</td>\n",
       "      <td>AskReddit</td>\n",
       "      <td>1.388536e+09</td>\n",
       "      <td>Colin Powell may never live it down. His prese...</td>\n",
       "    </tr>\n",
       "    <tr>\n",
       "      <th>407</th>\n",
       "      <td>savoytruffle</td>\n",
       "      <td>AskReddit</td>\n",
       "      <td>1.388536e+09</td>\n",
       "      <td>The gist is I'm not willing to pay $5 for an i...</td>\n",
       "    </tr>\n",
       "    <tr>\n",
       "      <th>463</th>\n",
       "      <td>savoytruffle</td>\n",
       "      <td>AskReddit</td>\n",
       "      <td>1.388537e+09</td>\n",
       "      <td>Saint Louis is nothing in particular, but the ...</td>\n",
       "    </tr>\n",
       "    <tr>\n",
       "      <th>546</th>\n",
       "      <td>savoytruffle</td>\n",
       "      <td>AskReddit</td>\n",
       "      <td>1.388537e+09</td>\n",
       "      <td>Stouffer's used to have a cheese and broccoli ...</td>\n",
       "    </tr>\n",
       "    <tr>\n",
       "      <th>564</th>\n",
       "      <td>savoytruffle</td>\n",
       "      <td>AskReddit</td>\n",
       "      <td>1.388537e+09</td>\n",
       "      <td>They'll like it no matter what.\\n\\nI don't fuc...</td>\n",
       "    </tr>\n",
       "    <tr>\n",
       "      <th>586</th>\n",
       "      <td>savoytruffle</td>\n",
       "      <td>AskReddit</td>\n",
       "      <td>1.388537e+09</td>\n",
       "      <td>I've had sex at about 7,000 feet above sea lev...</td>\n",
       "    </tr>\n",
       "    <tr>\n",
       "      <th>612</th>\n",
       "      <td>savoytruffle</td>\n",
       "      <td>AskReddit</td>\n",
       "      <td>1.388537e+09</td>\n",
       "      <td>I'm a hardcore liberal.\\n\\nI don't hate anyone...</td>\n",
       "    </tr>\n",
       "    <tr>\n",
       "      <th>638</th>\n",
       "      <td>savoytruffle</td>\n",
       "      <td>AskReddit</td>\n",
       "      <td>1.388538e+09</td>\n",
       "      <td>hah it's always in our nasty basement as he tr...</td>\n",
       "    </tr>\n",
       "    <tr>\n",
       "      <th>662</th>\n",
       "      <td>savoytruffle</td>\n",
       "      <td>AskReddit</td>\n",
       "      <td>1.388538e+09</td>\n",
       "      <td>&amp;gt;I mean couldn't you say the same thing abo...</td>\n",
       "    </tr>\n",
       "    <tr>\n",
       "      <th>677</th>\n",
       "      <td>savoytruffle</td>\n",
       "      <td>AskReddit</td>\n",
       "      <td>1.388538e+09</td>\n",
       "      <td>your mom sounds like a real bitch. I'd like her.</td>\n",
       "    </tr>\n",
       "    <tr>\n",
       "      <th>684</th>\n",
       "      <td>savoytruffle</td>\n",
       "      <td>AskReddit</td>\n",
       "      <td>1.388538e+09</td>\n",
       "      <td>I'd like to see it cut in half so it's still w...</td>\n",
       "    </tr>\n",
       "    <tr>\n",
       "      <th>737</th>\n",
       "      <td>savoytruffle</td>\n",
       "      <td>AskReddit</td>\n",
       "      <td>1.388538e+09</td>\n",
       "      <td>I've never walked out on a movie.</td>\n",
       "    </tr>\n",
       "    <tr>\n",
       "      <th>763</th>\n",
       "      <td>savoytruffle</td>\n",
       "      <td>AskReddit</td>\n",
       "      <td>1.388538e+09</td>\n",
       "      <td>I don't care if you get engaged, will the pare...</td>\n",
       "    </tr>\n",
       "    <tr>\n",
       "      <th>820</th>\n",
       "      <td>savoytruffle</td>\n",
       "      <td>AskReddit</td>\n",
       "      <td>1.388538e+09</td>\n",
       "      <td>That is it. Home Alone. I just watched it last...</td>\n",
       "    </tr>\n",
       "    <tr>\n",
       "      <th>...</th>\n",
       "      <td>...</td>\n",
       "      <td>...</td>\n",
       "      <td>...</td>\n",
       "      <td>...</td>\n",
       "    </tr>\n",
       "    <tr>\n",
       "      <th>737845</th>\n",
       "      <td>savoytruffle</td>\n",
       "      <td>AskReddit</td>\n",
       "      <td>1.391111e+09</td>\n",
       "      <td>You shouldn't hold grudges while driving. You ...</td>\n",
       "    </tr>\n",
       "    <tr>\n",
       "      <th>737885</th>\n",
       "      <td>savoytruffle</td>\n",
       "      <td>AskReddit</td>\n",
       "      <td>1.391111e+09</td>\n",
       "      <td>You can't become the man. The best you can do ...</td>\n",
       "    </tr>\n",
       "    <tr>\n",
       "      <th>737904</th>\n",
       "      <td>savoytruffle</td>\n",
       "      <td>AskReddit</td>\n",
       "      <td>1.391111e+09</td>\n",
       "      <td>Where's best for a burger?</td>\n",
       "    </tr>\n",
       "    <tr>\n",
       "      <th>737935</th>\n",
       "      <td>savoytruffle</td>\n",
       "      <td>AskReddit</td>\n",
       "      <td>1.391111e+09</td>\n",
       "      <td>I love you too but Canada has lower and laxxer...</td>\n",
       "    </tr>\n",
       "    <tr>\n",
       "      <th>737958</th>\n",
       "      <td>savoytruffle</td>\n",
       "      <td>AskReddit</td>\n",
       "      <td>1.391112e+09</td>\n",
       "      <td>/r/newzanada is over there and /r/ameristralia...</td>\n",
       "    </tr>\n",
       "    <tr>\n",
       "      <th>738020</th>\n",
       "      <td>savoytruffle</td>\n",
       "      <td>AskReddit</td>\n",
       "      <td>1.391112e+09</td>\n",
       "      <td>depending on what part of America you're in yo...</td>\n",
       "    </tr>\n",
       "    <tr>\n",
       "      <th>738043</th>\n",
       "      <td>savoytruffle</td>\n",
       "      <td>AskReddit</td>\n",
       "      <td>1.391112e+09</td>\n",
       "      <td>That's a real bummer about Germany still being...</td>\n",
       "    </tr>\n",
       "    <tr>\n",
       "      <th>738071</th>\n",
       "      <td>savoytruffle</td>\n",
       "      <td>AskReddit</td>\n",
       "      <td>1.391112e+09</td>\n",
       "      <td>How'd he get charged with serious crimes in tw...</td>\n",
       "    </tr>\n",
       "    <tr>\n",
       "      <th>738086</th>\n",
       "      <td>savoytruffle</td>\n",
       "      <td>AskReddit</td>\n",
       "      <td>1.391112e+09</td>\n",
       "      <td>oh man Easter is coming up again, too</td>\n",
       "    </tr>\n",
       "    <tr>\n",
       "      <th>738132</th>\n",
       "      <td>savoytruffle</td>\n",
       "      <td>AskReddit</td>\n",
       "      <td>1.391112e+09</td>\n",
       "      <td>The US Constitution is something that most oth...</td>\n",
       "    </tr>\n",
       "    <tr>\n",
       "      <th>738172</th>\n",
       "      <td>savoytruffle</td>\n",
       "      <td>AskReddit</td>\n",
       "      <td>1.391112e+09</td>\n",
       "      <td>Not likely</td>\n",
       "    </tr>\n",
       "    <tr>\n",
       "      <th>738203</th>\n",
       "      <td>savoytruffle</td>\n",
       "      <td>AskReddit</td>\n",
       "      <td>1.391112e+09</td>\n",
       "      <td>I was trying to remember if it was Netherlands...</td>\n",
       "    </tr>\n",
       "    <tr>\n",
       "      <th>738330</th>\n",
       "      <td>savoytruffle</td>\n",
       "      <td>AskReddit</td>\n",
       "      <td>1.391113e+09</td>\n",
       "      <td>There's some new charges in Canada.\\n\\nhttp://...</td>\n",
       "    </tr>\n",
       "    <tr>\n",
       "      <th>738347</th>\n",
       "      <td>savoytruffle</td>\n",
       "      <td>AskReddit</td>\n",
       "      <td>1.391113e+09</td>\n",
       "      <td>I think we have to have some self-control.</td>\n",
       "    </tr>\n",
       "    <tr>\n",
       "      <th>738394</th>\n",
       "      <td>savoytruffle</td>\n",
       "      <td>AskReddit</td>\n",
       "      <td>1.391113e+09</td>\n",
       "      <td>Look at this movie star!\\n\\nhttps://en.wikiped...</td>\n",
       "    </tr>\n",
       "    <tr>\n",
       "      <th>738446</th>\n",
       "      <td>savoytruffle</td>\n",
       "      <td>AskReddit</td>\n",
       "      <td>1.391113e+09</td>\n",
       "      <td>agreed!\\n\\nKing of Netherlands, right?</td>\n",
       "    </tr>\n",
       "    <tr>\n",
       "      <th>738501</th>\n",
       "      <td>savoytruffle</td>\n",
       "      <td>AskReddit</td>\n",
       "      <td>1.391113e+09</td>\n",
       "      <td>I got into some legal trouble when I was 19-20...</td>\n",
       "    </tr>\n",
       "    <tr>\n",
       "      <th>738519</th>\n",
       "      <td>savoytruffle</td>\n",
       "      <td>AskReddit</td>\n",
       "      <td>1.391113e+09</td>\n",
       "      <td>Based on 50 replies, I'm eating the wrong kind...</td>\n",
       "    </tr>\n",
       "    <tr>\n",
       "      <th>738550</th>\n",
       "      <td>savoytruffle</td>\n",
       "      <td>AskReddit</td>\n",
       "      <td>1.391113e+09</td>\n",
       "      <td>That's what my Canadian internet friends say. ...</td>\n",
       "    </tr>\n",
       "    <tr>\n",
       "      <th>738590</th>\n",
       "      <td>savoytruffle</td>\n",
       "      <td>AskReddit</td>\n",
       "      <td>1.391114e+09</td>\n",
       "      <td>I don't wish ill on him.</td>\n",
       "    </tr>\n",
       "    <tr>\n",
       "      <th>738632</th>\n",
       "      <td>savoytruffle</td>\n",
       "      <td>AskReddit</td>\n",
       "      <td>1.391114e+09</td>\n",
       "      <td>Told me she was pregnant. Every girl's told he...</td>\n",
       "    </tr>\n",
       "    <tr>\n",
       "      <th>738647</th>\n",
       "      <td>savoytruffle</td>\n",
       "      <td>AskReddit</td>\n",
       "      <td>1.391114e+09</td>\n",
       "      <td>necessary\\n\\ngauge</td>\n",
       "    </tr>\n",
       "    <tr>\n",
       "      <th>738664</th>\n",
       "      <td>savoytruffle</td>\n",
       "      <td>AskReddit</td>\n",
       "      <td>1.391114e+09</td>\n",
       "      <td>awkward is surprising</td>\n",
       "    </tr>\n",
       "    <tr>\n",
       "      <th>738687</th>\n",
       "      <td>savoytruffle</td>\n",
       "      <td>AskReddit</td>\n",
       "      <td>1.391114e+09</td>\n",
       "      <td>no, for real. It's sort of a straightforward w...</td>\n",
       "    </tr>\n",
       "    <tr>\n",
       "      <th>738722</th>\n",
       "      <td>savoytruffle</td>\n",
       "      <td>AskReddit</td>\n",
       "      <td>1.391114e+09</td>\n",
       "      <td>I sort of lied, I have to been to a Trader Joe...</td>\n",
       "    </tr>\n",
       "    <tr>\n",
       "      <th>738751</th>\n",
       "      <td>savoytruffle</td>\n",
       "      <td>AskReddit</td>\n",
       "      <td>1.391114e+09</td>\n",
       "      <td>Like Auckland? I can see it.</td>\n",
       "    </tr>\n",
       "    <tr>\n",
       "      <th>738772</th>\n",
       "      <td>savoytruffle</td>\n",
       "      <td>AskReddit</td>\n",
       "      <td>1.391114e+09</td>\n",
       "      <td>wow!\\n\\nI didn't before but now I wish I had s...</td>\n",
       "    </tr>\n",
       "    <tr>\n",
       "      <th>738819</th>\n",
       "      <td>savoytruffle</td>\n",
       "      <td>AskReddit</td>\n",
       "      <td>1.391114e+09</td>\n",
       "      <td>I believe it's at $10,000 cash transactions wh...</td>\n",
       "    </tr>\n",
       "    <tr>\n",
       "      <th>738845</th>\n",
       "      <td>savoytruffle</td>\n",
       "      <td>AskReddit</td>\n",
       "      <td>1.391114e+09</td>\n",
       "      <td>now here's some money laundering advice!</td>\n",
       "    </tr>\n",
       "    <tr>\n",
       "      <th>738936</th>\n",
       "      <td>savoytruffle</td>\n",
       "      <td>AskReddit</td>\n",
       "      <td>1.391115e+09</td>\n",
       "      <td>&amp;gt; https://en.wikipedia.org/wiki/Mark_Rutte\\...</td>\n",
       "    </tr>\n",
       "  </tbody>\n",
       "</table>\n",
       "<p>2234 rows × 4 columns</p>\n",
       "</div>"
      ],
      "text/plain": [
       "              author  subreddit   created_utc  \\\n",
       "3       savoytruffle  AskReddit  1.388534e+09   \n",
       "9       savoytruffle  AskReddit  1.388534e+09   \n",
       "53      savoytruffle  AskReddit  1.388535e+09   \n",
       "74      savoytruffle  AskReddit  1.388535e+09   \n",
       "84      savoytruffle  AskReddit  1.388535e+09   \n",
       "91      savoytruffle  AskReddit  1.388535e+09   \n",
       "100     savoytruffle  AskReddit  1.388535e+09   \n",
       "115     savoytruffle  AskReddit  1.388535e+09   \n",
       "169     savoytruffle  AskReddit  1.388535e+09   \n",
       "191     savoytruffle  AskReddit  1.388535e+09   \n",
       "214     savoytruffle  AskReddit  1.388535e+09   \n",
       "225     savoytruffle  AskReddit  1.388535e+09   \n",
       "242     savoytruffle  AskReddit  1.388536e+09   \n",
       "261     savoytruffle  AskReddit  1.388536e+09   \n",
       "295     savoytruffle  AskReddit  1.388536e+09   \n",
       "328     savoytruffle  AskReddit  1.388536e+09   \n",
       "367     savoytruffle  AskReddit  1.388536e+09   \n",
       "407     savoytruffle  AskReddit  1.388536e+09   \n",
       "463     savoytruffle  AskReddit  1.388537e+09   \n",
       "546     savoytruffle  AskReddit  1.388537e+09   \n",
       "564     savoytruffle  AskReddit  1.388537e+09   \n",
       "586     savoytruffle  AskReddit  1.388537e+09   \n",
       "612     savoytruffle  AskReddit  1.388537e+09   \n",
       "638     savoytruffle  AskReddit  1.388538e+09   \n",
       "662     savoytruffle  AskReddit  1.388538e+09   \n",
       "677     savoytruffle  AskReddit  1.388538e+09   \n",
       "684     savoytruffle  AskReddit  1.388538e+09   \n",
       "737     savoytruffle  AskReddit  1.388538e+09   \n",
       "763     savoytruffle  AskReddit  1.388538e+09   \n",
       "820     savoytruffle  AskReddit  1.388538e+09   \n",
       "...              ...        ...           ...   \n",
       "737845  savoytruffle  AskReddit  1.391111e+09   \n",
       "737885  savoytruffle  AskReddit  1.391111e+09   \n",
       "737904  savoytruffle  AskReddit  1.391111e+09   \n",
       "737935  savoytruffle  AskReddit  1.391111e+09   \n",
       "737958  savoytruffle  AskReddit  1.391112e+09   \n",
       "738020  savoytruffle  AskReddit  1.391112e+09   \n",
       "738043  savoytruffle  AskReddit  1.391112e+09   \n",
       "738071  savoytruffle  AskReddit  1.391112e+09   \n",
       "738086  savoytruffle  AskReddit  1.391112e+09   \n",
       "738132  savoytruffle  AskReddit  1.391112e+09   \n",
       "738172  savoytruffle  AskReddit  1.391112e+09   \n",
       "738203  savoytruffle  AskReddit  1.391112e+09   \n",
       "738330  savoytruffle  AskReddit  1.391113e+09   \n",
       "738347  savoytruffle  AskReddit  1.391113e+09   \n",
       "738394  savoytruffle  AskReddit  1.391113e+09   \n",
       "738446  savoytruffle  AskReddit  1.391113e+09   \n",
       "738501  savoytruffle  AskReddit  1.391113e+09   \n",
       "738519  savoytruffle  AskReddit  1.391113e+09   \n",
       "738550  savoytruffle  AskReddit  1.391113e+09   \n",
       "738590  savoytruffle  AskReddit  1.391114e+09   \n",
       "738632  savoytruffle  AskReddit  1.391114e+09   \n",
       "738647  savoytruffle  AskReddit  1.391114e+09   \n",
       "738664  savoytruffle  AskReddit  1.391114e+09   \n",
       "738687  savoytruffle  AskReddit  1.391114e+09   \n",
       "738722  savoytruffle  AskReddit  1.391114e+09   \n",
       "738751  savoytruffle  AskReddit  1.391114e+09   \n",
       "738772  savoytruffle  AskReddit  1.391114e+09   \n",
       "738819  savoytruffle  AskReddit  1.391114e+09   \n",
       "738845  savoytruffle  AskReddit  1.391114e+09   \n",
       "738936  savoytruffle  AskReddit  1.391115e+09   \n",
       "\n",
       "                                                     body  \n",
       "3                                                 bite me  \n",
       "9       too bad\\n\\nIf I was some thirty starving boys ...  \n",
       "53                    Are there men that don't enjoy sex?  \n",
       "74      I don't know. I should probably record my pare...  \n",
       "84                                               but why?  \n",
       "91                    ouch for her! but that is adorable!  \n",
       "100                        Gay men enjoy sex most of all!  \n",
       "115     Not on Netflix, but I think via BitTorrent I j...  \n",
       "169     Probably yes but I believe the grammar for Ame...  \n",
       "191                                   Who would say that?  \n",
       "214                    who are you, Duck Dynasty beardey?  \n",
       "225     My country spends too much money on the milita...  \n",
       "242                              Grade 2 == Second grade.  \n",
       "261                       maybe yes? maybe just for girls  \n",
       "295     I saw The Killers in like late 2007 in a big a...  \n",
       "328                                         It's nonsense  \n",
       "367     Colin Powell may never live it down. His prese...  \n",
       "407     The gist is I'm not willing to pay $5 for an i...  \n",
       "463     Saint Louis is nothing in particular, but the ...  \n",
       "546     Stouffer's used to have a cheese and broccoli ...  \n",
       "564     They'll like it no matter what.\\n\\nI don't fuc...  \n",
       "586     I've had sex at about 7,000 feet above sea lev...  \n",
       "612     I'm a hardcore liberal.\\n\\nI don't hate anyone...  \n",
       "638     hah it's always in our nasty basement as he tr...  \n",
       "662     &gt;I mean couldn't you say the same thing abo...  \n",
       "677      your mom sounds like a real bitch. I'd like her.  \n",
       "684     I'd like to see it cut in half so it's still w...  \n",
       "737                     I've never walked out on a movie.  \n",
       "763     I don't care if you get engaged, will the pare...  \n",
       "820     That is it. Home Alone. I just watched it last...  \n",
       "...                                                   ...  \n",
       "737845  You shouldn't hold grudges while driving. You ...  \n",
       "737885  You can't become the man. The best you can do ...  \n",
       "737904                         Where's best for a burger?  \n",
       "737935  I love you too but Canada has lower and laxxer...  \n",
       "737958  /r/newzanada is over there and /r/ameristralia...  \n",
       "738020  depending on what part of America you're in yo...  \n",
       "738043  That's a real bummer about Germany still being...  \n",
       "738071  How'd he get charged with serious crimes in tw...  \n",
       "738086              oh man Easter is coming up again, too  \n",
       "738132  The US Constitution is something that most oth...  \n",
       "738172                                         Not likely  \n",
       "738203  I was trying to remember if it was Netherlands...  \n",
       "738330  There's some new charges in Canada.\\n\\nhttp://...  \n",
       "738347         I think we have to have some self-control.  \n",
       "738394  Look at this movie star!\\n\\nhttps://en.wikiped...  \n",
       "738446             agreed!\\n\\nKing of Netherlands, right?  \n",
       "738501  I got into some legal trouble when I was 19-20...  \n",
       "738519  Based on 50 replies, I'm eating the wrong kind...  \n",
       "738550  That's what my Canadian internet friends say. ...  \n",
       "738590                           I don't wish ill on him.  \n",
       "738632  Told me she was pregnant. Every girl's told he...  \n",
       "738647                                 necessary\\n\\ngauge  \n",
       "738664                              awkward is surprising  \n",
       "738687  no, for real. It's sort of a straightforward w...  \n",
       "738722  I sort of lied, I have to been to a Trader Joe...  \n",
       "738751                       Like Auckland? I can see it.  \n",
       "738772  wow!\\n\\nI didn't before but now I wish I had s...  \n",
       "738819  I believe it's at $10,000 cash transactions wh...  \n",
       "738845           now here's some money laundering advice!  \n",
       "738936  &gt; https://en.wikipedia.org/wiki/Mark_Rutte\\...  \n",
       "\n",
       "[2234 rows x 4 columns]"
      ]
     },
     "execution_count": 6,
     "metadata": {},
     "output_type": "execute_result"
    }
   ],
   "source": [
    "train_data[train_data.author=='savoytruffle']"
   ]
  },
  {
   "cell_type": "code",
   "execution_count": 6,
   "metadata": {
    "collapsed": false
   },
   "outputs": [
    {
     "data": {
      "text/plain": [
       "(3866,)"
      ]
     },
     "execution_count": 6,
     "metadata": {},
     "output_type": "execute_result"
    }
   ],
   "source": [
    "train_data.subreddit.unique().shape"
   ]
  },
  {
   "cell_type": "markdown",
   "metadata": {},
   "source": [
    "# Feature Extraction"
   ]
  },
  {
   "cell_type": "code",
   "execution_count": 7,
   "metadata": {
    "collapsed": true
   },
   "outputs": [],
   "source": [
    "subreddits = train_data.subreddit.unique()\n",
    "subreddits_map = pd.Series(index=subreddits, data=arange(subreddits.shape[0]))"
   ]
  },
  {
   "cell_type": "code",
   "execution_count": 8,
   "metadata": {
    "collapsed": false
   },
   "outputs": [
    {
     "data": {
      "text/plain": [
       "TwoXChromosomes         0\n",
       "mylittlepony            1\n",
       "sex                     2\n",
       "AskReddit               3\n",
       "DragonsDogma            4\n",
       "malefashionadvice       5\n",
       "Pathfinder_RPG          6\n",
       "todayilearned           7\n",
       "Terraria                8\n",
       "MarkMyWords             9\n",
       "skateboarding          10\n",
       "Christianity           11\n",
       "NetflixBestOf          12\n",
       "TrollXChromosomes      13\n",
       "movies                 14\n",
       "Android                15\n",
       "hockey                 16\n",
       "Music                  17\n",
       "AskWomen               18\n",
       "secretsanta            19\n",
       "explainlikeimfive      20\n",
       "rangers                21\n",
       "AdviceAnimals          22\n",
       "AskMen                 23\n",
       "hiphopheads            24\n",
       "TheRedPill             25\n",
       "MakeupAddiction        26\n",
       "mildlyinteresting      27\n",
       "jailbreak              28\n",
       "ShitRedditSays         29\n",
       "                     ... \n",
       "Navia                3836\n",
       "nes                  3837\n",
       "IndianaUniversity    3838\n",
       "RateMyMayor          3839\n",
       "CharitableBets       3840\n",
       "alcoholism           3841\n",
       "gaybears             3842\n",
       "Dinosaurs            3843\n",
       "creepypasta          3844\n",
       "TrueOtherkin         3845\n",
       "SportingKC           3846\n",
       "DrawForMe            3847\n",
       "linuxadmin           3848\n",
       "dynastywarriors      3849\n",
       "NewYorkMets          3850\n",
       "MCOTG                3851\n",
       "jerktalkdiamond      3852\n",
       "GaState              3853\n",
       "ffxi                 3854\n",
       "broslikeus           3855\n",
       "flyfishing           3856\n",
       "newhaven             3857\n",
       "howyoudoin           3858\n",
       "rmit                 3859\n",
       "ArtistLounge         3860\n",
       "CasualFilm           3861\n",
       "ukbike               3862\n",
       "OneDirection         3863\n",
       "RandomActsofCards    3864\n",
       "cfs                  3865\n",
       "dtype: int64"
      ]
     },
     "execution_count": 8,
     "metadata": {},
     "output_type": "execute_result"
    }
   ],
   "source": [
    "subreddits_map"
   ]
  },
  {
   "cell_type": "code",
   "execution_count": 9,
   "metadata": {
    "collapsed": true
   },
   "outputs": [],
   "source": [
    "from scipy import sparse"
   ]
  },
  {
   "cell_type": "code",
   "execution_count": 10,
   "metadata": {
    "collapsed": false
   },
   "outputs": [
    {
     "data": {
      "text/plain": [
       "<1x3866 sparse matrix of type '<type 'numpy.float64'>'\n",
       "\twith 1 stored elements in Compressed Sparse Row format>"
      ]
     },
     "execution_count": 10,
     "metadata": {},
     "output_type": "execute_result"
    }
   ],
   "source": [
    "def extract_features(group):\n",
    "    group_subreddits = group['subreddit'].values\n",
    "    idxs = subreddits_map[group_subreddits].values\n",
    "    v = sparse.dok_matrix((1, subreddits.shape[0]))\n",
    "    for idx in idxs:\n",
    "        if not np.isnan(idx):\n",
    "            v[0, idx] += 1\n",
    "    v = v/v.sum()\n",
    "    return v.tocsr()\n",
    "\n",
    "extract_features(train_data[train_data.author=='RedThunder90'])"
   ]
  },
  {
   "cell_type": "code",
   "execution_count": 41,
   "metadata": {
    "collapsed": true
   },
   "outputs": [],
   "source": [
    "group = train_data[train_data.author=='ejchristian86']"
   ]
  },
  {
   "cell_type": "code",
   "execution_count": 42,
   "metadata": {
    "collapsed": false
   },
   "outputs": [],
   "source": [
    "group_values = group['subreddit'].values"
   ]
  },
  {
   "cell_type": "code",
   "execution_count": 28,
   "metadata": {
    "collapsed": false
   },
   "outputs": [
    {
     "data": {
      "text/plain": [
       "u'TwoXChromosomesharrypotterRedditLaqueristasknittingTrollXChromosomesTrollXChromosomesTrollXChromosomesTrollXChromosomesRedditLaqueristasdoctorwhoXFilesawwknittingawwawwawwTrollXChromosomesAskReddittodayilearnedTrollXChromosomesTrollXChromosomesTrollXChromosomesTrollXChromosomesTrollXChromosomestappedoutpicsTrollXChromosomesTrollXChromosomesTrollXChromosomesXFilesdoctorwhoTrollXChromosomesTrollXChromosomesTrollXChromosomestappedoutTrollXChromosomesAdviceAnimalsknittingTrollXChromosomesTrollXChromosomesknittingTrollXChromosomesknittingknittingTrollXChromosomesAskRedditTrollXChromosomesTrollXChromosomesTrollYChromosomeknittingTrollYChromosomeTrollXChromosomesRedditLaqueristasknittingknittingRedditLaqueristasXFilesRedditLaqueristasAskRedditTrollXChromosomesTrollXChromosomesAskRedditTrollXChromosomesawwawwfoodawwawwTrollXChromosomesawwawwknittingknittingRedditLaqueristasTrollXChromosomesknittingTrollXChromosomesRedditLaqueristasRedditLaqueristasRedditLaqueristasRedditLaqueristasRedditLaqueristasRedditLaqueristaspicsFiftyFiftyTrollXChromosomesknittingknittingTrollXChromosomesTrollXChromosomesknittingTrollXChromosomesTrollXChromosomesknittingdoctorwhoTrollXChromosomespicsTrollXChromosomesAdviceAnimalsknittingMakeupAddictionTrollXChromosomesTrollXChromosomesknittingTrollXChromosomesAskRedditXFilesXFilesTrollXChromosomesknittingknittingknittingTrollXChromosomesknittingTrollXChromosomesknittingTrollXChromosomesTrollXChromosomesfunnyTrollXChromosomesTrollXChromosomesknittingknittingknittingknittingknittingknittingTrollXChromosomesknittingTrollXChromosomesknittingTrollXChromosomesknittingknittingTrollXChromosomesTrollXChromosomesTrollXChromosomesRedditLaqueristasTrollXChromosomesTrollXChromosomesRedditLaqueristasMakeupAddictionTrollXChromosomesTwoXChromosomestipofmytonguepicsRedditLaqueristasTrollXChromosomesTrollXChromosomesTrollXChromosomesTrollXChromosomesTwoXChromosomesXFilesTrollXChromosomesTrollXChromosomesTrollXChromosomesTrollXChromosomesRedditLaqueristasRedditLaqueristasRedditLaqueristasTrollXChromosomesknittingTrollXChromosomesTrollXChromosomes'"
      ]
     },
     "execution_count": 28,
     "metadata": {},
     "output_type": "execute_result"
    }
   ],
   "source": [
    "group_values.sum()"
   ]
  },
  {
   "cell_type": "code",
   "execution_count": 11,
   "metadata": {
    "collapsed": false
   },
   "outputs": [],
   "source": [
    "prova1= extract_features(train_data[train_data.author=='kirocuto'])\n",
    "prova1 = prova1.todense()\n",
    "#prova1 = prova1.tolist()"
   ]
  },
  {
   "cell_type": "code",
   "execution_count": 13,
   "metadata": {
    "collapsed": false
   },
   "outputs": [
    {
     "name": "stdout",
     "output_type": "stream",
     "text": [
      "0.142857142857\n",
      "0.428571428571\n",
      "0.428571428571\n"
     ]
    }
   ],
   "source": [
    "for i in prova1.flat:\n",
    "    if i !=0: print i"
   ]
  },
  {
   "cell_type": "code",
   "execution_count": 12,
   "metadata": {
    "collapsed": false
   },
   "outputs": [
    {
     "data": {
      "text/html": [
       "<div>\n",
       "<table border=\"1\" class=\"dataframe\">\n",
       "  <thead>\n",
       "    <tr style=\"text-align: right;\">\n",
       "      <th></th>\n",
       "      <th>author</th>\n",
       "      <th>subreddit</th>\n",
       "      <th>created_utc</th>\n",
       "      <th>body</th>\n",
       "    </tr>\n",
       "  </thead>\n",
       "  <tbody>\n",
       "    <tr>\n",
       "      <th>11378</th>\n",
       "      <td>kirocuto</td>\n",
       "      <td>matt</td>\n",
       "      <td>1.388608e+09</td>\n",
       "      <td>You and me both brother.\\n\\nIn this together!</td>\n",
       "    </tr>\n",
       "    <tr>\n",
       "      <th>11379</th>\n",
       "      <td>kirocuto</td>\n",
       "      <td>matt</td>\n",
       "      <td>1.388608e+09</td>\n",
       "      <td>You and me both brother.\\n\\nIn this together!</td>\n",
       "    </tr>\n",
       "    <tr>\n",
       "      <th>38534</th>\n",
       "      <td>kirocuto</td>\n",
       "      <td>matt</td>\n",
       "      <td>1.388728e+09</td>\n",
       "      <td>Us matts know inherently which matt is being a...</td>\n",
       "    </tr>\n",
       "    <tr>\n",
       "      <th>368673</th>\n",
       "      <td>kirocuto</td>\n",
       "      <td>AskReddit</td>\n",
       "      <td>1.389974e+09</td>\n",
       "      <td>Where would you get your ship?</td>\n",
       "    </tr>\n",
       "    <tr>\n",
       "      <th>372200</th>\n",
       "      <td>kirocuto</td>\n",
       "      <td>leagueoflegends</td>\n",
       "      <td>1.389986e+09</td>\n",
       "      <td>Play Cass like you would kog with better wave ...</td>\n",
       "    </tr>\n",
       "    <tr>\n",
       "      <th>635353</th>\n",
       "      <td>kirocuto</td>\n",
       "      <td>leagueoflegends</td>\n",
       "      <td>1.390609e+09</td>\n",
       "      <td>Turns out one extra champ is all it takes to m...</td>\n",
       "    </tr>\n",
       "    <tr>\n",
       "      <th>735715</th>\n",
       "      <td>kirocuto</td>\n",
       "      <td>leagueoflegends</td>\n",
       "      <td>1.391104e+09</td>\n",
       "      <td>Twisted fate vs fizz.\\n\\nTf has no damage earl...</td>\n",
       "    </tr>\n",
       "  </tbody>\n",
       "</table>\n",
       "</div>"
      ],
      "text/plain": [
       "          author        subreddit   created_utc  \\\n",
       "11378   kirocuto             matt  1.388608e+09   \n",
       "11379   kirocuto             matt  1.388608e+09   \n",
       "38534   kirocuto             matt  1.388728e+09   \n",
       "368673  kirocuto        AskReddit  1.389974e+09   \n",
       "372200  kirocuto  leagueoflegends  1.389986e+09   \n",
       "635353  kirocuto  leagueoflegends  1.390609e+09   \n",
       "735715  kirocuto  leagueoflegends  1.391104e+09   \n",
       "\n",
       "                                                     body  \n",
       "11378       You and me both brother.\\n\\nIn this together!  \n",
       "11379       You and me both brother.\\n\\nIn this together!  \n",
       "38534   Us matts know inherently which matt is being a...  \n",
       "368673                     Where would you get your ship?  \n",
       "372200  Play Cass like you would kog with better wave ...  \n",
       "635353  Turns out one extra champ is all it takes to m...  \n",
       "735715  Twisted fate vs fizz.\\n\\nTf has no damage earl...  "
      ]
     },
     "execution_count": 12,
     "metadata": {},
     "output_type": "execute_result"
    }
   ],
   "source": [
    "train_data[train_data.author=='kirocuto']"
   ]
  },
  {
   "cell_type": "code",
   "execution_count": 14,
   "metadata": {
    "collapsed": false
   },
   "outputs": [],
   "source": [
    "features_dict = {}\n",
    "\n",
    "for author, group in train_data.groupby('author'):\n",
    "    features_dict[author] = extract_features(group)"
   ]
  },
  {
   "cell_type": "code",
   "execution_count": 50,
   "metadata": {
    "collapsed": false
   },
   "outputs": [
    {
     "data": {
      "text/plain": [
       "<1x3866 sparse matrix of type '<type 'numpy.float64'>'\n",
       "\twith 3 stored elements in Compressed Sparse Row format>"
      ]
     },
     "execution_count": 50,
     "metadata": {},
     "output_type": "execute_result"
    }
   ],
   "source": [
    "features_dict['kirocuto']"
   ]
  },
  {
   "cell_type": "code",
   "execution_count": 15,
   "metadata": {
    "collapsed": false
   },
   "outputs": [
    {
     "data": {
      "text/plain": [
       "<10000x3866 sparse matrix of type '<type 'numpy.float64'>'\n",
       "\twith 96876 stored elements in Compressed Sparse Row format>"
      ]
     },
     "execution_count": 15,
     "metadata": {},
     "output_type": "execute_result"
    }
   ],
   "source": [
    "X = sparse.vstack([features_dict[author] for author in target.author])\n",
    "X"
   ]
  },
  {
   "cell_type": "code",
   "execution_count": 17,
   "metadata": {
    "collapsed": false
   },
   "outputs": [
    {
     "data": {
      "text/plain": [
       "matrix([[ 0.,  0.,  0., ...,  0.,  0.,  0.],\n",
       "        [ 0.,  0.,  0., ...,  0.,  0.,  0.],\n",
       "        [ 0.,  0.,  0., ...,  0.,  0.,  0.],\n",
       "        ..., \n",
       "        [ 0.,  0.,  0., ...,  0.,  0.,  0.],\n",
       "        [ 0.,  0.,  0., ...,  0.,  0.,  0.],\n",
       "        [ 0.,  0.,  0., ...,  0.,  0.,  0.]])"
      ]
     },
     "execution_count": 17,
     "metadata": {},
     "output_type": "execute_result"
    }
   ],
   "source": [
    "X.todense()"
   ]
  },
  {
   "cell_type": "code",
   "execution_count": 18,
   "metadata": {
    "collapsed": false
   },
   "outputs": [],
   "source": [
    "#pd.DataFrame(X)"
   ]
  },
  {
   "cell_type": "code",
   "execution_count": 16,
   "metadata": {
    "collapsed": true
   },
   "outputs": [],
   "source": [
    "y = target.gender"
   ]
  },
  {
   "cell_type": "markdown",
   "metadata": {},
   "source": [
    "# Model Selection"
   ]
  },
  {
   "cell_type": "code",
   "execution_count": 18,
   "metadata": {
    "collapsed": true
   },
   "outputs": [],
   "source": [
    "from sklearn import cross_validation as cs"
   ]
  },
  {
   "cell_type": "code",
   "execution_count": 19,
   "metadata": {
    "collapsed": true
   },
   "outputs": [],
   "source": [
    "X_train, X_test, y_train, y_test =\\\n",
    "cs.train_test_split(X,y, test_size=0.33,random_state=42)"
   ]
  },
  {
   "cell_type": "code",
   "execution_count": 20,
   "metadata": {
    "collapsed": false
   },
   "outputs": [],
   "source": [
    "from sklearn import svm\n",
    "\n",
    "model = svm.SVC(kernel='rbf', gamma=0.1, C=100., probability=True)\n",
    "model.fit(X_train,y_train)\n",
    "\n",
    "y_pred = model.predict_proba(X_test)\n"
   ]
  },
  {
   "cell_type": "code",
   "execution_count": null,
   "metadata": {
    "collapsed": true
   },
   "outputs": [],
   "source": [
    "#AUC: 0.832226729132 con matrice di uni e zeri"
   ]
  },
  {
   "cell_type": "code",
   "execution_count": 21,
   "metadata": {
    "collapsed": false
   },
   "outputs": [
    {
     "name": "stdout",
     "output_type": "stream",
     "text": [
      "AUC: 0.854648844174\n",
      "[<matplotlib.lines.Line2D object at 0x7f4e018d1d90>, <matplotlib.lines.Line2D object at 0x7f4e018d1f90>]\n"
     ]
    },
    {
     "data": {
      "text/plain": [
       "<matplotlib.legend.Legend at 0x7f4e0191a8d0>"
      ]
     },
     "execution_count": 21,
     "metadata": {},
     "output_type": "execute_result"
    },
    {
     "data": {
      "image/png": "[encoded data removed]",
      "text/plain": [
       "<matplotlib.figure.Figure at 0x7f4e0191a890>"
      ]
     },
     "metadata": {},
     "output_type": "display_data"
    }
   ],
   "source": [
    "from sklearn import metrics\n",
    "fpr, tpr, _ = metrics.roc_curve(y_test, y_pred[:,1])\n",
    "#print 'F1 Score :', metrics.f1_score(y_test, y_pred)\n",
    "print 'AUC:', metrics.auc(fpr, tpr)\n",
    "\n",
    "print plot([0,1],[0,1],'--', fpr, tpr, label='SVM')\n",
    "legend()"
   ]
  },
  {
   "cell_type": "code",
   "execution_count": 26,
   "metadata": {
    "collapsed": true
   },
   "outputs": [],
   "source": [
    "from sklearn import ensemble\n",
    "\n",
    "model_rf = ensemble.RandomForestClassifier(n_estimators=1000, random_state=0)\n",
    "model_rf.fit(X_train,ravel(y_train))\n",
    "\n",
    "y_pred_rf = model_rf.predict_proba(X_test)"
   ]
  },
  {
   "cell_type": "code",
   "execution_count": 27,
   "metadata": {
    "collapsed": false
   },
   "outputs": [
    {
     "name": "stdout",
     "output_type": "stream",
     "text": [
      "AUC: 0.85400434753\n",
      "[<matplotlib.lines.Line2D object at 0x7f4dfe234dd0>, <matplotlib.lines.Line2D object at 0x7f4dfe234fd0>]\n"
     ]
    },
    {
     "data": {
      "text/plain": [
       "<matplotlib.legend.Legend at 0x7f4dfe36e150>"
      ]
     },
     "execution_count": 27,
     "metadata": {},
     "output_type": "execute_result"
    },
    {
     "data": {
      "image/png": "[encoded data removed]",
      "text/plain": [
       "<matplotlib.figure.Figure at 0x7f4e01872e90>"
      ]
     },
     "metadata": {},
     "output_type": "display_data"
    }
   ],
   "source": [
    "fpr_rf, tpr_rf, _ = metrics.roc_curve(y_test, y_pred_rf[:,1])\n",
    "print 'AUC:', metrics.auc(fpr_rf, tpr_rf)\n",
    "\n",
    "print plot([0,1],[0,1],'--', fpr_rf, tpr_rf, label='RF')\n",
    "legend()"
   ]
  },
  {
   "cell_type": "markdown",
   "metadata": {},
   "source": [
    "# Prepare the solution"
   ]
  },
  {
   "cell_type": "code",
   "execution_count": 32,
   "metadata": {
    "collapsed": true
   },
   "outputs": [],
   "source": [
    "test_data = pd.read_csv(\"test_data.csv.gz\", compression=\"gzip\", encoding=\"utf8\")"
   ]
  },
  {
   "cell_type": "code",
   "execution_count": 33,
   "metadata": {
    "collapsed": false
   },
   "outputs": [],
   "source": [
    "features_dict = {}\n",
    "\n",
    "for author, group in test_data.groupby('author'):\n",
    "    features_dict[author] = extract_features(group)"
   ]
  },
  {
   "cell_type": "code",
   "execution_count": 34,
   "metadata": {
    "collapsed": false
   },
   "outputs": [
    {
     "data": {
      "text/plain": [
       "<34887x3866 sparse matrix of type '<type 'numpy.float64'>'\n",
       "\twith 345539 stored elements in Compressed Sparse Row format>"
      ]
     },
     "execution_count": 34,
     "metadata": {},
     "output_type": "execute_result"
    }
   ],
   "source": [
    "X_test = sparse.vstack([features_dict[author] for author in test_data.author.unique()])\n",
    "X_test"
   ]
  },
  {
   "cell_type": "code",
   "execution_count": null,
   "metadata": {
    "collapsed": false
   },
   "outputs": [],
   "source": [
    "y_pred = model.predict_proba(X_test)[:,1]"
   ]
  },
  {
   "cell_type": "code",
   "execution_count": null,
   "metadata": {
    "collapsed": false
   },
   "outputs": [],
   "source": [
    "solution = pd.DataFrame({\"author\":test_data.author.unique(), \"gender\":y_pred})\n",
    "solution.head()"
   ]
  },
  {
   "cell_type": "code",
   "execution_count": null,
   "metadata": {
    "collapsed": true
   },
   "outputs": [],
   "source": [
    "solution.to_csv(\"logistic_regression.csv\", index=False)"
   ]
  },
  {
   "cell_type": "code",
   "execution_count": null,
   "metadata": {
    "collapsed": true
   },
   "outputs": [],
   "source": []
  }
 ],
 "metadata": {
  "kernelspec": {
   "display_name": "Python [Root]",
   "language": "python",
   "name": "Python [Root]"
  },
  "language_info": {
   "codemirror_mode": {
    "name": "ipython",
    "version": 2
   },
   "file_extension": ".py",
   "mimetype": "text/x-python",
   "name": "python",
   "nbconvert_exporter": "python",
   "pygments_lexer": "ipython2",
   "version": "2.7.12"
  }
 },
 "nbformat": 4,
 "nbformat_minor": 0
}
