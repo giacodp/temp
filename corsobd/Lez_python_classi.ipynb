{
 "cells": [
  {
   "cell_type": "code",
   "execution_count": 1,
   "metadata": {
    "collapsed": false
   },
   "outputs": [
    {
     "name": "stdout",
     "output_type": "stream",
     "text": [
      "G\n",
      "i\n",
      "o\n",
      "v\n",
      "a\n",
      "n\n",
      "n\n",
      "i\n"
     ]
    }
   ],
   "source": [
    "name ='Giovanni'\n",
    "for letter in name:\n",
    "    print letter"
   ]
  },
  {
   "cell_type": "code",
   "execution_count": 2,
   "metadata": {
    "collapsed": false
   },
   "outputs": [
    {
     "name": "stdout",
     "output_type": "stream",
     "text": [
      "['G', 'i', 'o', 'v', 'a', 'n', 'n', 'i']\n"
     ]
    }
   ],
   "source": [
    "name ='Giovanni'\n",
    "name_list = []\n",
    "for letter in name:\n",
    "    name_list.append(letter)\n",
    "print name_list"
   ]
  },
  {
   "cell_type": "code",
   "execution_count": 4,
   "metadata": {
    "collapsed": false
   },
   "outputs": [
    {
     "name": "stdout",
     "output_type": "stream",
     "text": [
      "['G', 'o', 'a', 'n']\n"
     ]
    }
   ],
   "source": [
    "lettere_pari = []\n",
    "for i,letter in enumerate(name):\n",
    "    if i%2 == 0:\n",
    "        lettere_pari.append(letter)\n",
    "print lettere_pari"
   ]
  },
  {
   "cell_type": "code",
   "execution_count": 6,
   "metadata": {
    "collapsed": false
   },
   "outputs": [
    {
     "ename": "SyntaxError",
     "evalue": "invalid syntax (<ipython-input-6-4060f5d7177b>, line 1)",
     "output_type": "error",
     "traceback": [
      "\u001b[1;36m  File \u001b[1;32m\"<ipython-input-6-4060f5d7177b>\"\u001b[1;36m, line \u001b[1;32m1\u001b[0m\n\u001b[1;33m    lettere_pari =[letter for i,letter in enumerate(name) i%2 == 0]\u001b[0m\n\u001b[1;37m                                                          ^\u001b[0m\n\u001b[1;31mSyntaxError\u001b[0m\u001b[1;31m:\u001b[0m invalid syntax\n"
     ]
    }
   ],
   "source": [
    "lettere_pari =[letter for i,letter in enumerate(name) i%2 == 0]\n",
    "print lettere_pari"
   ]
  },
  {
   "cell_type": "code",
   "execution_count": 7,
   "metadata": {
    "collapsed": false
   },
   "outputs": [
    {
     "name": "stdout",
     "output_type": "stream",
     "text": [
      "['Ciao']\n"
     ]
    }
   ],
   "source": [
    "myobject = ['Ciao', 1, [5,6,7]]\n",
    "print [element for element in myobject if isinstance(element,str)]"
   ]
  },
  {
   "cell_type": "markdown",
   "metadata": {},
   "source": [
    "# Generatori"
   ]
  },
  {
   "cell_type": "code",
   "execution_count": 8,
   "metadata": {
    "collapsed": false
   },
   "outputs": [
    {
     "data": {
      "text/plain": [
       "[0, 1, 2, 3, 4, 5, 6, 7, 8, 9]"
      ]
     },
     "execution_count": 8,
     "metadata": {},
     "output_type": "execute_result"
    }
   ],
   "source": [
    "range(10)"
   ]
  },
  {
   "cell_type": "code",
   "execution_count": 12,
   "metadata": {
    "collapsed": false
   },
   "outputs": [
    {
     "name": "stdout",
     "output_type": "stream",
     "text": [
      "[0, 1, 2, 3, 4, 5, 6, 7, 8, 9]\n",
      "[0, 1, 2, 3, 4, 5, 6, 7, 8, 9]\n",
      "<generator object <genexpr> at 0x7f1b9d157500>\n"
     ]
    }
   ],
   "source": [
    "lista = list() # stesso che fare lista = []\n",
    "for i in range(10):\n",
    "    lista.append(i)\n",
    "print lista\n",
    "    \n",
    "lista = [i for i in range(10)]\n",
    "print lista\n",
    "\n",
    "generatore = (i for i in range(10))\n",
    "print generatore"
   ]
  },
  {
   "cell_type": "code",
   "execution_count": 13,
   "metadata": {
    "collapsed": false
   },
   "outputs": [
    {
     "name": "stdout",
     "output_type": "stream",
     "text": [
      "0\n",
      "1\n",
      "2\n",
      "3\n",
      "4\n",
      "5\n",
      "6\n",
      "7\n",
      "8\n",
      "9\n"
     ]
    }
   ],
   "source": [
    "for i in generatore:\n",
    "    print i"
   ]
  },
  {
   "cell_type": "code",
   "execution_count": 17,
   "metadata": {
    "collapsed": false
   },
   "outputs": [],
   "source": [
    "for i in generatore: print i # il generatore si  svuotato"
   ]
  },
  {
   "cell_type": "code",
   "execution_count": 18,
   "metadata": {
    "collapsed": false
   },
   "outputs": [
    {
     "data": {
      "text/plain": [
       "['__class__',\n",
       " '__delattr__',\n",
       " '__doc__',\n",
       " '__format__',\n",
       " '__getattribute__',\n",
       " '__hash__',\n",
       " '__init__',\n",
       " '__iter__',\n",
       " '__name__',\n",
       " '__new__',\n",
       " '__reduce__',\n",
       " '__reduce_ex__',\n",
       " '__repr__',\n",
       " '__setattr__',\n",
       " '__sizeof__',\n",
       " '__str__',\n",
       " '__subclasshook__',\n",
       " 'close',\n",
       " 'gi_code',\n",
       " 'gi_frame',\n",
       " 'gi_running',\n",
       " 'next',\n",
       " 'send',\n",
       " 'throw']"
      ]
     },
     "execution_count": 18,
     "metadata": {},
     "output_type": "execute_result"
    }
   ],
   "source": [
    "generatore = (i for i in range(10))\n",
    "dir(generatore)"
   ]
  },
  {
   "cell_type": "code",
   "execution_count": 32,
   "metadata": {
    "collapsed": false
   },
   "outputs": [
    {
     "ename": "StopIteration",
     "evalue": "",
     "output_type": "error",
     "traceback": [
      "\u001b[1;31m---------------------------------------------------------------------------\u001b[0m",
      "\u001b[1;31mStopIteration\u001b[0m                             Traceback (most recent call last)",
      "\u001b[1;32m<ipython-input-32-c682626f416b>\u001b[0m in \u001b[0;36m<module>\u001b[1;34m()\u001b[0m\n\u001b[1;32m----> 1\u001b[1;33m \u001b[1;32mprint\u001b[0m \u001b[0mgeneratore\u001b[0m\u001b[1;33m.\u001b[0m\u001b[0mnext\u001b[0m\u001b[1;33m(\u001b[0m\u001b[1;33m)\u001b[0m\u001b[1;33m\u001b[0m\u001b[0m\n\u001b[0m",
      "\u001b[1;31mStopIteration\u001b[0m: "
     ]
    }
   ],
   "source": [
    "print generatore.next()"
   ]
  },
  {
   "cell_type": "code",
   "execution_count": 31,
   "metadata": {
    "collapsed": true
   },
   "outputs": [],
   "source": [
    "generatore1 = (i for i in [7,9,12,6,7])"
   ]
  },
  {
   "cell_type": "code",
   "execution_count": 34,
   "metadata": {
    "collapsed": false
   },
   "outputs": [
    {
     "name": "stdout",
     "output_type": "stream",
     "text": [
      "9\n"
     ]
    }
   ],
   "source": [
    "print generatore1.next()"
   ]
  },
  {
   "cell_type": "code",
   "execution_count": 35,
   "metadata": {
    "collapsed": false
   },
   "outputs": [
    {
     "name": "stdout",
     "output_type": "stream",
     "text": [
      "Generatore vuoto...\n"
     ]
    },
    {
     "ename": "StopIteration",
     "evalue": "",
     "output_type": "error",
     "traceback": [
      "\u001b[1;31m---------------------------------------------------------------------------\u001b[0m",
      "\u001b[1;31mStopIteration\u001b[0m                             Traceback (most recent call last)",
      "\u001b[1;32m<ipython-input-35-c7416290fa10>\u001b[0m in \u001b[0;36m<module>\u001b[1;34m()\u001b[0m\n\u001b[0;32m      4\u001b[0m     \u001b[1;32mprint\u001b[0m \u001b[1;34m\"Generatore vuoto...\"\u001b[0m\u001b[1;33m\u001b[0m\u001b[0m\n\u001b[0;32m      5\u001b[0m \u001b[1;33m\u001b[0m\u001b[0m\n\u001b[1;32m----> 6\u001b[1;33m \u001b[0mgeneratore\u001b[0m\u001b[1;33m.\u001b[0m\u001b[0mnext\u001b[0m\u001b[1;33m(\u001b[0m\u001b[1;33m)\u001b[0m\u001b[1;33m\u001b[0m\u001b[0m\n\u001b[0m",
      "\u001b[1;31mStopIteration\u001b[0m: "
     ]
    }
   ],
   "source": [
    "try:\n",
    "    generatore.next()\n",
    "except StopIteration:\n",
    "    print \"Generatore vuoto...\"\n",
    "    \n",
    "generatore.next()"
   ]
  },
  {
   "cell_type": "code",
   "execution_count": 37,
   "metadata": {
    "collapsed": false
   },
   "outputs": [
    {
     "name": "stdout",
     "output_type": "stream",
     "text": [
      "<generator object my_doublify at 0x7f1b9d157f00>\n",
      "0\n",
      "2\n",
      "4\n",
      "6\n",
      "8\n"
     ]
    }
   ],
   "source": [
    "def my_doublify(num):\n",
    "    for i in range(num):\n",
    "        yield i*2 # yield  come il return ma non si stoppa subito come il return, continua l'iterazione\n",
    "\n",
    "print my_doublify(8)\n",
    "for i in my_doublify(5):\n",
    "    print i"
   ]
  },
  {
   "cell_type": "code",
   "execution_count": 43,
   "metadata": {
    "collapsed": false
   },
   "outputs": [
    {
     "name": "stdout",
     "output_type": "stream",
     "text": [
      "0\n",
      "1\n",
      "2\n",
      "3\n",
      "4\n",
      "5\n",
      "6\n"
     ]
    }
   ],
   "source": [
    "for i in xrange(10000000): #  il range in versione generatore\n",
    "    print i\n",
    "    if i>5:\n",
    "        break"
   ]
  },
  {
   "cell_type": "markdown",
   "metadata": {},
   "source": [
    "# Classi e Oggetti"
   ]
  },
  {
   "cell_type": "code",
   "execution_count": 44,
   "metadata": {
    "collapsed": false
   },
   "outputs": [
    {
     "name": "stdout",
     "output_type": "stream",
     "text": [
      "<__main__.MyClass instance at 0x7f1b9d13c950>\n"
     ]
    }
   ],
   "source": [
    "class MyClass(): #dichiaro la classe\n",
    "    pass\n",
    "\n",
    "c = MyClass() # istanzio la classe\n",
    "print c"
   ]
  },
  {
   "cell_type": "code",
   "execution_count": 45,
   "metadata": {
    "collapsed": false
   },
   "outputs": [
    {
     "name": "stdout",
     "output_type": "stream",
     "text": [
      "ciao\n",
      "mondo\n"
     ]
    }
   ],
   "source": [
    "c.attributo = 'ciao'\n",
    "print c.attributo\n",
    "c.attributo = 'mondo'\n",
    "print c.attributo"
   ]
  },
  {
   "cell_type": "code",
   "execution_count": 46,
   "metadata": {
    "collapsed": false
   },
   "outputs": [
    {
     "ename": "AttributeError",
     "evalue": "MyClass instance has no attribute 'attributo'",
     "output_type": "error",
     "traceback": [
      "\u001b[1;31m---------------------------------------------------------------------------\u001b[0m",
      "\u001b[1;31mAttributeError\u001b[0m                            Traceback (most recent call last)",
      "\u001b[1;32m<ipython-input-46-90ab9ed10892>\u001b[0m in \u001b[0;36m<module>\u001b[1;34m()\u001b[0m\n\u001b[0;32m      1\u001b[0m \u001b[0mb\u001b[0m \u001b[1;33m=\u001b[0m \u001b[0mMyClass\u001b[0m\u001b[1;33m(\u001b[0m\u001b[1;33m)\u001b[0m\u001b[1;33m\u001b[0m\u001b[0m\n\u001b[1;32m----> 2\u001b[1;33m \u001b[0mb\u001b[0m\u001b[1;33m.\u001b[0m\u001b[0mattributo\u001b[0m\u001b[1;33m(\u001b[0m\u001b[1;33m)\u001b[0m \u001b[1;31m# da' errore perche' l'attributo l'ho creato fuori dalla classe\u001b[0m\u001b[1;33m\u001b[0m\u001b[0m\n\u001b[0m",
      "\u001b[1;31mAttributeError\u001b[0m: MyClass instance has no attribute 'attributo'"
     ]
    }
   ],
   "source": [
    "b = MyClass()\n",
    "b.attributo() # da' errore perche' l'attributo l'ho creato fuori dalla classe"
   ]
  },
  {
   "cell_type": "code",
   "execution_count": 49,
   "metadata": {
    "collapsed": false
   },
   "outputs": [
    {
     "name": "stdout",
     "output_type": "stream",
     "text": [
      "Giacomo\n"
     ]
    }
   ],
   "source": [
    "class Person(): # buona norma  chiamare le classi con l'iniziale maiuscola\n",
    "    \n",
    "    def __init__(self, n, c):\n",
    "        self.name = n\n",
    "        self.cognome = c\n",
    "\n",
    "persona = Person('Giacomo', 'Di Prinzio')\n",
    "print persona.name"
   ]
  },
  {
   "cell_type": "code",
   "execution_count": 105,
   "metadata": {
    "collapsed": false
   },
   "outputs": [
    {
     "name": "stdout",
     "output_type": "stream",
     "text": [
      "jack\n",
      "unknown\n",
      "unknown\n",
      "nicholson\n"
     ]
    }
   ],
   "source": [
    "try: persona = Person('jack')\n",
    "except:\n",
    "    \"Devi dare 2 argomenti\"\n",
    "    pass\n",
    "print persona.name\n",
    "print persona.cognome\n",
    "persona = Person(c='nicholson')\n",
    "print persona.name\n",
    "print persona.cognome"
   ]
  },
  {
   "cell_type": "code",
   "execution_count": 54,
   "metadata": {
    "collapsed": false
   },
   "outputs": [
    {
     "name": "stdout",
     "output_type": "stream",
     "text": [
      "Giacomo - Di Prinzio\n"
     ]
    }
   ],
   "source": [
    "class Person(): # buona norma  chiamare le classi con l'iniziale maiuscola\n",
    "    \n",
    "    def __init__(self, n='unknown', c='unknown'):\n",
    "        self.name = n\n",
    "        self.cognome = c\n",
    "    \n",
    "    def print_name(self):\n",
    "        return '%s - %s' % (self.name, self.cognome)\n",
    "\n",
    "persona = Person('Giacomo', 'Di Prinzio')\n",
    "print persona.print_name()"
   ]
  },
  {
   "cell_type": "code",
   "execution_count": 55,
   "metadata": {
    "collapsed": false
   },
   "outputs": [
    {
     "name": "stdout",
     "output_type": "stream",
     "text": [
      "Giacomo - Di Prinzio\n"
     ]
    }
   ],
   "source": [
    "class Person(): # buona norma  chiamare le classi con l'iniziale maiuscola\n",
    "    \n",
    "    def __init__(self, n='unknown', c='unknown'):\n",
    "        self.name = n\n",
    "        self.cognome = c\n",
    "    \n",
    "    def __str__(self):\n",
    "        return '%s - %s' % (self.name, self.cognome)\n",
    "\n",
    "persona = Person('Giacomo', 'Di Prinzio')\n",
    "print persona"
   ]
  },
  {
   "cell_type": "code",
   "execution_count": 57,
   "metadata": {
    "collapsed": false
   },
   "outputs": [
    {
     "name": "stdout",
     "output_type": "stream",
     "text": [
      "Giacomo - Di Prinzio\n",
      "Jack - Nicholson\n"
     ]
    },
    {
     "data": {
      "text/plain": [
       "<__main__.Person instance at 0x7f1b9d0a5290>"
      ]
     },
     "execution_count": 57,
     "metadata": {},
     "output_type": "execute_result"
    }
   ],
   "source": [
    "persona.name = 'Nuovo Nome' # meglio evitare: piuttosto creare un metodo che va a fare quella monifica\n",
    "\n",
    "class Person(): # buona norma  chiamare le classi con l'iniziale maiuscola\n",
    "    \n",
    "    def __init__(self, n='unknown', c='unknown'):\n",
    "        self.name = n\n",
    "        self.cognome = c\n",
    "    \n",
    "    def __str__(self):\n",
    "        return '%s - %s' % (self.name, self.cognome)\n",
    "    \n",
    "    def rename(self, new_name, new_cognome):\n",
    "        self.name = new_name\n",
    "        self.cognome = new_cognome\n",
    "\n",
    "persona = Person('Giacomo', 'Di Prinzio')\n",
    "print persona\n",
    "persona.rename('Jack', 'Nicholson')\n",
    "print persona\n",
    "persona # per modificare cosa esce da qui definire il metodo __repr__ per esempio copiando __str__,\n",
    "        #certo fare tanti metodi che fano la stessa cosa non  buona norma"
   ]
  },
  {
   "cell_type": "code",
   "execution_count": 69,
   "metadata": {
    "collapsed": false
   },
   "outputs": [
    {
     "name": "stdout",
     "output_type": "stream",
     "text": [
      "Giacomo - Di Prinzio\n",
      "Jack - Nicholson\n",
      "Jack - Nicholson\n",
      "Jack - Nicholson\n"
     ]
    }
   ],
   "source": [
    "class Person(): # buona norma  chiamare le classi con l'iniziale maiuscola\n",
    "    \n",
    "    def __init__(self, n='unknown', c='unknown'):\n",
    "        self.name = n\n",
    "        self.cognome = c\n",
    "    \n",
    "    def __str__(self):\n",
    "        return '%s - %s' % (self.name, self.cognome)\n",
    "    \n",
    "    def rename(self, new_name, new_cognome):\n",
    "        self.name = new_name\n",
    "        self.cognome = new_cognome\n",
    "        \n",
    "    @property #decorazione\n",
    "    def fullname(self):\n",
    "        return '%s - %s' % (self.name, self.cognome)\n",
    "    @fullname.setter\n",
    "    def fullname(self, value):\n",
    "    # esempio di value... value = 'Giacomo Di Prinzio'\n",
    "        self.name, self.cognome = value.split()\n",
    "\n",
    "persona = Person('Giacomo', 'Di Prinzio')\n",
    "print persona\n",
    "persona.rename('Jack', 'Nicholson')\n",
    "print persona\n",
    "print persona.fullname\n",
    "persona.fullname = 'dgfdg hlkhlkj'\n",
    "print persona # perche' non va? perche' questo e' un caso in cui devo \n",
    "              # mettere object sulla dichiarazione dell'istanza: class Person(object)"
   ]
  },
  {
   "cell_type": "markdown",
   "metadata": {},
   "source": [
    "# Ereditarieta'"
   ]
  },
  {
   "cell_type": "code",
   "execution_count": 70,
   "metadata": {
    "collapsed": false
   },
   "outputs": [
    {
     "name": "stdout",
     "output_type": "stream",
     "text": [
      "Giacomo - Di Prinzio\n"
     ]
    }
   ],
   "source": [
    "class Person(object):\n",
    "    \n",
    "    def __init__(self, n='unknown', c='unknown'):\n",
    "        self.name = n\n",
    "        self.cognome = c\n",
    "        \n",
    "    def __str__(self):\n",
    "        return '%s - %s' % (self.name, self.cognome)\n",
    "\n",
    "p = Person('Giacomo', 'Di Prinzio')\n",
    "print p"
   ]
  },
  {
   "cell_type": "code",
   "execution_count": 73,
   "metadata": {
    "collapsed": false
   },
   "outputs": [
    {
     "name": "stdout",
     "output_type": "stream",
     "text": [
      "Giacomo - Di Prinzio\n",
      "unknown - unknown\n",
      "unknown / unknown\n"
     ]
    }
   ],
   "source": [
    "class Person(object):\n",
    "    \n",
    "    def __init__(self, n='unknown', c='unknown'):\n",
    "        self.name = n\n",
    "        self.cognome = c\n",
    "        \n",
    "    def __str__(self):\n",
    "        return '%s - %s' % (self.name, self.cognome)\n",
    "    \n",
    "class Uomo(Person):\n",
    "    def __str__(self):\n",
    "        return '%s / %s' % (self.name, self.cognome)\n",
    "\n",
    "p = Person('Giacomo', 'Di Prinzio')\n",
    "print p\n",
    "p = Person()\n",
    "print p\n",
    "u = Uomo()\n",
    "print u"
   ]
  },
  {
   "cell_type": "code",
   "execution_count": 104,
   "metadata": {
    "collapsed": false
   },
   "outputs": [
    {
     "name": "stdout",
     "output_type": "stream",
     "text": [
      "Giacomo - Di Prinzio\n",
      "unknown - unknown\n",
      "ciao / mare : 45\n",
      "45 / unknown : 0\n",
      "unknown / unknown : 45\n"
     ]
    }
   ],
   "source": [
    "class Person(object):\n",
    "    \n",
    "    def __init__(self, n='unknown', c='unknown'):\n",
    "        self.name = n\n",
    "        self.cognome = c\n",
    "        \n",
    "    def __str__(self):\n",
    "        return '%s - %s' % (self.name, self.cognome)\n",
    "    \n",
    "class Uomo(Person):\n",
    "    \n",
    "    def __init__(self, n='unknown', c='unknown', e=0):\n",
    "        super(Uomo, self).__init__(n,c)\n",
    "        self.eta = e\n",
    "    \n",
    "    def __str__(self):\n",
    "        return '%s / %s : %s' % (self.name, self.cognome, self.eta)\n",
    "\n",
    "p = Person('Giacomo', 'Di Prinzio')\n",
    "print p\n",
    "p = Person()\n",
    "print p\n",
    "u = Uomo('ciao','mare',45)\n",
    "print u\n",
    "u = Uomo(45)\n",
    "print u\n",
    "u = Uomo(e=45)\n",
    "print u"
   ]
  },
  {
   "cell_type": "code",
   "execution_count": 87,
   "metadata": {
    "collapsed": false
   },
   "outputs": [
    {
     "name": "stdout",
     "output_type": "stream",
     "text": [
      "Ciao mondo\n",
      "Ciao Mondo\n",
      "10\n"
     ]
    }
   ],
   "source": [
    "class MyClass(object):\n",
    "    \n",
    "    def hello(self):\n",
    "        return 'Ciao mondo'\n",
    "    \n",
    "    @classmethod\n",
    "    def sono_metodo_di_classe(self):\n",
    "        return 'Ciao Mondo'\n",
    "    \n",
    "    @classmethod\n",
    "    def init_with_secret(self, sec):\n",
    "        c = MyClass()\n",
    "        c.secret = sec\n",
    "        return c\n",
    "    \n",
    "classe = MyClass()\n",
    "print classe.hello()\n",
    "print MyClass.sono_metodo_di_classe()\n",
    "c = MyClass.init_with_secret(10)\n",
    "print c.secret        "
   ]
  },
  {
   "cell_type": "code",
   "execution_count": null,
   "metadata": {
    "collapsed": true
   },
   "outputs": [],
   "source": []
  }
 ],
 "metadata": {
  "kernelspec": {
   "display_name": "Python [Root]",
   "language": "python",
   "name": "Python [Root]"
  },
  "language_info": {
   "codemirror_mode": {
    "name": "ipython",
    "version": 2
   },
   "file_extension": ".py",
   "mimetype": "text/x-python",
   "name": "python",
   "nbconvert_exporter": "python",
   "pygments_lexer": "ipython2",
   "version": "2.7.12"
  }
 },
 "nbformat": 4,
 "nbformat_minor": 0
}
