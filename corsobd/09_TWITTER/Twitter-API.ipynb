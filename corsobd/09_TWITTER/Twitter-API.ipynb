{
 "cells": [
  {
   "cell_type": "markdown",
   "metadata": {},
   "source": [
    "# Network Science\n",
    "\n",
    "\n",
    "**GOAL OF THE SESSION**: Fetch data from Twitter APIs\n",
    "\n",
    "**DATA SOURCE**: Twitter \n",
    "\n",
    "**DEVELOPMENT**: How to create a Python script to query Twitter APIs\n",
    "\n",
    "**REQUIREMENTS**: \n",
    "\n",
    "    Twitter Developer Account\n",
    "    tweepy \n",
    "    Python Pretty Print\n",
    "\n",
    "### Pretty Print\n",
    "\n",
    "Using **pprint** we can format in a nice way the print output. Here an example:\n",
    "\n",
    "    import pprint\n",
    "    pp = pprint.PrettyPrinter(indent=2)\n",
    "    pp.pprint(OBJECT-TO-PRINT)\n"
   ]
  },
  {
   "cell_type": "code",
   "execution_count": 1,
   "metadata": {
    "collapsed": false
   },
   "outputs": [
    {
     "name": "stdout",
     "output_type": "stream",
     "text": [
      "NON PRETTY\n",
      "{'list': [1, 2, 3], 'Surname': 'Comu', 'name': 'Alex', 'address': {'street': 'Via Maria Vittoria', 'number': 1}} \n",
      "\n",
      "PRETTY:\n",
      "{ 'Surname': 'Comu',\n",
      "  'address': { 'number': 1, 'street': 'Via Maria Vittoria'},\n",
      "  'list': [1, 2, 3],\n",
      "  'name': 'Alex'}\n"
     ]
    }
   ],
   "source": [
    "import pprint\n",
    "#print help(pprint.PrettyPrinter)\n",
    "pp = pprint.PrettyPrinter(indent=2)\n",
    "names = {\"name\":\"Alex\", \"Surname\":\"Comu\", \"list\":[1,2,3],\"address\":{\"street\":\"Via Maria Vittoria\", \"number\":1}}\n",
    "print \"NON PRETTY\\n\", names, \"\\n\"\n",
    "print \"PRETTY:\"\n",
    "pp.pprint(names)"
   ]
  },
  {
   "cell_type": "markdown",
   "metadata": {},
   "source": [
    "# Demo with Special Effects\n",
    "\n",
    "Inside the folder **demo** you'll find a very cool demo, a super interaction between:\n",
    "\n",
    "* Twitter API\n",
    "* Python Web Server\n",
    "* D3Js visualization\n",
    "\n",
    "Read the file **Readme.md** to have more information about the example.\n",
    "\n",
    "The goal of the demo is to create a Connector between my PC and Twitter. After the creation of this connector I want ro retrieve all the tweets that contains a specific **hashtags**.\n",
    "\n",
    "At the end I'll represent the tweets in a dynamic data visualization with D3Js."
   ]
  },
  {
   "cell_type": "markdown",
   "metadata": {},
   "source": [
    "# Twitter Developer Account\n",
    "\n",
    "Sign in @ [https://dev.twitter.com/](https://dev.twitter.com/) website and create an account if you need.\n",
    "\n",
    "After the creation of the account we need to create a new Twitter APP to fetch the APIs, so go to [https://apps.twitter.com/](https://apps.twitter.com/) and create a new one.\n",
    "\n",
    "To allow our APP to use the Twitter APIs we need to create an Access Token, so click on **Keys and Access Tokens** and create a new one.\n",
    "\n",
    "And now we're ready to play with Twitter:)\n",
    "\n",
    "## Twitter Documentation\n",
    "\n",
    "[HERE](https://dev.twitter.com/overview/api) we can find a complete overview on Twitter API.\n",
    "\n",
    "# Tweepy Installation\n",
    "\n",
    "We need to install the package **tweepy**:\n",
    "\n",
    "    pip install tweepy\n",
    "    \n",
    "We can find the documentation of the Library:\n",
    "\n",
    "    http://tweepy.readthedocs.io/\n",
    "    \n",
    "## OAuth\n",
    "\n",
    "First of all we need to save our credentials in variables. After that we can login on twitter and start use the APIs.\n"
   ]
  },
  {
   "cell_type": "code",
   "execution_count": 2,
   "metadata": {
    "collapsed": true
   },
   "outputs": [],
   "source": [
    "import tweepy\n",
    "import pprint\n",
    "pp = pprint.PrettyPrinter(indent=2)\n",
    "\n",
    "CONSUMER_KEY = \"Z4Fo2V9q7NnO7mS0vXblpaaX1\"\n",
    "SECRET_KEY = \"i4pRrMoDrPKyUlFY3IVjvQs8xHkI6Z0NGxAqMiQv5qyxV5fUSJ\"\n",
    "ACCESS_TOKEN = \"799612892467367936-sSc54p6RLDz0cob3QdgHBgtN8v9bagd\"\n",
    "SECRET_ACCESS_TOKEN = \"6PbuUEtV3hY5fyuJjy5by0953J9ScS3vhnWFvE1dXZMPE\""
   ]
  },
  {
   "cell_type": "code",
   "execution_count": 3,
   "metadata": {
    "collapsed": true
   },
   "outputs": [],
   "source": [
    "# Twitter Authentication\n",
    "auth = tweepy.OAuthHandler(CONSUMER_KEY, SECRET_KEY)\n",
    "auth.set_access_token(ACCESS_TOKEN, SECRET_ACCESS_TOKEN)"
   ]
  },
  {
   "cell_type": "code",
   "execution_count": 4,
   "metadata": {
    "collapsed": false
   },
   "outputs": [
    {
     "name": "stdout",
     "output_type": "stream",
     "text": [
      "<tweepy.api.API object at 0x7fb0ad176950>\n"
     ]
    }
   ],
   "source": [
    "# Create the connection to the api\n",
    "api = tweepy.API(auth)\n",
    "print api\n"
   ]
  },
  {
   "cell_type": "code",
   "execution_count": 5,
   "metadata": {
    "collapsed": false
   },
   "outputs": [
    {
     "name": "stdout",
     "output_type": "stream",
     "text": [
      "Help on API in module tweepy.api object:\n",
      "\n",
      "class API(__builtin__.object)\n",
      " |  Twitter API\n",
      " |  \n",
      " |  Methods defined here:\n",
      " |  \n",
      " |  __init__(self, auth_handler=None, host='api.twitter.com', search_host='search.twitter.com', upload_host='upload.twitter.com', cache=None, api_root='/1.1', search_root='', upload_root='/1.1', retry_count=0, retry_delay=0, retry_errors=None, timeout=60, parser=None, compression=False, wait_on_rate_limit=False, wait_on_rate_limit_notify=False, proxy='')\n",
      " |      Api instance Constructor\n",
      " |      \n",
      " |      :param auth_handler:\n",
      " |      :param host:  url of the server of the rest api, default:'api.twitter.com'\n",
      " |      :param search_host: url of the search server, default:'search.twitter.com'\n",
      " |      :param upload_host: url of the upload server, default:'upload.twitter.com'\n",
      " |      :param cache: Cache to query if a GET method is used, default:None\n",
      " |      :param api_root: suffix of the api version, default:'/1.1'\n",
      " |      :param search_root: suffix of the search version, default:''\n",
      " |      :param upload_root: suffix of the upload version, default:'/1.1'\n",
      " |      :param retry_count: number of allowed retries, default:0\n",
      " |      :param retry_delay: delay in second between retries, default:0\n",
      " |      :param retry_errors: default:None\n",
      " |      :param timeout: delay before to consider the request as timed out in seconds, default:60\n",
      " |      :param parser: ModelParser instance to parse the responses, default:None\n",
      " |      :param compression: If the response is compressed, default:False\n",
      " |      :param wait_on_rate_limit: If the api wait when it hits the rate limit, default:False\n",
      " |      :param wait_on_rate_limit_notify: If the api print a notification when the rate limit is hit, default:False\n",
      " |      :param proxy: Url to use as proxy during the HTTP request, default:''\n",
      " |      \n",
      " |      :raise TypeError: If the given parser is not a ModelParser instance.\n",
      " |  \n",
      " |  add_list_members(self, screen_name=None, user_id=None, slug=None, list_id=None, owner_id=None, owner_screen_name=None)\n",
      " |      Perform bulk add of list members from user ID or screenname\n",
      " |  \n",
      " |  lookup_friendships(self, user_ids=None, screen_names=None)\n",
      " |      Perform bulk look up of friendships from user ID or screenname\n",
      " |  \n",
      " |  lookup_users(self, user_ids=None, screen_names=None, include_entities=None)\n",
      " |      Perform bulk look up of users from user ID or screenname\n",
      " |  \n",
      " |  me(self)\n",
      " |      Get the authenticated user\n",
      " |  \n",
      " |  media_upload(self, filename, *args, **kwargs)\n",
      " |      :reference: https://dev.twitter.com/rest/reference/post/media/upload\n",
      " |      :allowed_param:\n",
      " |  \n",
      " |  remove_list_members(self, screen_name=None, user_id=None, slug=None, list_id=None, owner_id=None, owner_screen_name=None)\n",
      " |      Perform bulk remove of list members from user ID or screenname\n",
      " |  \n",
      " |  statuses_lookup(self, id_, include_entities=None, trim_user=None, map_=None)\n",
      " |  \n",
      " |  update_profile_background_image(self, filename, **kargs)\n",
      " |      :reference: https://dev.twitter.com/rest/reference/post/account/update_profile_background_image\n",
      " |      :allowed_param:'tile', 'include_entities', 'skip_status', 'use'\n",
      " |  \n",
      " |  update_profile_banner(self, filename, **kargs)\n",
      " |      :reference: https://dev.twitter.com/rest/reference/post/account/update_profile_banner\n",
      " |      :allowed_param:'width', 'height', 'offset_left', 'offset_right'\n",
      " |  \n",
      " |  update_profile_image(self, filename, file_=None)\n",
      " |      :reference: https://dev.twitter.com/rest/reference/post/account/update_profile_image\n",
      " |      :allowed_param:'include_entities', 'skip_status'\n",
      " |  \n",
      " |  update_status(self, *args, **kwargs)\n",
      " |      :reference: https://dev.twitter.com/rest/reference/post/statuses/update\n",
      " |      :allowed_param:'status', 'in_reply_to_status_id', 'lat', 'long', 'source', 'place_id', 'display_coordinates', 'media_ids'\n",
      " |  \n",
      " |  update_with_media(self, filename, *args, **kwargs)\n",
      " |      :reference: https://dev.twitter.com/rest/reference/post/statuses/update_with_media\n",
      " |      :allowed_param:'status', 'possibly_sensitive', 'in_reply_to_status_id', 'lat', 'long', 'place_id', 'display_coordinates'\n",
      " |  \n",
      " |  verify_credentials(self, **kargs)\n",
      " |      :reference: https://dev.twitter.com/rest/reference/get/account/verify_credentials\n",
      " |      :allowed_param:'include_entities', 'skip_status', 'include_email'\n",
      " |  \n",
      " |  ----------------------------------------------------------------------\n",
      " |  Data descriptors defined here:\n",
      " |  \n",
      " |  __dict__\n",
      " |      dictionary for instance variables (if defined)\n",
      " |  \n",
      " |  __weakref__\n",
      " |      list of weak references to the object (if defined)\n",
      " |  \n",
      " |  add_list_member\n",
      " |      :reference: https://dev.twitter.com/docs/api/1.1/post/lists/members/create\n",
      " |      :allowed_param:'screen_name', 'user_id', 'owner_screen_name',\n",
      " |       'owner_id', 'slug', 'list_id'\n",
      " |  \n",
      " |  blocks\n",
      " |      :reference: https://dev.twitter.com/rest/reference/get/blocks/list\n",
      " |      :allowed_param:'cursor'\n",
      " |  \n",
      " |  blocks_ids\n",
      " |      :reference: https://dev.twitter.com/rest/reference/get/blocks/ids\n",
      " |  \n",
      " |  configuration\n",
      " |      :reference: https://dev.twitter.com/rest/reference/get/help/configuration\n",
      " |  \n",
      " |  create_block\n",
      " |      :reference: https://dev.twitter.com/rest/reference/post/blocks/create\n",
      " |      :allowed_param:'id', 'user_id', 'screen_name'\n",
      " |  \n",
      " |  create_favorite\n",
      " |      :reference:https://dev.twitter.com/rest/reference/post/favorites/create\n",
      " |      :allowed_param:'id'\n",
      " |  \n",
      " |  create_friendship\n",
      " |      :reference: https://dev.twitter.com/rest/reference/post/friendships/create\n",
      " |      :allowed_param:'id', 'user_id', 'screen_name', 'follow'\n",
      " |  \n",
      " |  create_list\n",
      " |      :reference: https://dev.twitter.com/rest/reference/post/lists/create\n",
      " |      :allowed_param:'name', 'mode', 'description'\n",
      " |  \n",
      " |  create_saved_search\n",
      " |      :reference: https://dev.twitter.com/rest/reference/post/saved_searches/create\n",
      " |      :allowed_param:'query'\n",
      " |  \n",
      " |  destroy_block\n",
      " |      :reference: https://dev.twitter.com/rest/reference/post/blocks/destroy\n",
      " |      :allowed_param:'id', 'user_id', 'screen_name'\n",
      " |  \n",
      " |  destroy_direct_message\n",
      " |      :reference: https://dev.twitter.com/rest/reference/post/direct_messages/destroy\n",
      " |      :allowed_param:'id'\n",
      " |  \n",
      " |  destroy_favorite\n",
      " |      :reference: https://dev.twitter.com/rest/reference/post/favorites/destroy\n",
      " |      :allowed_param:'id'\n",
      " |  \n",
      " |  destroy_friendship\n",
      " |      :reference: https://dev.twitter.com/rest/reference/post/friendships/destroy\n",
      " |      :allowed_param:'id', 'user_id', 'screen_name'\n",
      " |  \n",
      " |  destroy_list\n",
      " |      :reference: https://dev.twitter.com/rest/reference/post/lists/destroy\n",
      " |      :allowed_param:'owner_screen_name', 'owner_id', 'list_id', 'slug'\n",
      " |  \n",
      " |  destroy_saved_search\n",
      " |      :reference: https://dev.twitter.com/rest/reference/post/saved_searches/destroy/%3Aid\n",
      " |      :allowed_param:'id'\n",
      " |  \n",
      " |  destroy_status\n",
      " |      :reference: https://dev.twitter.com/rest/reference/post/statuses/destroy/%3Aid\n",
      " |      :allowed_param:'id'\n",
      " |  \n",
      " |  direct_messages\n",
      " |      :reference: https://dev.twitter.com/rest/reference/get/direct_messages\n",
      " |      :allowed_param:'since_id', 'max_id', 'count', 'full_text'\n",
      " |  \n",
      " |  favorites\n",
      " |      :reference: https://dev.twitter.com/rest/reference/get/favorites/list\n",
      " |      :allowed_param:'screen_name', 'user_id', 'max_id', 'count', 'since_id', 'max_id'\n",
      " |  \n",
      " |  followers\n",
      " |      :reference: https://dev.twitter.com/rest/reference/get/followers/list\n",
      " |      :allowed_param:'id', 'user_id', 'screen_name', 'cursor', 'count', 'skip_status', 'include_user_entities'\n",
      " |  \n",
      " |  followers_ids\n",
      " |      :reference: https://dev.twitter.com/rest/reference/get/followers/ids\n",
      " |      :allowed_param:'id', 'user_id', 'screen_name', 'cursor', 'count'\n",
      " |  \n",
      " |  friends\n",
      " |      :reference: https://dev.twitter.com/rest/reference/get/friends/list\n",
      " |      :allowed_param:'id', 'user_id', 'screen_name', 'cursor', 'skip_status', 'include_user_entities'\n",
      " |  \n",
      " |  friends_ids\n",
      " |      :reference: https://dev.twitter.com/rest/reference/get/friends/ids\n",
      " |      :allowed_param:'id', 'user_id', 'screen_name', 'cursor'\n",
      " |  \n",
      " |  friendships_incoming\n",
      " |      :reference: https://dev.twitter.com/rest/reference/get/friendships/incoming\n",
      " |      :allowed_param:'cursor'\n",
      " |  \n",
      " |  friendships_outgoing\n",
      " |      :reference: https://dev.twitter.com/rest/reference/get/friendships/outgoing\n",
      " |      :allowed_param:'cursor'\n",
      " |  \n",
      " |  geo_id\n",
      " |      :reference: https://dev.twitter.com/rest/reference/get/geo/id/%3Aplace_id\n",
      " |      :allowed_param:'id'\n",
      " |  \n",
      " |  geo_search\n",
      " |      :reference: https://dev.twitter.com/docs/api/1.1/get/geo/search\n",
      " |      :allowed_param:'lat', 'long', 'query', 'ip', 'granularity',\n",
      " |       'accuracy', 'max_results', 'contained_within\n",
      " |  \n",
      " |  geo_similar_places\n",
      " |      :reference: https://dev.twitter.com/rest/reference/get/geo/similar_places\n",
      " |      :allowed_param:'lat', 'long', 'name', 'contained_within'\n",
      " |  \n",
      " |  get_direct_message\n",
      " |      :reference: https://dev.twitter.com/rest/reference/get/direct_messages/show\n",
      " |      :allowed_param:'id', 'full_text'\n",
      " |  \n",
      " |  get_list\n",
      " |      :reference: https://dev.twitter.com/rest/reference/get/lists/show\n",
      " |      :allowed_param:'owner_screen_name', 'owner_id', 'slug', 'list_id'\n",
      " |  \n",
      " |  get_oembed\n",
      " |      :reference: https://dev.twitter.com/rest/reference/get/statuses/oembed\n",
      " |      :allowed_param:'id', 'url', 'maxwidth', 'hide_media', 'omit_script', 'align', 'related', 'lang'\n",
      " |  \n",
      " |  get_saved_search\n",
      " |      :reference: https://dev.twitter.com/rest/reference/get/saved_searches/show/%3Aid\n",
      " |      :allowed_param:'id'\n",
      " |  \n",
      " |  get_settings\n",
      " |      :reference: https://dev.twitter.com/rest/reference/get/account/settings\n",
      " |  \n",
      " |  get_status\n",
      " |      :reference: https://dev.twitter.com/rest/reference/get/statuses/show/%3Aid\n",
      " |      :allowed_param:'id'\n",
      " |  \n",
      " |  get_user\n",
      " |      :reference: https://dev.twitter.com/rest/reference/get/users/show\n",
      " |      :allowed_param:'id', 'user_id', 'screen_name'\n",
      " |  \n",
      " |  home_timeline\n",
      " |      :reference: https://dev.twitter.com/rest/reference/get/statuses/home_timeline\n",
      " |      :allowed_param:'since_id', 'max_id', 'count'\n",
      " |  \n",
      " |  list_members\n",
      " |      :reference: https://dev.twitter.com/docs/api/1.1/get/lists/members\n",
      " |      :allowed_param:'owner_screen_name', 'slug', 'list_id',\n",
      " |       'owner_id', 'cursor\n",
      " |  \n",
      " |  list_subscribers\n",
      " |      :reference: https://dev.twitter.com/docs/api/1.1/get/lists/subscribers\n",
      " |      :allowed_param:'owner_screen_name', 'slug', 'owner_id',\n",
      " |       'list_id', 'cursor\n",
      " |  \n",
      " |  list_timeline\n",
      " |      :reference: https://dev.twitter.com/docs/api/1.1/get/lists/statuses\n",
      " |      :allowed_param:'owner_screen_name', 'slug', 'owner_id', 'list_id',\n",
      " |       'since_id', 'max_id', 'count', 'include_rts\n",
      " |  \n",
      " |  lists_all\n",
      " |      :reference: https://dev.twitter.com/rest/reference/get/lists/list\n",
      " |      :allowed_param:'screen_name', 'user_id'\n",
      " |  \n",
      " |  lists_memberships\n",
      " |      :reference: https://dev.twitter.com/rest/reference/get/lists/memberships\n",
      " |      :allowed_param:'screen_name', 'user_id', 'filter_to_owned_lists', 'cursor'\n",
      " |  \n",
      " |  lists_subscriptions\n",
      " |      :reference: https://dev.twitter.com/rest/reference/get/lists/subscriptions\n",
      " |      :allowed_param:'screen_name', 'user_id', 'cursor'\n",
      " |  \n",
      " |  mentions_timeline\n",
      " |      :reference: https://dev.twitter.com/rest/reference/get/statuses/mentions_timeline\n",
      " |      :allowed_param:'since_id', 'max_id', 'count'\n",
      " |  \n",
      " |  rate_limit_status\n",
      " |      :reference: https://dev.twitter.com/rest/reference/get/application/rate_limit_status\n",
      " |      :allowed_param:'resources'\n",
      " |  \n",
      " |  related_results\n",
      " |      :reference: https://dev.twitter.com/docs/api/1.1/get/related_results/show/%3id.format\n",
      " |      :allowed_param:'id'\n",
      " |  \n",
      " |  remove_list_member\n",
      " |      :reference: https://dev.twitter.com/docs/api/1.1/post/lists/members/destroy\n",
      " |      :allowed_param:'screen_name', 'user_id', 'owner_screen_name',\n",
      " |       'owner_id', 'slug', 'list_id'\n",
      " |  \n",
      " |  report_spam\n",
      " |      :reference: https://dev.twitter.com/rest/reference/post/users/report_spam\n",
      " |      :allowed_param:'user_id', 'screen_name'\n",
      " |  \n",
      " |  retweet\n",
      " |      :reference: https://dev.twitter.com/rest/reference/post/statuses/retweet/%3Aid\n",
      " |      :allowed_param:'id'\n",
      " |  \n",
      " |  retweeters\n",
      " |      :reference: https://dev.twitter.com/rest/reference/get/statuses/retweeters/ids\n",
      " |      :allowed_param:'id', 'cursor', 'stringify_ids\n",
      " |  \n",
      " |  retweets\n",
      " |      :reference: https://dev.twitter.com/rest/reference/get/statuses/retweets/%3Aid\n",
      " |      :allowed_param:'id', 'count'\n",
      " |  \n",
      " |  retweets_of_me\n",
      " |      :reference: https://dev.twitter.com/rest/reference/get/statuses/retweets_of_me\n",
      " |      :allowed_param:'since_id', 'max_id', 'count'\n",
      " |  \n",
      " |  reverse_geocode\n",
      " |      :reference: https://dev.twitter.com/rest/reference/get/geo/reverse_geocode\n",
      " |      :allowed_param:'lat', 'long', 'accuracy', 'granularity', 'max_results'\n",
      " |  \n",
      " |  saved_searches\n",
      " |      :reference: https://dev.twitter.com/rest/reference/get/saved_searches/show/%3Aid\n",
      " |  \n",
      " |  search\n",
      " |      :reference: https://dev.twitter.com/rest/reference/get/search/tweets\n",
      " |      :allowed_param:'q', 'lang', 'locale', 'since_id', 'geocode',\n",
      " |       'max_id', 'since', 'until', 'result_type', 'count',\n",
      " |        'include_entities', 'from', 'to', 'source']\n",
      " |  \n",
      " |  search_users\n",
      " |      :reference: https://dev.twitter.com/rest/reference/get/users/search\n",
      " |      :allowed_param:'q', 'count', 'page'\n",
      " |  \n",
      " |  send_direct_message\n",
      " |      :reference: https://dev.twitter.com/rest/reference/post/direct_messages/new\n",
      " |      :allowed_param:'user', 'screen_name', 'user_id', 'text'\n",
      " |  \n",
      " |  sent_direct_messages\n",
      " |      :reference: https://dev.twitter.com/rest/reference/get/direct_messages/sent\n",
      " |      :allowed_param:'since_id', 'max_id', 'count', 'page', 'full_text'\n",
      " |  \n",
      " |  set_delivery_device\n",
      " |      :reference: https://dev.twitter.com/rest/reference/post/account/update_delivery_device\n",
      " |      :allowed_param:'device'\n",
      " |  \n",
      " |  set_settings\n",
      " |      :reference: https://dev.twitter.com/rest/reference/post/account/settings\n",
      " |      :allowed_param:'sleep_time_enabled', 'start_sleep_time',\n",
      " |      'end_sleep_time', 'time_zone', 'trend_location_woeid',\n",
      " |      'allow_contributor_request', 'lang'\n",
      " |  \n",
      " |  show_friendship\n",
      " |      :reference: https://dev.twitter.com/rest/reference/get/friendships/show\n",
      " |      :allowed_param:'source_id', 'source_screen_name'\n",
      " |  \n",
      " |  show_list_member\n",
      " |      :reference: https://dev.twitter.com/docs/api/1.1/get/lists/members/show\n",
      " |      :allowed_param:'list_id', 'slug', 'user_id', 'screen_name',\n",
      " |       'owner_screen_name', 'owner_id\n",
      " |  \n",
      " |  show_list_subscriber\n",
      " |      :reference: https://dev.twitter.com/docs/api/1.1/get/lists/subscribers/show\n",
      " |      :allowed_param:'owner_screen_name', 'slug', 'screen_name',\n",
      " |       'owner_id', 'list_id', 'user_id\n",
      " |  \n",
      " |  subscribe_list\n",
      " |      :reference: https://dev.twitter.com/docs/api/1.1/post/lists/subscribers/create\n",
      " |      :allowed_param:'owner_screen_name', 'slug', 'owner_id',\n",
      " |      'list_id'\n",
      " |  \n",
      " |  suggested_categories\n",
      " |      :reference: https://dev.twitter.com/rest/reference/get/users/suggestions\n",
      " |      :allowed_param:'lang'\n",
      " |  \n",
      " |  suggested_users\n",
      " |      :reference: https://dev.twitter.com/rest/reference/get/users/suggestions/%3Aslug\n",
      " |      :allowed_param:'slug', 'lang'\n",
      " |  \n",
      " |  suggested_users_tweets\n",
      " |      :reference: https://dev.twitter.com/rest/reference/get/users/suggestions/%3Aslug/members\n",
      " |      :allowed_param:'slug'\n",
      " |  \n",
      " |  supported_languages\n",
      " |      :reference: https://dev.twitter.com/rest/reference/get/help/languages\n",
      " |  \n",
      " |  trends_available\n",
      " |      :reference: https://dev.twitter.com/rest/reference/get/trends/available\n",
      " |  \n",
      " |  trends_closest\n",
      " |      :reference: https://dev.twitter.com/rest/reference/get/trends/closest\n",
      " |      :allowed_param:'lat', 'long'\n",
      " |  \n",
      " |  trends_place\n",
      " |      :reference: https://dev.twitter.com/rest/reference/get/trends/place\n",
      " |      :allowed_param:'id', 'exclude'\n",
      " |  \n",
      " |  unsubscribe_list\n",
      " |      :reference: https://dev.twitter.com/docs/api/1.1/post/lists/subscribers/destroy\n",
      " |      :allowed_param:'owner_screen_name', 'slug', 'owner_id',\n",
      " |      'list_id'\n",
      " |  \n",
      " |  update_list\n",
      " |      :reference: https://dev.twitter.com/rest/reference/post/lists/update\n",
      " |      :allowed_param: list_id', 'slug', 'name', 'mode', 'description', 'owner_screen_name', 'owner_id'\n",
      " |  \n",
      " |  update_profile\n",
      " |      :reference: https://dev.twitter.com/rest/reference/post/account/update_profile\n",
      " |      :allowed_param:'name', 'url', 'location', 'description'\n",
      " |  \n",
      " |  update_profile_colors\n",
      " |      :reference: https://dev.twitter.com/docs/api/1.1/post/account/update_profile_colors\n",
      " |      :allowed_param:'profile_background_color', 'profile_text_color',\n",
      " |       'profile_link_color', 'profile_sidebar_fill_color',\n",
      " |       'profile_sidebar_border_color'],\n",
      " |  \n",
      " |  user_timeline\n",
      " |      :reference: https://dev.twitter.com/rest/reference/get/statuses/user_timeline\n",
      " |      :allowed_param:'id', 'user_id', 'screen_name', 'since_id'\n",
      "\n"
     ]
    }
   ],
   "source": [
    "help(api)"
   ]
  },
  {
   "cell_type": "code",
   "execution_count": 6,
   "metadata": {
    "collapsed": false,
    "scrolled": false
   },
   "outputs": [
    {
     "data": {
      "text/plain": [
       "{u'rate_limit_context': {u'access_token': u'799612892467367936-sSc54p6RLDz0cob3QdgHBgtN8v9bagd'},\n",
       " u'resources': {u'account': {u'/account/login_verification_enrollment': {u'limit': 15,\n",
       "    u'remaining': 15,\n",
       "    u'reset': 1479481501},\n",
       "   u'/account/settings': {u'limit': 15,\n",
       "    u'remaining': 15,\n",
       "    u'reset': 1479481501},\n",
       "   u'/account/update_profile': {u'limit': 15,\n",
       "    u'remaining': 15,\n",
       "    u'reset': 1479481501},\n",
       "   u'/account/verify_credentials': {u'limit': 75,\n",
       "    u'remaining': 75,\n",
       "    u'reset': 1479481501}},\n",
       "  u'application': {u'/application/rate_limit_status': {u'limit': 180,\n",
       "    u'remaining': 179,\n",
       "    u'reset': 1479481501}},\n",
       "  u'auth': {u'/auth/csrf_token': {u'limit': 15,\n",
       "    u'remaining': 15,\n",
       "    u'reset': 1479481501}},\n",
       "  u'blocks': {u'/blocks/ids': {u'limit': 15,\n",
       "    u'remaining': 15,\n",
       "    u'reset': 1479481501},\n",
       "   u'/blocks/list': {u'limit': 15, u'remaining': 15, u'reset': 1479481501}},\n",
       "  u'business_experience': {u'/business_experience/dashboard_features': {u'limit': 450,\n",
       "    u'remaining': 450,\n",
       "    u'reset': 1479481501},\n",
       "   u'/business_experience/dashboard_settings/destroy': {u'limit': 450,\n",
       "    u'remaining': 450,\n",
       "    u'reset': 1479481501},\n",
       "   u'/business_experience/dashboard_settings/show': {u'limit': 450,\n",
       "    u'remaining': 450,\n",
       "    u'reset': 1479481501},\n",
       "   u'/business_experience/dashboard_settings/update': {u'limit': 450,\n",
       "    u'remaining': 450,\n",
       "    u'reset': 1479481501},\n",
       "   u'/business_experience/keywords': {u'limit': 450,\n",
       "    u'remaining': 450,\n",
       "    u'reset': 1479481501}},\n",
       "  u'collections': {u'/collections/entries': {u'limit': 1000,\n",
       "    u'remaining': 1000,\n",
       "    u'reset': 1479481501},\n",
       "   u'/collections/list': {u'limit': 1000,\n",
       "    u'remaining': 1000,\n",
       "    u'reset': 1479481501},\n",
       "   u'/collections/show': {u'limit': 1000,\n",
       "    u'remaining': 1000,\n",
       "    u'reset': 1479481501}},\n",
       "  u'contacts': {u'/contacts/addressbook': {u'limit': 300,\n",
       "    u'remaining': 300,\n",
       "    u'reset': 1479481501},\n",
       "   u'/contacts/delete/status': {u'limit': 300,\n",
       "    u'remaining': 300,\n",
       "    u'reset': 1479481501},\n",
       "   u'/contacts/uploaded_by': {u'limit': 300,\n",
       "    u'remaining': 300,\n",
       "    u'reset': 1479481501},\n",
       "   u'/contacts/users': {u'limit': 300,\n",
       "    u'remaining': 300,\n",
       "    u'reset': 1479481501},\n",
       "   u'/contacts/users_and_uploaded_by': {u'limit': 300,\n",
       "    u'remaining': 300,\n",
       "    u'reset': 1479481501}},\n",
       "  u'custom_profiles': {u'/custom_profiles/show': {u'limit': 180,\n",
       "    u'remaining': 180,\n",
       "    u'reset': 1479481501}},\n",
       "  u'device': {u'/device/token': {u'limit': 15,\n",
       "    u'remaining': 15,\n",
       "    u'reset': 1479481501}},\n",
       "  u'direct_messages': {u'/direct_messages': {u'limit': 300,\n",
       "    u'remaining': 300,\n",
       "    u'reset': 1479481501},\n",
       "   u'/direct_messages/sent': {u'limit': 300,\n",
       "    u'remaining': 300,\n",
       "    u'reset': 1479481501},\n",
       "   u'/direct_messages/sent_and_received': {u'limit': 300,\n",
       "    u'remaining': 300,\n",
       "    u'reset': 1479481501},\n",
       "   u'/direct_messages/show': {u'limit': 300,\n",
       "    u'remaining': 300,\n",
       "    u'reset': 1479481501}},\n",
       "  u'drafts': {u'/drafts/statuses/create': {u'limit': 450,\n",
       "    u'remaining': 450,\n",
       "    u'reset': 1479481501},\n",
       "   u'/drafts/statuses/destroy': {u'limit': 450,\n",
       "    u'remaining': 450,\n",
       "    u'reset': 1479481501},\n",
       "   u'/drafts/statuses/ids': {u'limit': 450,\n",
       "    u'remaining': 450,\n",
       "    u'reset': 1479481501},\n",
       "   u'/drafts/statuses/list': {u'limit': 450,\n",
       "    u'remaining': 450,\n",
       "    u'reset': 1479481501},\n",
       "   u'/drafts/statuses/show': {u'limit': 450,\n",
       "    u'remaining': 450,\n",
       "    u'reset': 1479481501},\n",
       "   u'/drafts/statuses/update': {u'limit': 450,\n",
       "    u'remaining': 450,\n",
       "    u'reset': 1479481501}},\n",
       "  u'favorites': {u'/favorites/list': {u'limit': 75,\n",
       "    u'remaining': 73,\n",
       "    u'reset': 1479480925}},\n",
       "  u'feedback': {u'/feedback/events': {u'limit': 1000,\n",
       "    u'remaining': 1000,\n",
       "    u'reset': 1479481501},\n",
       "   u'/feedback/show/:id': {u'limit': 180,\n",
       "    u'remaining': 180,\n",
       "    u'reset': 1479481501}},\n",
       "  u'followers': {u'/followers/ids': {u'limit': 15,\n",
       "    u'remaining': 14,\n",
       "    u'reset': 1479480984},\n",
       "   u'/followers/list': {u'limit': 15, u'remaining': 3, u'reset': 1479480676}},\n",
       "  u'friends': {u'/friends/following/ids': {u'limit': 15,\n",
       "    u'remaining': 15,\n",
       "    u'reset': 1479481501},\n",
       "   u'/friends/following/list': {u'limit': 15,\n",
       "    u'remaining': 15,\n",
       "    u'reset': 1479481501},\n",
       "   u'/friends/ids': {u'limit': 15, u'remaining': 14, u'reset': 1479480933},\n",
       "   u'/friends/list': {u'limit': 15, u'remaining': 15, u'reset': 1479481501}},\n",
       "  u'friendships': {u'/friendships/incoming': {u'limit': 15,\n",
       "    u'remaining': 15,\n",
       "    u'reset': 1479481501},\n",
       "   u'/friendships/list': {u'limit': 200,\n",
       "    u'remaining': 200,\n",
       "    u'reset': 1479481501},\n",
       "   u'/friendships/lookup': {u'limit': 15,\n",
       "    u'remaining': 15,\n",
       "    u'reset': 1479481501},\n",
       "   u'/friendships/no_retweets/ids': {u'limit': 15,\n",
       "    u'remaining': 15,\n",
       "    u'reset': 1479481501},\n",
       "   u'/friendships/outgoing': {u'limit': 15,\n",
       "    u'remaining': 15,\n",
       "    u'reset': 1479481501},\n",
       "   u'/friendships/show': {u'limit': 180,\n",
       "    u'remaining': 180,\n",
       "    u'reset': 1479481501}},\n",
       "  u'geo': {u'/geo/id/:place_id': {u'limit': 75,\n",
       "    u'remaining': 75,\n",
       "    u'reset': 1479481501},\n",
       "   u'/geo/reverse_geocode': {u'limit': 15,\n",
       "    u'remaining': 15,\n",
       "    u'reset': 1479481501},\n",
       "   u'/geo/search': {u'limit': 15, u'remaining': 15, u'reset': 1479481501},\n",
       "   u'/geo/similar_places': {u'limit': 15,\n",
       "    u'remaining': 15,\n",
       "    u'reset': 1479481501}},\n",
       "  u'help': {u'/help/configuration': {u'limit': 15,\n",
       "    u'remaining': 15,\n",
       "    u'reset': 1479481501},\n",
       "   u'/help/languages': {u'limit': 15, u'remaining': 15, u'reset': 1479481501},\n",
       "   u'/help/privacy': {u'limit': 15, u'remaining': 15, u'reset': 1479481501},\n",
       "   u'/help/settings': {u'limit': 15, u'remaining': 15, u'reset': 1479481501},\n",
       "   u'/help/tos': {u'limit': 15, u'remaining': 15, u'reset': 1479481501}},\n",
       "  u'lists': {u'/lists/list': {u'limit': 15,\n",
       "    u'remaining': 15,\n",
       "    u'reset': 1479481501},\n",
       "   u'/lists/members': {u'limit': 900, u'remaining': 900, u'reset': 1479481501},\n",
       "   u'/lists/members/show': {u'limit': 15,\n",
       "    u'remaining': 15,\n",
       "    u'reset': 1479481501},\n",
       "   u'/lists/memberships': {u'limit': 75,\n",
       "    u'remaining': 75,\n",
       "    u'reset': 1479481501},\n",
       "   u'/lists/ownerships': {u'limit': 15,\n",
       "    u'remaining': 15,\n",
       "    u'reset': 1479481501},\n",
       "   u'/lists/show': {u'limit': 75, u'remaining': 75, u'reset': 1479481501},\n",
       "   u'/lists/statuses': {u'limit': 900,\n",
       "    u'remaining': 900,\n",
       "    u'reset': 1479481501},\n",
       "   u'/lists/subscribers': {u'limit': 180,\n",
       "    u'remaining': 180,\n",
       "    u'reset': 1479481501},\n",
       "   u'/lists/subscribers/show': {u'limit': 15,\n",
       "    u'remaining': 15,\n",
       "    u'reset': 1479481501},\n",
       "   u'/lists/subscriptions': {u'limit': 15,\n",
       "    u'remaining': 15,\n",
       "    u'reset': 1479481501}},\n",
       "  u'live_pipeline': {u'/live_pipeline/events': {u'limit': 180,\n",
       "    u'remaining': 180,\n",
       "    u'reset': 1479481501}},\n",
       "  u'live_video_stream': {u'/live_video_stream/status/:id': {u'limit': 1000,\n",
       "    u'remaining': 1000,\n",
       "    u'reset': 1479481501}},\n",
       "  u'media': {u'/media/upload': {u'limit': 500,\n",
       "    u'remaining': 500,\n",
       "    u'reset': 1479481501}},\n",
       "  u'moments': {u'/moments/permissions': {u'limit': 300,\n",
       "    u'remaining': 300,\n",
       "    u'reset': 1479481501}},\n",
       "  u'mutes': {u'/mutes/users/ids': {u'limit': 15,\n",
       "    u'remaining': 15,\n",
       "    u'reset': 1479481501},\n",
       "   u'/mutes/users/list': {u'limit': 15,\n",
       "    u'remaining': 15,\n",
       "    u'reset': 1479481501}},\n",
       "  u'saved_searches': {u'/saved_searches/destroy/:id': {u'limit': 15,\n",
       "    u'remaining': 15,\n",
       "    u'reset': 1479481501},\n",
       "   u'/saved_searches/list': {u'limit': 15,\n",
       "    u'remaining': 15,\n",
       "    u'reset': 1479481501},\n",
       "   u'/saved_searches/show/:id': {u'limit': 15,\n",
       "    u'remaining': 15,\n",
       "    u'reset': 1479481501}},\n",
       "  u'search': {u'/search/tweets': {u'limit': 180,\n",
       "    u'remaining': 180,\n",
       "    u'reset': 1479481501}},\n",
       "  u'statuses': {u'/statuses/friends': {u'limit': 15,\n",
       "    u'remaining': 15,\n",
       "    u'reset': 1479481501},\n",
       "   u'/statuses/home_timeline': {u'limit': 15,\n",
       "    u'remaining': 15,\n",
       "    u'reset': 1479481501},\n",
       "   u'/statuses/lookup': {u'limit': 900,\n",
       "    u'remaining': 900,\n",
       "    u'reset': 1479481501},\n",
       "   u'/statuses/mentions_timeline': {u'limit': 75,\n",
       "    u'remaining': 75,\n",
       "    u'reset': 1479481501},\n",
       "   u'/statuses/oembed': {u'limit': 180,\n",
       "    u'remaining': 180,\n",
       "    u'reset': 1479481501},\n",
       "   u'/statuses/retweeters/ids': {u'limit': 75,\n",
       "    u'remaining': 75,\n",
       "    u'reset': 1479481501},\n",
       "   u'/statuses/retweets/:id': {u'limit': 75,\n",
       "    u'remaining': 75,\n",
       "    u'reset': 1479481501},\n",
       "   u'/statuses/retweets_of_me': {u'limit': 75,\n",
       "    u'remaining': 75,\n",
       "    u'reset': 1479481501},\n",
       "   u'/statuses/show/:id': {u'limit': 900,\n",
       "    u'remaining': 900,\n",
       "    u'reset': 1479481501},\n",
       "   u'/statuses/user_timeline': {u'limit': 900,\n",
       "    u'remaining': 900,\n",
       "    u'reset': 1479481501}},\n",
       "  u'trends': {u'/trends/available': {u'limit': 75,\n",
       "    u'remaining': 75,\n",
       "    u'reset': 1479481501},\n",
       "   u'/trends/closest': {u'limit': 75, u'remaining': 75, u'reset': 1479481501},\n",
       "   u'/trends/place': {u'limit': 75, u'remaining': 75, u'reset': 1479481501}},\n",
       "  u'tweet_prompts': {u'/tweet_prompts/report_interaction': {u'limit': 180,\n",
       "    u'remaining': 180,\n",
       "    u'reset': 1479481501},\n",
       "   u'/tweet_prompts/show': {u'limit': 180,\n",
       "    u'remaining': 180,\n",
       "    u'reset': 1479481501}},\n",
       "  u'users': {u'/users/derived_info': {u'limit': 15,\n",
       "    u'remaining': 15,\n",
       "    u'reset': 1479481501},\n",
       "   u'/users/lookup': {u'limit': 900, u'remaining': 900, u'reset': 1479481501},\n",
       "   u'/users/profile_banner': {u'limit': 180,\n",
       "    u'remaining': 180,\n",
       "    u'reset': 1479481501},\n",
       "   u'/users/report_spam': {u'limit': 15,\n",
       "    u'remaining': 15,\n",
       "    u'reset': 1479481501},\n",
       "   u'/users/search': {u'limit': 900, u'remaining': 900, u'reset': 1479481501},\n",
       "   u'/users/show/:id': {u'limit': 900,\n",
       "    u'remaining': 898,\n",
       "    u'reset': 1479480830},\n",
       "   u'/users/suggestions': {u'limit': 15,\n",
       "    u'remaining': 15,\n",
       "    u'reset': 1479481501},\n",
       "   u'/users/suggestions/:slug': {u'limit': 15,\n",
       "    u'remaining': 15,\n",
       "    u'reset': 1479481501},\n",
       "   u'/users/suggestions/:slug/members': {u'limit': 15,\n",
       "    u'remaining': 15,\n",
       "    u'reset': 1479481501}}}}"
      ]
     },
     "execution_count": 6,
     "metadata": {},
     "output_type": "execute_result"
    }
   ],
   "source": [
    "api.rate_limit_status()"
   ]
  },
  {
   "cell_type": "markdown",
   "metadata": {},
   "source": [
    "## Tweet Stream"
   ]
  },
  {
   "cell_type": "code",
   "execution_count": 7,
   "metadata": {
    "collapsed": false,
    "scrolled": true
   },
   "outputs": [],
   "source": [
    "# download your home timeline tweets\n",
    "my_tweets = api.home_timeline()"
   ]
  },
  {
   "cell_type": "code",
   "execution_count": 8,
   "metadata": {
    "collapsed": false
   },
   "outputs": [
    {
     "name": "stdout",
     "output_type": "stream",
     "text": [
      "Tweets LEN:  20 \n",
      "\n"
     ]
    }
   ],
   "source": [
    "print \"Tweets LEN: \", len(my_tweets), \"\\n\""
   ]
  },
  {
   "cell_type": "code",
   "execution_count": 9,
   "metadata": {
    "collapsed": false
   },
   "outputs": [
    {
     "name": "stdout",
     "output_type": "stream",
     "text": [
      "TWEET DIR:  ['__class__', '__delattr__', '__dict__', '__doc__', '__eq__', '__format__', '__getattribute__', '__getstate__', '__hash__', '__init__', '__module__', '__ne__', '__new__', '__reduce__', '__reduce_ex__', '__repr__', '__setattr__', '__sizeof__', '__str__', '__subclasshook__', '__weakref__', '_api', '_json', 'author', 'contributors', 'coordinates', 'created_at', 'destroy', 'entities', 'favorite', 'favorite_count', 'favorited', 'geo', 'id', 'id_str', 'in_reply_to_screen_name', 'in_reply_to_status_id', 'in_reply_to_status_id_str', 'in_reply_to_user_id', 'in_reply_to_user_id_str', 'is_quote_status', 'lang', 'parse', 'parse_list', 'place', 'retweet', 'retweet_count', 'retweeted', 'retweets', 'source', 'source_url', 'text', 'truncated', 'user'] \n",
      "\n",
      "Help on Status in module tweepy.models object:\n",
      "\n",
      "class Status(Model)\n",
      " |  Method resolution order:\n",
      " |      Status\n",
      " |      Model\n",
      " |      __builtin__.object\n",
      " |  \n",
      " |  Methods defined here:\n",
      " |  \n",
      " |  __eq__(self, other)\n",
      " |  \n",
      " |  __ne__(self, other)\n",
      " |  \n",
      " |  destroy(self)\n",
      " |  \n",
      " |  favorite(self)\n",
      " |  \n",
      " |  retweet(self)\n",
      " |  \n",
      " |  retweets(self)\n",
      " |  \n",
      " |  ----------------------------------------------------------------------\n",
      " |  Class methods defined here:\n",
      " |  \n",
      " |  parse(cls, api, json) from __builtin__.type\n",
      " |  \n",
      " |  ----------------------------------------------------------------------\n",
      " |  Methods inherited from Model:\n",
      " |  \n",
      " |  __getstate__(self)\n",
      " |  \n",
      " |  __init__(self, api=None)\n",
      " |  \n",
      " |  __repr__(self)\n",
      " |  \n",
      " |  ----------------------------------------------------------------------\n",
      " |  Class methods inherited from Model:\n",
      " |  \n",
      " |  parse_list(cls, api, json_list) from __builtin__.type\n",
      " |      Parse a list of JSON objects into\n",
      " |      a result set of model instances.\n",
      " |  \n",
      " |  ----------------------------------------------------------------------\n",
      " |  Data descriptors inherited from Model:\n",
      " |  \n",
      " |  __dict__\n",
      " |      dictionary for instance variables (if defined)\n",
      " |  \n",
      " |  __weakref__\n",
      " |      list of weak references to the object (if defined)\n",
      "\n",
      "None\n"
     ]
    }
   ],
   "source": [
    "# Dir Command on Tweet\n",
    "print \"TWEET DIR: \", dir(my_tweets[0]), \"\\n\"\n",
    "print help(my_tweets[0])"
   ]
  },
  {
   "cell_type": "code",
   "execution_count": 10,
   "metadata": {
    "collapsed": false
   },
   "outputs": [
    {
     "name": "stdout",
     "output_type": "stream",
     "text": [
      "User(follow_request_sent=False, has_extended_profile=False, profile_use_background_image=True, _json={u'follow_request_sent': False, u'has_extended_profile': False, u'profile_use_background_image': True, u'default_profile_image': False, u'id': 2999307453, u'profile_background_image_url_https': u'https://abs.twimg.com/images/themes/theme1/bg.png', u'verified': False, u'translator_type': u'none', u'profile_text_color': u'333333', u'profile_image_url_https': u'https://pbs.twimg.com/profile_images/656344191035920384/HlpdLa4T_normal.jpg', u'profile_sidebar_fill_color': u'DDEEF6', u'entities': {u'description': {u'urls': []}}, u'followers_count': 4127, u'profile_sidebar_border_color': u'C0DEED', u'id_str': u'2999307453', u'profile_background_color': u'C0DEED', u'listed_count': 24, u'is_translation_enabled': False, u'utc_offset': -28800, u'statuses_count': 761, u'description': u'Raccogliamo le peggiori freddure e/o cazzate che girano nel Web e/o Whatsapp e ve le proponiamo a gratis.', u'friends_count': 16, u'location': u'', u'profile_link_color': u'1DA1F2', u'profile_image_url': u'http://pbs.twimg.com/profile_images/656344191035920384/HlpdLa4T_normal.jpg', u'following': True, u'geo_enabled': False, u'profile_banner_url': u'https://pbs.twimg.com/profile_banners/2999307453/1445319336', u'profile_background_image_url': u'http://abs.twimg.com/images/themes/theme1/bg.png', u'screen_name': u'freddure_brutte', u'lang': u'it', u'profile_background_tile': False, u'favourites_count': 65, u'name': u'freddure brutte', u'notifications': False, u'url': None, u'created_at': u'Mon Jan 26 09:11:33 +0000 2015', u'contributors_enabled': False, u'time_zone': u'Pacific Time (US & Canada)', u'protected': False, u'default_profile': True, u'is_translator': False}, time_zone=u'Pacific Time (US & Canada)', id=2999307453, description=u'Raccogliamo le peggiori freddure e/o cazzate che girano nel Web e/o Whatsapp e ve le proponiamo a gratis.', _api=<tweepy.api.API object at 0x7fb0ad176950>, verified=False, profile_text_color=u'333333', profile_image_url_https=u'https://pbs.twimg.com/profile_images/656344191035920384/HlpdLa4T_normal.jpg', profile_sidebar_fill_color=u'DDEEF6', is_translator=False, geo_enabled=False, entities={u'description': {u'urls': []}}, followers_count=4127, protected=False, id_str=u'2999307453', default_profile_image=False, listed_count=24, lang=u'it', utc_offset=-28800, statuses_count=761, profile_background_color=u'C0DEED', friends_count=16, profile_link_color=u'1DA1F2', profile_image_url=u'http://pbs.twimg.com/profile_images/656344191035920384/HlpdLa4T_normal.jpg', notifications=False, default_profile=True, profile_background_image_url_https=u'https://abs.twimg.com/images/themes/theme1/bg.png', profile_banner_url=u'https://pbs.twimg.com/profile_banners/2999307453/1445319336', profile_background_image_url=u'http://abs.twimg.com/images/themes/theme1/bg.png', name=u'freddure brutte', is_translation_enabled=False, profile_background_tile=False, favourites_count=65, screen_name=u'freddure_brutte', url=None, created_at=datetime.datetime(2015, 1, 26, 9, 11, 33), contributors_enabled=False, location=u'', profile_sidebar_border_color=u'C0DEED', translator_type=u'none', following=True)\n"
     ]
    }
   ],
   "source": [
    "# USER of first Tweet\n",
    "print my_tweets[0].user"
   ]
  },
  {
   "cell_type": "code",
   "execution_count": 11,
   "metadata": {
    "collapsed": false
   },
   "outputs": [
    {
     "name": "stdout",
     "output_type": "stream",
     "text": [
      "La cosa più bella del mondo \n",
      "\n",
      "https://t.co/iMYRk3aGnx \n",
      "\n",
      "I treni merci in Francia sono molto gentili \n",
      "\n"
     ]
    }
   ],
   "source": [
    "# First 3 tweets\n",
    "for index, tw in enumerate(my_tweets):\n",
    "    if index < 3:\n",
    "        print tw.text, \"\\n\""
   ]
  },
  {
   "cell_type": "markdown",
   "metadata": {},
   "source": [
    "## My Followers"
   ]
  },
  {
   "cell_type": "code",
   "execution_count": 12,
   "metadata": {
    "collapsed": false
   },
   "outputs": [
    {
     "name": "stdout",
     "output_type": "stream",
     "text": [
      "My_Followers LEN:  0\n"
     ]
    }
   ],
   "source": [
    "## fetch follewer lists\n",
    "my_followers = api.followers()\n",
    "print \"My_Followers LEN: \", len(my_followers)"
   ]
  },
  {
   "cell_type": "code",
   "execution_count": 13,
   "metadata": {
    "collapsed": false
   },
   "outputs": [
    {
     "ename": "IndexError",
     "evalue": "list index out of range",
     "output_type": "error",
     "traceback": [
      "\u001b[1;31m---------------------------------------------------------------------------\u001b[0m",
      "\u001b[1;31mIndexError\u001b[0m                                Traceback (most recent call last)",
      "\u001b[1;32m<ipython-input-13-fad6bb0f2f5b>\u001b[0m in \u001b[0;36m<module>\u001b[1;34m()\u001b[0m\n\u001b[1;32m----> 1\u001b[1;33m \u001b[0mmy_followers\u001b[0m\u001b[1;33m[\u001b[0m\u001b[1;36m0\u001b[0m\u001b[1;33m]\u001b[0m\u001b[1;33m\u001b[0m\u001b[0m\n\u001b[0m",
      "\u001b[1;31mIndexError\u001b[0m: list index out of range"
     ]
    }
   ],
   "source": [
    "my_followers[0]"
   ]
  },
  {
   "cell_type": "code",
   "execution_count": null,
   "metadata": {
    "collapsed": false
   },
   "outputs": [],
   "source": [
    "print dir(my_followers[0])"
   ]
  },
  {
   "cell_type": "code",
   "execution_count": null,
   "metadata": {
    "collapsed": false
   },
   "outputs": [],
   "source": [
    "print help(my_followers[0])"
   ]
  },
  {
   "cell_type": "code",
   "execution_count": null,
   "metadata": {
    "collapsed": false
   },
   "outputs": [],
   "source": [
    "pp.pprint(my_followers[0]._json)"
   ]
  },
  {
   "cell_type": "markdown",
   "metadata": {},
   "source": [
    "# Get External User"
   ]
  },
  {
   "cell_type": "code",
   "execution_count": 14,
   "metadata": {
    "collapsed": false
   },
   "outputs": [
    {
     "data": {
      "text/plain": [
       "User(follow_request_sent=False, has_extended_profile=False, profile_use_background_image=False, _json={u'follow_request_sent': False, u'has_extended_profile': False, u'profile_use_background_image': False, u'profile_text_color': u'333333', u'default_profile_image': False, u'id': 393894382, u'profile_background_image_url_https': u'https://abs.twimg.com/images/themes/theme1/bg.png', u'verified': False, u'translator_type': u'none', u'profile_location': None, u'profile_image_url_https': u'https://pbs.twimg.com/profile_images/597680334474485760/Z6OMNC0B_normal.jpg', u'profile_sidebar_fill_color': u'DDEEF6', u'entities': {u'url': {u'urls': [{u'url': u'http://t.co/lmrSnJtN6Y', u'indices': [0, 22], u'expanded_url': u'http://www.intesasanpaolo.com', u'display_url': u'intesasanpaolo.com'}]}, u'description': {u'urls': []}}, u'followers_count': 4240, u'profile_sidebar_border_color': u'FFFFFF', u'id_str': u'393894382', u'profile_background_color': u'DBDBDB', u'listed_count': 134, u'status': {u'contributors': None, u'truncated': False, u'text': u\"RT @MdR_Torino: Al Campus dei #fuoriclassedellascuola  inizia il #Softskills Lab dell'Ufficio #formazione manageriale @intesasanpaolo. http\\u2026\", u'is_quote_status': False, u'in_reply_to_status_id': None, u'id': 799604807774310401, u'favorite_count': 0, u'source': u'<a href=\"http://twitter.com/download/android\" rel=\"nofollow\">Twitter for Android</a>', u'retweeted': False, u'coordinates': None, u'entities': {u'symbols': [], u'user_mentions': [{u'id': 1131143048, u'indices': [3, 14], u'id_str': u'1131143048', u'screen_name': u'MdR_Torino', u'name': u'Museo del Risparmio'}, {u'id': 393894382, u'indices': [118, 133], u'id_str': u'393894382', u'screen_name': u'intesasanpaolo', u'name': u'Intesa Sanpaolo'}], u'hashtags': [{u'indices': [30, 53], u'text': u'fuoriclassedellascuola'}, {u'indices': [65, 76], u'text': u'Softskills'}, {u'indices': [94, 105], u'text': u'formazione'}], u'urls': []}, u'in_reply_to_screen_name': None, u'in_reply_to_user_id': None, u'retweet_count': 2, u'id_str': u'799604807774310401', u'favorited': False, u'retweeted_status': {u'contributors': None, u'truncated': True, u'text': u\"Al Campus dei #fuoriclassedellascuola  inizia il #Softskills Lab dell'Ufficio #formazione manageriale\\u2026 https://t.co/FBbYyjxjeD\", u'is_quote_status': False, u'in_reply_to_status_id': None, u'id': 799604442790240256, u'favorite_count': 4, u'source': u'<a href=\"http://twitter.com/download/android\" rel=\"nofollow\">Twitter for Android</a>', u'retweeted': False, u'coordinates': None, u'entities': {u'symbols': [], u'user_mentions': [], u'hashtags': [{u'indices': [14, 37], u'text': u'fuoriclassedellascuola'}, {u'indices': [49, 60], u'text': u'Softskills'}, {u'indices': [78, 89], u'text': u'formazione'}], u'urls': [{u'url': u'https://t.co/FBbYyjxjeD', u'indices': [103, 126], u'expanded_url': u'https://twitter.com/i/web/status/799604442790240256', u'display_url': u'twitter.com/i/web/status/7\\u2026'}]}, u'in_reply_to_screen_name': None, u'in_reply_to_user_id': None, u'retweet_count': 2, u'id_str': u'799604442790240256', u'favorited': False, u'geo': None, u'in_reply_to_user_id_str': None, u'possibly_sensitive': False, u'lang': u'it', u'created_at': u'Fri Nov 18 13:25:29 +0000 2016', u'in_reply_to_status_id_str': None, u'place': None}, u'geo': None, u'in_reply_to_user_id_str': None, u'lang': u'it', u'created_at': u'Fri Nov 18 13:26:56 +0000 2016', u'in_reply_to_status_id_str': None, u'place': None}, u'is_translation_enabled': True, u'utc_offset': 3600, u'statuses_count': 2424, u'description': u'Notizie, eventi e informazioni in tempo reale sul mondo Intesa Sanpaolo. Per assistenza su prodotti e servizi seguici su @IntesaSP_Help e @IntesaSPgiovani.', u'friends_count': 179, u'location': u'', u'profile_link_color': u'929292', u'profile_image_url': u'http://pbs.twimg.com/profile_images/597680334474485760/Z6OMNC0B_normal.jpg', u'following': False, u'geo_enabled': False, u'profile_banner_url': u'https://pbs.twimg.com/profile_banners/393894382/1473949795', u'profile_background_image_url': u'http://abs.twimg.com/images/themes/theme1/bg.png', u'name': u'Intesa Sanpaolo', u'lang': u'it', u'profile_background_tile': False, u'favourites_count': 1101, u'screen_name': u'intesasanpaolo', u'notifications': False, u'url': u'http://t.co/lmrSnJtN6Y', u'created_at': u'Wed Oct 19 07:46:49 +0000 2011', u'contributors_enabled': False, u'time_zone': u'Rome', u'protected': False, u'default_profile': False, u'is_translator': False}, time_zone=u'Rome', id=393894382, description=u'Notizie, eventi e informazioni in tempo reale sul mondo Intesa Sanpaolo. Per assistenza su prodotti e servizi seguici su @IntesaSP_Help e @IntesaSPgiovani.', _api=<tweepy.api.API object at 0x7fb0ad176950>, verified=False, profile_location=None, profile_image_url_https=u'https://pbs.twimg.com/profile_images/597680334474485760/Z6OMNC0B_normal.jpg', profile_sidebar_fill_color=u'DDEEF6', is_translator=False, geo_enabled=False, entities={u'url': {u'urls': [{u'url': u'http://t.co/lmrSnJtN6Y', u'indices': [0, 22], u'expanded_url': u'http://www.intesasanpaolo.com', u'display_url': u'intesasanpaolo.com'}]}, u'description': {u'urls': []}}, followers_count=4240, protected=False, id_str=u'393894382', default_profile_image=False, listed_count=134, status=Status(contributors=None, truncated=False, text=u\"RT @MdR_Torino: Al Campus dei #fuoriclassedellascuola  inizia il #Softskills Lab dell'Ufficio #formazione manageriale @intesasanpaolo. http\\u2026\", is_quote_status=False, in_reply_to_status_id=None, id=799604807774310401, favorite_count=0, _api=<tweepy.api.API object at 0x7fb0ad176950>, source=u'Twitter for Android', _json={u'contributors': None, u'truncated': False, u'text': u\"RT @MdR_Torino: Al Campus dei #fuoriclassedellascuola  inizia il #Softskills Lab dell'Ufficio #formazione manageriale @intesasanpaolo. http\\u2026\", u'is_quote_status': False, u'in_reply_to_status_id': None, u'id': 799604807774310401, u'favorite_count': 0, u'source': u'<a href=\"http://twitter.com/download/android\" rel=\"nofollow\">Twitter for Android</a>', u'retweeted': False, u'coordinates': None, u'entities': {u'symbols': [], u'user_mentions': [{u'id': 1131143048, u'indices': [3, 14], u'id_str': u'1131143048', u'screen_name': u'MdR_Torino', u'name': u'Museo del Risparmio'}, {u'id': 393894382, u'indices': [118, 133], u'id_str': u'393894382', u'screen_name': u'intesasanpaolo', u'name': u'Intesa Sanpaolo'}], u'hashtags': [{u'indices': [30, 53], u'text': u'fuoriclassedellascuola'}, {u'indices': [65, 76], u'text': u'Softskills'}, {u'indices': [94, 105], u'text': u'formazione'}], u'urls': []}, u'in_reply_to_screen_name': None, u'in_reply_to_user_id': None, u'retweet_count': 2, u'id_str': u'799604807774310401', u'favorited': False, u'retweeted_status': {u'contributors': None, u'truncated': True, u'text': u\"Al Campus dei #fuoriclassedellascuola  inizia il #Softskills Lab dell'Ufficio #formazione manageriale\\u2026 https://t.co/FBbYyjxjeD\", u'is_quote_status': False, u'in_reply_to_status_id': None, u'id': 799604442790240256, u'favorite_count': 4, u'source': u'<a href=\"http://twitter.com/download/android\" rel=\"nofollow\">Twitter for Android</a>', u'retweeted': False, u'coordinates': None, u'entities': {u'symbols': [], u'user_mentions': [], u'hashtags': [{u'indices': [14, 37], u'text': u'fuoriclassedellascuola'}, {u'indices': [49, 60], u'text': u'Softskills'}, {u'indices': [78, 89], u'text': u'formazione'}], u'urls': [{u'url': u'https://t.co/FBbYyjxjeD', u'indices': [103, 126], u'expanded_url': u'https://twitter.com/i/web/status/799604442790240256', u'display_url': u'twitter.com/i/web/status/7\\u2026'}]}, u'in_reply_to_screen_name': None, u'in_reply_to_user_id': None, u'retweet_count': 2, u'id_str': u'799604442790240256', u'favorited': False, u'geo': None, u'in_reply_to_user_id_str': None, u'possibly_sensitive': False, u'lang': u'it', u'created_at': u'Fri Nov 18 13:25:29 +0000 2016', u'in_reply_to_status_id_str': None, u'place': None}, u'geo': None, u'in_reply_to_user_id_str': None, u'lang': u'it', u'created_at': u'Fri Nov 18 13:26:56 +0000 2016', u'in_reply_to_status_id_str': None, u'place': None}, coordinates=None, entities={u'symbols': [], u'user_mentions': [{u'id': 1131143048, u'indices': [3, 14], u'id_str': u'1131143048', u'screen_name': u'MdR_Torino', u'name': u'Museo del Risparmio'}, {u'id': 393894382, u'indices': [118, 133], u'id_str': u'393894382', u'screen_name': u'intesasanpaolo', u'name': u'Intesa Sanpaolo'}], u'hashtags': [{u'indices': [30, 53], u'text': u'fuoriclassedellascuola'}, {u'indices': [65, 76], u'text': u'Softskills'}, {u'indices': [94, 105], u'text': u'formazione'}], u'urls': []}, in_reply_to_screen_name=None, id_str=u'799604807774310401', retweet_count=2, in_reply_to_user_id=None, favorited=False, retweeted_status=Status(contributors=None, truncated=True, text=u\"Al Campus dei #fuoriclassedellascuola  inizia il #Softskills Lab dell'Ufficio #formazione manageriale\\u2026 https://t.co/FBbYyjxjeD\", is_quote_status=False, in_reply_to_status_id=None, id=799604442790240256, favorite_count=4, _api=<tweepy.api.API object at 0x7fb0ad176950>, source=u'Twitter for Android', _json={u'contributors': None, u'truncated': True, u'text': u\"Al Campus dei #fuoriclassedellascuola  inizia il #Softskills Lab dell'Ufficio #formazione manageriale\\u2026 https://t.co/FBbYyjxjeD\", u'is_quote_status': False, u'in_reply_to_status_id': None, u'id': 799604442790240256, u'favorite_count': 4, u'source': u'<a href=\"http://twitter.com/download/android\" rel=\"nofollow\">Twitter for Android</a>', u'retweeted': False, u'coordinates': None, u'entities': {u'symbols': [], u'user_mentions': [], u'hashtags': [{u'indices': [14, 37], u'text': u'fuoriclassedellascuola'}, {u'indices': [49, 60], u'text': u'Softskills'}, {u'indices': [78, 89], u'text': u'formazione'}], u'urls': [{u'url': u'https://t.co/FBbYyjxjeD', u'indices': [103, 126], u'expanded_url': u'https://twitter.com/i/web/status/799604442790240256', u'display_url': u'twitter.com/i/web/status/7\\u2026'}]}, u'in_reply_to_screen_name': None, u'in_reply_to_user_id': None, u'retweet_count': 2, u'id_str': u'799604442790240256', u'favorited': False, u'geo': None, u'in_reply_to_user_id_str': None, u'possibly_sensitive': False, u'lang': u'it', u'created_at': u'Fri Nov 18 13:25:29 +0000 2016', u'in_reply_to_status_id_str': None, u'place': None}, coordinates=None, entities={u'symbols': [], u'user_mentions': [], u'hashtags': [{u'indices': [14, 37], u'text': u'fuoriclassedellascuola'}, {u'indices': [49, 60], u'text': u'Softskills'}, {u'indices': [78, 89], u'text': u'formazione'}], u'urls': [{u'url': u'https://t.co/FBbYyjxjeD', u'indices': [103, 126], u'expanded_url': u'https://twitter.com/i/web/status/799604442790240256', u'display_url': u'twitter.com/i/web/status/7\\u2026'}]}, in_reply_to_screen_name=None, id_str=u'799604442790240256', retweet_count=2, in_reply_to_user_id=None, favorited=False, source_url=u'http://twitter.com/download/android', geo=None, in_reply_to_user_id_str=None, possibly_sensitive=False, lang=u'it', created_at=datetime.datetime(2016, 11, 18, 13, 25, 29), in_reply_to_status_id_str=None, place=None, retweeted=False), source_url=u'http://twitter.com/download/android', geo=None, in_reply_to_user_id_str=None, lang=u'it', created_at=datetime.datetime(2016, 11, 18, 13, 26, 56), in_reply_to_status_id_str=None, place=None, retweeted=False), lang=u'it', utc_offset=3600, statuses_count=2424, profile_background_color=u'DBDBDB', friends_count=179, profile_link_color=u'929292', profile_image_url=u'http://pbs.twimg.com/profile_images/597680334474485760/Z6OMNC0B_normal.jpg', notifications=False, default_profile=False, favourites_count=1101, profile_background_image_url_https=u'https://abs.twimg.com/images/themes/theme1/bg.png', profile_banner_url=u'https://pbs.twimg.com/profile_banners/393894382/1473949795', profile_background_image_url=u'http://abs.twimg.com/images/themes/theme1/bg.png', screen_name=u'intesasanpaolo', is_translation_enabled=True, profile_background_tile=False, profile_text_color=u'333333', name=u'Intesa Sanpaolo', url=u'http://t.co/lmrSnJtN6Y', created_at=datetime.datetime(2011, 10, 19, 7, 46, 49), contributors_enabled=False, location=u'', profile_sidebar_border_color=u'FFFFFF', translator_type=u'none', following=False)"
      ]
     },
     "execution_count": 14,
     "metadata": {},
     "output_type": "execute_result"
    }
   ],
   "source": [
    "intesa = api.get_user(\"intesasanpaolo\")\n",
    "intesa"
   ]
  },
  {
   "cell_type": "code",
   "execution_count": 171,
   "metadata": {
    "collapsed": false
   },
   "outputs": [
    {
     "name": "stdout",
     "output_type": "stream",
     "text": [
      "Help on User in module tweepy.models object:\n",
      "\n",
      "class User(Model)\n",
      " |  Method resolution order:\n",
      " |      User\n",
      " |      Model\n",
      " |      __builtin__.object\n",
      " |  \n",
      " |  Methods defined here:\n",
      " |  \n",
      " |  follow(self)\n",
      " |  \n",
      " |  followers(self, **kargs)\n",
      " |  \n",
      " |  followers_ids(self, *args, **kargs)\n",
      " |  \n",
      " |  friends(self, **kargs)\n",
      " |  \n",
      " |  lists(self, *args, **kargs)\n",
      " |  \n",
      " |  lists_memberships(self, *args, **kargs)\n",
      " |  \n",
      " |  lists_subscriptions(self, *args, **kargs)\n",
      " |  \n",
      " |  timeline(self, **kargs)\n",
      " |  \n",
      " |  unfollow(self)\n",
      " |  \n",
      " |  ----------------------------------------------------------------------\n",
      " |  Class methods defined here:\n",
      " |  \n",
      " |  parse(cls, api, json) from __builtin__.type\n",
      " |  \n",
      " |  parse_list(cls, api, json_list) from __builtin__.type\n",
      " |  \n",
      " |  ----------------------------------------------------------------------\n",
      " |  Methods inherited from Model:\n",
      " |  \n",
      " |  __getstate__(self)\n",
      " |  \n",
      " |  __init__(self, api=None)\n",
      " |  \n",
      " |  __repr__(self)\n",
      " |  \n",
      " |  ----------------------------------------------------------------------\n",
      " |  Data descriptors inherited from Model:\n",
      " |  \n",
      " |  __dict__\n",
      " |      dictionary for instance variables (if defined)\n",
      " |  \n",
      " |  __weakref__\n",
      " |      list of weak references to the object (if defined)\n",
      "\n"
     ]
    }
   ],
   "source": [
    "help(intesa)"
   ]
  },
  {
   "cell_type": "code",
   "execution_count": 15,
   "metadata": {
    "collapsed": false
   },
   "outputs": [
    {
     "name": "stdout",
     "output_type": "stream",
     "text": [
      "4240\n"
     ]
    }
   ],
   "source": [
    "print intesa.followers_count"
   ]
  },
  {
   "cell_type": "code",
   "execution_count": 16,
   "metadata": {
    "collapsed": false
   },
   "outputs": [
    {
     "name": "stdout",
     "output_type": "stream",
     "text": [
      "179\n"
     ]
    }
   ],
   "source": [
    "friends = api.friends_ids('intesasanpaolo')\n",
    "print len(friends)"
   ]
  },
  {
   "cell_type": "code",
   "execution_count": 17,
   "metadata": {
    "collapsed": false
   },
   "outputs": [
    {
     "name": "stdout",
     "output_type": "stream",
     "text": [
      "20\n"
     ]
    }
   ],
   "source": [
    "likes = api.favorites('intesasanpaolo')\n",
    "print len(likes)"
   ]
  },
  {
   "cell_type": "code",
   "execution_count": 26,
   "metadata": {
    "collapsed": false
   },
   "outputs": [
    {
     "data": {
      "text/plain": [
       "Status(contributors=None, truncated=False, text=u'Nasce oggi PowerU Digital!  Grazie a @intesasanpaolo e @DeloitteItalia per credere con noi nel progetto @HumanAgeInsIT @ManpowerGroupIT', is_quote_status=False, in_reply_to_status_id=None, id=798107981736906753, favorite_count=4, _api=<tweepy.api.API object at 0x102cdf190>, author=User(follow_request_sent=False, has_extended_profile=False, profile_use_background_image=False, _json={u'follow_request_sent': False, u'has_extended_profile': False, u'profile_use_background_image': False, u'default_profile_image': False, u'id': 1166565846, u'profile_background_image_url_https': u'https://abs.twimg.com/images/themes/theme1/bg.png', u'verified': False, u'translator_type': u'none', u'profile_text_color': u'333333', u'profile_image_url_https': u'https://pbs.twimg.com/profile_images/761270969730301952/X8-H-Adj_normal.jpg', u'profile_sidebar_fill_color': u'DDEEF6', u'entities': {u'url': {u'urls': [{u'url': u'https://t.co/HIf5VJBnyO', u'indices': [0, 23], u'expanded_url': u'http://it.linkedin.com/in/caputodaniela/', u'display_url': u'it.linkedin.com/in/caputodanie\\u2026'}]}, u'description': {u'urls': []}}, u'followers_count': 890, u'profile_sidebar_border_color': u'FFFFFF', u'id_str': u'1166565846', u'profile_background_color': u'E6C909', u'listed_count': 61, u'is_translation_enabled': False, u'utc_offset': 3600, u'statuses_count': 2542, u'description': u'Communication and #Digital Strategy Manager at @ManpowerGroupIT #RecruitmentMarketing #PersonalBranding Strategist - Make a difference, start the Change!', u'friends_count': 1330, u'location': u'', u'profile_link_color': u'AB0516', u'profile_image_url': u'http://pbs.twimg.com/profile_images/761270969730301952/X8-H-Adj_normal.jpg', u'following': False, u'geo_enabled': False, u'profile_banner_url': u'https://pbs.twimg.com/profile_banners/1166565846/1368128929', u'profile_background_image_url': u'http://abs.twimg.com/images/themes/theme1/bg.png', u'screen_name': u'DanielaCaputo72', u'lang': u'it', u'profile_background_tile': False, u'favourites_count': 757, u'name': u'Daniela Caputo', u'notifications': False, u'url': u'https://t.co/HIf5VJBnyO', u'created_at': u'Sun Feb 10 18:01:51 +0000 2013', u'contributors_enabled': False, u'time_zone': u'Amsterdam', u'protected': False, u'default_profile': False, u'is_translator': False}, time_zone=u'Amsterdam', id=1166565846, description=u'Communication and #Digital Strategy Manager at @ManpowerGroupIT #RecruitmentMarketing #PersonalBranding Strategist - Make a difference, start the Change!', _api=<tweepy.api.API object at 0x102cdf190>, verified=False, profile_text_color=u'333333', profile_image_url_https=u'https://pbs.twimg.com/profile_images/761270969730301952/X8-H-Adj_normal.jpg', profile_sidebar_fill_color=u'DDEEF6', is_translator=False, geo_enabled=False, entities={u'url': {u'urls': [{u'url': u'https://t.co/HIf5VJBnyO', u'indices': [0, 23], u'expanded_url': u'http://it.linkedin.com/in/caputodaniela/', u'display_url': u'it.linkedin.com/in/caputodanie\\u2026'}]}, u'description': {u'urls': []}}, followers_count=890, protected=False, id_str=u'1166565846', default_profile_image=False, listed_count=61, lang=u'it', utc_offset=3600, statuses_count=2542, profile_background_color=u'E6C909', friends_count=1330, profile_link_color=u'AB0516', profile_image_url=u'http://pbs.twimg.com/profile_images/761270969730301952/X8-H-Adj_normal.jpg', notifications=False, default_profile=False, profile_background_image_url_https=u'https://abs.twimg.com/images/themes/theme1/bg.png', profile_banner_url=u'https://pbs.twimg.com/profile_banners/1166565846/1368128929', profile_background_image_url=u'http://abs.twimg.com/images/themes/theme1/bg.png', name=u'Daniela Caputo', is_translation_enabled=False, profile_background_tile=False, favourites_count=757, screen_name=u'DanielaCaputo72', url=u'https://t.co/HIf5VJBnyO', created_at=datetime.datetime(2013, 2, 10, 18, 1, 51), contributors_enabled=False, location=u'', profile_sidebar_border_color=u'FFFFFF', translator_type=u'none', following=False), _json={u'contributors': None, u'truncated': False, u'text': u'Nasce oggi PowerU Digital!  Grazie a @intesasanpaolo e @DeloitteItalia per credere con noi nel progetto @HumanAgeInsIT @ManpowerGroupIT', u'is_quote_status': False, u'in_reply_to_status_id': None, u'id': 798107981736906753, u'favorite_count': 4, u'source': u'<a href=\"http://twitter.com/download/android\" rel=\"nofollow\">Twitter for Android</a>', u'retweeted': False, u'coordinates': None, u'entities': {u'symbols': [], u'user_mentions': [{u'id': 393894382, u'indices': [37, 52], u'id_str': u'393894382', u'screen_name': u'intesasanpaolo', u'name': u'Intesa Sanpaolo'}, {u'id': 2370187478, u'indices': [55, 70], u'id_str': u'2370187478', u'screen_name': u'DeloitteItalia', u'name': u'Deloitte Italia'}, {u'id': 2810032827, u'indices': [104, 118], u'id_str': u'2810032827', u'screen_name': u'HumanAgeInsIT', u'name': u'HumanAge Institute'}, {u'id': 1288266800, u'indices': [119, 135], u'id_str': u'1288266800', u'screen_name': u'ManpowerGroupIT', u'name': u'ManpowerGroup Italia'}], u'hashtags': [], u'urls': []}, u'in_reply_to_screen_name': None, u'in_reply_to_user_id': None, u'retweet_count': 4, u'id_str': u'798107981736906753', u'favorited': False, u'user': {u'follow_request_sent': False, u'has_extended_profile': False, u'profile_use_background_image': False, u'default_profile_image': False, u'id': 1166565846, u'profile_background_image_url_https': u'https://abs.twimg.com/images/themes/theme1/bg.png', u'verified': False, u'translator_type': u'none', u'profile_text_color': u'333333', u'profile_image_url_https': u'https://pbs.twimg.com/profile_images/761270969730301952/X8-H-Adj_normal.jpg', u'profile_sidebar_fill_color': u'DDEEF6', u'entities': {u'url': {u'urls': [{u'url': u'https://t.co/HIf5VJBnyO', u'indices': [0, 23], u'expanded_url': u'http://it.linkedin.com/in/caputodaniela/', u'display_url': u'it.linkedin.com/in/caputodanie\\u2026'}]}, u'description': {u'urls': []}}, u'followers_count': 890, u'profile_sidebar_border_color': u'FFFFFF', u'id_str': u'1166565846', u'profile_background_color': u'E6C909', u'listed_count': 61, u'is_translation_enabled': False, u'utc_offset': 3600, u'statuses_count': 2542, u'description': u'Communication and #Digital Strategy Manager at @ManpowerGroupIT #RecruitmentMarketing #PersonalBranding Strategist - Make a difference, start the Change!', u'friends_count': 1330, u'location': u'', u'profile_link_color': u'AB0516', u'profile_image_url': u'http://pbs.twimg.com/profile_images/761270969730301952/X8-H-Adj_normal.jpg', u'following': False, u'geo_enabled': False, u'profile_banner_url': u'https://pbs.twimg.com/profile_banners/1166565846/1368128929', u'profile_background_image_url': u'http://abs.twimg.com/images/themes/theme1/bg.png', u'screen_name': u'DanielaCaputo72', u'lang': u'it', u'profile_background_tile': False, u'favourites_count': 757, u'name': u'Daniela Caputo', u'notifications': False, u'url': u'https://t.co/HIf5VJBnyO', u'created_at': u'Sun Feb 10 18:01:51 +0000 2013', u'contributors_enabled': False, u'time_zone': u'Amsterdam', u'protected': False, u'default_profile': False, u'is_translator': False}, u'geo': None, u'in_reply_to_user_id_str': None, u'lang': u'it', u'created_at': u'Mon Nov 14 10:19:05 +0000 2016', u'in_reply_to_status_id_str': None, u'place': None}, coordinates=None, entities={u'symbols': [], u'user_mentions': [{u'id': 393894382, u'indices': [37, 52], u'id_str': u'393894382', u'screen_name': u'intesasanpaolo', u'name': u'Intesa Sanpaolo'}, {u'id': 2370187478, u'indices': [55, 70], u'id_str': u'2370187478', u'screen_name': u'DeloitteItalia', u'name': u'Deloitte Italia'}, {u'id': 2810032827, u'indices': [104, 118], u'id_str': u'2810032827', u'screen_name': u'HumanAgeInsIT', u'name': u'HumanAge Institute'}, {u'id': 1288266800, u'indices': [119, 135], u'id_str': u'1288266800', u'screen_name': u'ManpowerGroupIT', u'name': u'ManpowerGroup Italia'}], u'hashtags': [], u'urls': []}, in_reply_to_screen_name=None, id_str=u'798107981736906753', retweet_count=4, in_reply_to_user_id=None, favorited=False, source_url=u'http://twitter.com/download/android', user=User(follow_request_sent=False, has_extended_profile=False, profile_use_background_image=False, _json={u'follow_request_sent': False, u'has_extended_profile': False, u'profile_use_background_image': False, u'default_profile_image': False, u'id': 1166565846, u'profile_background_image_url_https': u'https://abs.twimg.com/images/themes/theme1/bg.png', u'verified': False, u'translator_type': u'none', u'profile_text_color': u'333333', u'profile_image_url_https': u'https://pbs.twimg.com/profile_images/761270969730301952/X8-H-Adj_normal.jpg', u'profile_sidebar_fill_color': u'DDEEF6', u'entities': {u'url': {u'urls': [{u'url': u'https://t.co/HIf5VJBnyO', u'indices': [0, 23], u'expanded_url': u'http://it.linkedin.com/in/caputodaniela/', u'display_url': u'it.linkedin.com/in/caputodanie\\u2026'}]}, u'description': {u'urls': []}}, u'followers_count': 890, u'profile_sidebar_border_color': u'FFFFFF', u'id_str': u'1166565846', u'profile_background_color': u'E6C909', u'listed_count': 61, u'is_translation_enabled': False, u'utc_offset': 3600, u'statuses_count': 2542, u'description': u'Communication and #Digital Strategy Manager at @ManpowerGroupIT #RecruitmentMarketing #PersonalBranding Strategist - Make a difference, start the Change!', u'friends_count': 1330, u'location': u'', u'profile_link_color': u'AB0516', u'profile_image_url': u'http://pbs.twimg.com/profile_images/761270969730301952/X8-H-Adj_normal.jpg', u'following': False, u'geo_enabled': False, u'profile_banner_url': u'https://pbs.twimg.com/profile_banners/1166565846/1368128929', u'profile_background_image_url': u'http://abs.twimg.com/images/themes/theme1/bg.png', u'screen_name': u'DanielaCaputo72', u'lang': u'it', u'profile_background_tile': False, u'favourites_count': 757, u'name': u'Daniela Caputo', u'notifications': False, u'url': u'https://t.co/HIf5VJBnyO', u'created_at': u'Sun Feb 10 18:01:51 +0000 2013', u'contributors_enabled': False, u'time_zone': u'Amsterdam', u'protected': False, u'default_profile': False, u'is_translator': False}, time_zone=u'Amsterdam', id=1166565846, description=u'Communication and #Digital Strategy Manager at @ManpowerGroupIT #RecruitmentMarketing #PersonalBranding Strategist - Make a difference, start the Change!', _api=<tweepy.api.API object at 0x102cdf190>, verified=False, profile_text_color=u'333333', profile_image_url_https=u'https://pbs.twimg.com/profile_images/761270969730301952/X8-H-Adj_normal.jpg', profile_sidebar_fill_color=u'DDEEF6', is_translator=False, geo_enabled=False, entities={u'url': {u'urls': [{u'url': u'https://t.co/HIf5VJBnyO', u'indices': [0, 23], u'expanded_url': u'http://it.linkedin.com/in/caputodaniela/', u'display_url': u'it.linkedin.com/in/caputodanie\\u2026'}]}, u'description': {u'urls': []}}, followers_count=890, protected=False, id_str=u'1166565846', default_profile_image=False, listed_count=61, lang=u'it', utc_offset=3600, statuses_count=2542, profile_background_color=u'E6C909', friends_count=1330, profile_link_color=u'AB0516', profile_image_url=u'http://pbs.twimg.com/profile_images/761270969730301952/X8-H-Adj_normal.jpg', notifications=False, default_profile=False, profile_background_image_url_https=u'https://abs.twimg.com/images/themes/theme1/bg.png', profile_banner_url=u'https://pbs.twimg.com/profile_banners/1166565846/1368128929', profile_background_image_url=u'http://abs.twimg.com/images/themes/theme1/bg.png', name=u'Daniela Caputo', is_translation_enabled=False, profile_background_tile=False, favourites_count=757, screen_name=u'DanielaCaputo72', url=u'https://t.co/HIf5VJBnyO', created_at=datetime.datetime(2013, 2, 10, 18, 1, 51), contributors_enabled=False, location=u'', profile_sidebar_border_color=u'FFFFFF', translator_type=u'none', following=False), geo=None, in_reply_to_user_id_str=None, lang=u'it', created_at=datetime.datetime(2016, 11, 14, 10, 19, 5), in_reply_to_status_id_str=None, place=None, source=u'Twitter for Android', retweeted=False)"
      ]
     },
     "execution_count": 26,
     "metadata": {},
     "output_type": "execute_result"
    }
   ],
   "source": [
    "likes[0]"
   ]
  },
  {
   "cell_type": "code",
   "execution_count": 18,
   "metadata": {
    "collapsed": false
   },
   "outputs": [
    {
     "name": "stdout",
     "output_type": "stream",
     "text": [
      "4240\n"
     ]
    }
   ],
   "source": [
    "intesa_followers_count =  intesa.followers_ids()\n",
    "print len(intesa_followers_count)"
   ]
  },
  {
   "cell_type": "code",
   "execution_count": 19,
   "metadata": {
    "collapsed": false
   },
   "outputs": [
    {
     "name": "stdout",
     "output_type": "stream",
     "text": [
      "799610634899980291\n"
     ]
    }
   ],
   "source": [
    "print intesa_followers_count[0]"
   ]
  },
  {
   "cell_type": "code",
   "execution_count": 20,
   "metadata": {
    "collapsed": false
   },
   "outputs": [
    {
     "data": {
      "text/plain": [
       "User(follow_request_sent=False, has_extended_profile=False, profile_use_background_image=True, _json={u'follow_request_sent': False, u'has_extended_profile': False, u'profile_use_background_image': True, u'profile_text_color': u'333333', u'default_profile_image': True, u'id': 799610634899980291, u'profile_background_image_url_https': None, u'verified': False, u'translator_type': u'none', u'profile_location': None, u'profile_image_url_https': u'https://abs.twimg.com/sticky/default_profile_images/default_profile_3_normal.png', u'profile_sidebar_fill_color': u'DDEEF6', u'entities': {u'description': {u'urls': []}}, u'followers_count': 0, u'profile_sidebar_border_color': u'C0DEED', u'id_str': u'799610634899980291', u'profile_background_color': u'F5F8FA', u'listed_count': 0, u'is_translation_enabled': False, u'utc_offset': None, u'statuses_count': 0, u'description': u'', u'friends_count': 0, u'location': u'', u'profile_link_color': u'1DA1F2', u'profile_image_url': u'http://abs.twimg.com/sticky/default_profile_images/default_profile_3_normal.png', u'following': False, u'geo_enabled': False, u'profile_background_image_url': None, u'name': u'Davide Ritaccio', u'lang': u'en', u'profile_background_tile': False, u'favourites_count': 0, u'screen_name': u'Davide_Ritaccio', u'notifications': False, u'url': None, u'created_at': u'Fri Nov 18 13:50:06 +0000 2016', u'contributors_enabled': False, u'time_zone': None, u'protected': False, u'default_profile': True, u'is_translator': False}, time_zone=None, id=799610634899980291, description=u'', _api=<tweepy.api.API object at 0x7fb0ad176950>, verified=False, profile_location=None, profile_image_url_https=u'https://abs.twimg.com/sticky/default_profile_images/default_profile_3_normal.png', profile_sidebar_fill_color=u'DDEEF6', is_translator=False, geo_enabled=False, entities={u'description': {u'urls': []}}, followers_count=0, protected=False, id_str=u'799610634899980291', default_profile_image=True, listed_count=0, lang=u'en', utc_offset=None, statuses_count=0, profile_background_color=u'F5F8FA', friends_count=0, profile_link_color=u'1DA1F2', profile_image_url=u'http://abs.twimg.com/sticky/default_profile_images/default_profile_3_normal.png', notifications=False, default_profile=True, favourites_count=0, profile_background_image_url_https=None, profile_background_image_url=None, screen_name=u'Davide_Ritaccio', is_translation_enabled=False, profile_background_tile=False, profile_text_color=u'333333', name=u'Davide Ritaccio', url=None, created_at=datetime.datetime(2016, 11, 18, 13, 50, 6), contributors_enabled=False, location=u'', profile_sidebar_border_color=u'C0DEED', translator_type=u'none', following=False)"
      ]
     },
     "execution_count": 20,
     "metadata": {},
     "output_type": "execute_result"
    }
   ],
   "source": [
    "api.get_user(intesa_followers_count[0])"
   ]
  },
  {
   "cell_type": "markdown",
   "metadata": {},
   "source": [
    "# Cursor"
   ]
  },
  {
   "cell_type": "code",
   "execution_count": null,
   "metadata": {
    "collapsed": false
   },
   "outputs": [],
   "source": [
    "print len(intesa_followers_count)"
   ]
  },
  {
   "cell_type": "code",
   "execution_count": null,
   "metadata": {
    "collapsed": false
   },
   "outputs": [],
   "source": [
    "intesa_followers = intesa.followers()\n",
    "print len(intesa_followers)"
   ]
  },
  {
   "cell_type": "code",
   "execution_count": null,
   "metadata": {
    "collapsed": false
   },
   "outputs": [],
   "source": [
    "help(tweepy.Cursor)"
   ]
  },
  {
   "cell_type": "code",
   "execution_count": 21,
   "metadata": {
    "collapsed": false
   },
   "outputs": [],
   "source": [
    "intesa_cursor = tweepy.Cursor(api.followers, screen_name='intesasanpaolo')"
   ]
  },
  {
   "cell_type": "code",
   "execution_count": null,
   "metadata": {
    "collapsed": false
   },
   "outputs": [],
   "source": [
    "print dir(intesa_cursor)"
   ]
  },
  {
   "cell_type": "code",
   "execution_count": 22,
   "metadata": {
    "collapsed": false
   },
   "outputs": [
    {
     "name": "stdout",
     "output_type": "stream",
     "text": [
      "<tweepy.cursor.ItemIterator object at 0x7fb0ac484690>\n"
     ]
    }
   ],
   "source": [
    "print intesa_cursor.items()"
   ]
  },
  {
   "cell_type": "code",
   "execution_count": 25,
   "metadata": {
    "collapsed": false
   },
   "outputs": [
    {
     "name": "stdout",
     "output_type": "stream",
     "text": [
      "User(follow_request_sent=False, has_extended_profile=False, profile_use_background_image=True, profile_sidebar_fill_color=u'E3E2DE', live_following=False, time_zone=u'Eastern Time (US & Canada)', id=140578968, description=u'The official channel for Cisco Financial Services Industry news, updates and events.', _api=<tweepy.api.API object at 0x7fb0ad176950>, verified=False, blocked_by=False, profile_text_color=u'634047', muting=False, profile_image_url_https=u'https://pbs.twimg.com/profile_images/727954347145891840/XdBPoMtc_normal.jpg', _json={u'follow_request_sent': False, u'has_extended_profile': False, u'profile_use_background_image': True, u'live_following': False, u'default_profile_image': False, u'id': 140578968, u'profile_background_image_url_https': u'https://pbs.twimg.com/profile_background_images/743499327/3559a428155964b2850f71bef72c0bcd.jpeg', u'translator_type': u'none', u'verified': False, u'blocked_by': False, u'profile_text_color': u'634047', u'muting': False, u'profile_image_url_https': u'https://pbs.twimg.com/profile_images/727954347145891840/XdBPoMtc_normal.jpg', u'profile_sidebar_fill_color': u'E3E2DE', u'entities': {u'url': {u'urls': [{u'url': u'http://t.co/3rQdG7xBjY', u'indices': [0, 22], u'expanded_url': u'http://cisco.com/web/strategy/financial/index.html', u'display_url': u'cisco.com/web/strategy/f\\u2026'}]}, u'description': {u'urls': []}}, u'followers_count': 1557, u'profile_sidebar_border_color': u'FFFFFF', u'id_str': u'140578968', u'profile_background_color': u'EDECE9', u'listed_count': 164, u'status': {u'contributors': None, u'truncated': False, u'text': u'RT @MagicJohnson: Thank you to CME Group CEO &amp; Chairman Terry Duffy for inviting us to speak at their Global Financial Leadership Conferenc\\u2026', u'is_quote_status': False, u'in_reply_to_status_id': None, u'id': 799346823601197056, u'favorite_count': 0, u'source': u'<a href=\"http://twitter.com\" rel=\"nofollow\">Twitter Web Client</a>', u'retweeted': False, u'coordinates': None, u'entities': {u'symbols': [], u'user_mentions': [{u'id': 248900032, u'indices': [3, 16], u'id_str': u'248900032', u'screen_name': u'MagicJohnson', u'name': u'Earvin Magic Johnson'}], u'hashtags': [], u'urls': []}, u'in_reply_to_screen_name': None, u'in_reply_to_user_id': None, u'retweet_count': 52, u'id_str': u'799346823601197056', u'favorited': False, u'retweeted_status': {u'contributors': None, u'truncated': True, u'text': u'Thank you to CME Group CEO &amp; Chairman Terry Duffy for inviting us to speak at their Global Financial Leadership Con\\u2026 https://t.co/7qUE0pmnA6', u'is_quote_status': False, u'in_reply_to_status_id': None, u'id': 798711432355450880, u'favorite_count': 260, u'source': u'<a href=\"http://twitter.com/download/android\" rel=\"nofollow\">Twitter for Android</a>', u'retweeted': False, u'coordinates': None, u'entities': {u'symbols': [], u'user_mentions': [], u'hashtags': [], u'urls': [{u'url': u'https://t.co/7qUE0pmnA6', u'indices': [121, 144], u'expanded_url': u'https://twitter.com/i/web/status/798711432355450880', u'display_url': u'twitter.com/i/web/status/7\\u2026'}]}, u'in_reply_to_screen_name': None, u'in_reply_to_user_id': None, u'retweet_count': 52, u'id_str': u'798711432355450880', u'favorited': False, u'geo': None, u'in_reply_to_user_id_str': None, u'possibly_sensitive': False, u'lang': u'en', u'created_at': u'Wed Nov 16 02:16:59 +0000 2016', u'in_reply_to_status_id_str': None, u'place': None}, u'geo': None, u'in_reply_to_user_id_str': None, u'lang': u'en', u'created_at': u'Thu Nov 17 20:21:48 +0000 2016', u'in_reply_to_status_id_str': None, u'place': None}, u'is_translation_enabled': False, u'utc_offset': -18000, u'statuses_count': 3567, u'description': u'The official channel for Cisco Financial Services Industry news, updates and events.', u'friends_count': 780, u'location': u'Global via Cisco TelePresence', u'profile_link_color': u'803909', u'profile_image_url': u'http://pbs.twimg.com/profile_images/727954347145891840/XdBPoMtc_normal.jpg', u'following': False, u'geo_enabled': True, u'profile_banner_url': u'https://pbs.twimg.com/profile_banners/140578968/1460423740', u'blocking': False, u'profile_background_image_url': u'http://pbs.twimg.com/profile_background_images/743499327/3559a428155964b2850f71bef72c0bcd.jpeg', u'screen_name': u'CiscoFSI', u'lang': u'en', u'profile_background_tile': False, u'favourites_count': 690, u'name': u'Cisco FSI', u'notifications': False, u'url': u'http://t.co/3rQdG7xBjY', u'created_at': u'Wed May 05 21:47:13 +0000 2010', u'contributors_enabled': False, u'time_zone': u'Eastern Time (US & Canada)', u'protected': False, u'default_profile': False, u'is_translator': False}, is_translator=False, geo_enabled=True, entities={u'url': {u'urls': [{u'url': u'http://t.co/3rQdG7xBjY', u'indices': [0, 22], u'expanded_url': u'http://cisco.com/web/strategy/financial/index.html', u'display_url': u'cisco.com/web/strategy/f\\u2026'}]}, u'description': {u'urls': []}}, followers_count=1557, protected=False, id_str=u'140578968', default_profile_image=False, listed_count=164, status=Status(contributors=None, truncated=False, text=u'RT @MagicJohnson: Thank you to CME Group CEO &amp; Chairman Terry Duffy for inviting us to speak at their Global Financial Leadership Conferenc\\u2026', is_quote_status=False, in_reply_to_status_id=None, id=799346823601197056, favorite_count=0, _api=<tweepy.api.API object at 0x7fb0ad176950>, source=u'Twitter Web Client', _json={u'contributors': None, u'truncated': False, u'text': u'RT @MagicJohnson: Thank you to CME Group CEO &amp; Chairman Terry Duffy for inviting us to speak at their Global Financial Leadership Conferenc\\u2026', u'is_quote_status': False, u'in_reply_to_status_id': None, u'id': 799346823601197056, u'favorite_count': 0, u'source': u'<a href=\"http://twitter.com\" rel=\"nofollow\">Twitter Web Client</a>', u'retweeted': False, u'coordinates': None, u'entities': {u'symbols': [], u'user_mentions': [{u'id': 248900032, u'indices': [3, 16], u'id_str': u'248900032', u'screen_name': u'MagicJohnson', u'name': u'Earvin Magic Johnson'}], u'hashtags': [], u'urls': []}, u'in_reply_to_screen_name': None, u'in_reply_to_user_id': None, u'retweet_count': 52, u'id_str': u'799346823601197056', u'favorited': False, u'retweeted_status': {u'contributors': None, u'truncated': True, u'text': u'Thank you to CME Group CEO &amp; Chairman Terry Duffy for inviting us to speak at their Global Financial Leadership Con\\u2026 https://t.co/7qUE0pmnA6', u'is_quote_status': False, u'in_reply_to_status_id': None, u'id': 798711432355450880, u'favorite_count': 260, u'source': u'<a href=\"http://twitter.com/download/android\" rel=\"nofollow\">Twitter for Android</a>', u'retweeted': False, u'coordinates': None, u'entities': {u'symbols': [], u'user_mentions': [], u'hashtags': [], u'urls': [{u'url': u'https://t.co/7qUE0pmnA6', u'indices': [121, 144], u'expanded_url': u'https://twitter.com/i/web/status/798711432355450880', u'display_url': u'twitter.com/i/web/status/7\\u2026'}]}, u'in_reply_to_screen_name': None, u'in_reply_to_user_id': None, u'retweet_count': 52, u'id_str': u'798711432355450880', u'favorited': False, u'geo': None, u'in_reply_to_user_id_str': None, u'possibly_sensitive': False, u'lang': u'en', u'created_at': u'Wed Nov 16 02:16:59 +0000 2016', u'in_reply_to_status_id_str': None, u'place': None}, u'geo': None, u'in_reply_to_user_id_str': None, u'lang': u'en', u'created_at': u'Thu Nov 17 20:21:48 +0000 2016', u'in_reply_to_status_id_str': None, u'place': None}, coordinates=None, entities={u'symbols': [], u'user_mentions': [{u'id': 248900032, u'indices': [3, 16], u'id_str': u'248900032', u'screen_name': u'MagicJohnson', u'name': u'Earvin Magic Johnson'}], u'hashtags': [], u'urls': []}, in_reply_to_screen_name=None, id_str=u'799346823601197056', retweet_count=52, in_reply_to_user_id=None, favorited=False, retweeted_status=Status(contributors=None, truncated=True, text=u'Thank you to CME Group CEO &amp; Chairman Terry Duffy for inviting us to speak at their Global Financial Leadership Con\\u2026 https://t.co/7qUE0pmnA6', is_quote_status=False, in_reply_to_status_id=None, id=798711432355450880, favorite_count=260, _api=<tweepy.api.API object at 0x7fb0ad176950>, source=u'Twitter for Android', _json={u'contributors': None, u'truncated': True, u'text': u'Thank you to CME Group CEO &amp; Chairman Terry Duffy for inviting us to speak at their Global Financial Leadership Con\\u2026 https://t.co/7qUE0pmnA6', u'is_quote_status': False, u'in_reply_to_status_id': None, u'id': 798711432355450880, u'favorite_count': 260, u'source': u'<a href=\"http://twitter.com/download/android\" rel=\"nofollow\">Twitter for Android</a>', u'retweeted': False, u'coordinates': None, u'entities': {u'symbols': [], u'user_mentions': [], u'hashtags': [], u'urls': [{u'url': u'https://t.co/7qUE0pmnA6', u'indices': [121, 144], u'expanded_url': u'https://twitter.com/i/web/status/798711432355450880', u'display_url': u'twitter.com/i/web/status/7\\u2026'}]}, u'in_reply_to_screen_name': None, u'in_reply_to_user_id': None, u'retweet_count': 52, u'id_str': u'798711432355450880', u'favorited': False, u'geo': None, u'in_reply_to_user_id_str': None, u'possibly_sensitive': False, u'lang': u'en', u'created_at': u'Wed Nov 16 02:16:59 +0000 2016', u'in_reply_to_status_id_str': None, u'place': None}, coordinates=None, entities={u'symbols': [], u'user_mentions': [], u'hashtags': [], u'urls': [{u'url': u'https://t.co/7qUE0pmnA6', u'indices': [121, 144], u'expanded_url': u'https://twitter.com/i/web/status/798711432355450880', u'display_url': u'twitter.com/i/web/status/7\\u2026'}]}, in_reply_to_screen_name=None, id_str=u'798711432355450880', retweet_count=52, in_reply_to_user_id=None, favorited=False, source_url=u'http://twitter.com/download/android', geo=None, in_reply_to_user_id_str=None, possibly_sensitive=False, lang=u'en', created_at=datetime.datetime(2016, 11, 16, 2, 16, 59), in_reply_to_status_id_str=None, place=None, retweeted=False), source_url=u'http://twitter.com', geo=None, in_reply_to_user_id_str=None, lang=u'en', created_at=datetime.datetime(2016, 11, 17, 20, 21, 48), in_reply_to_status_id_str=None, place=None, retweeted=False), lang=u'en', utc_offset=-18000, statuses_count=3567, profile_background_color=u'EDECE9', friends_count=780, profile_link_color=u'803909', profile_image_url=u'http://pbs.twimg.com/profile_images/727954347145891840/XdBPoMtc_normal.jpg', notifications=False, default_profile=False, profile_background_image_url_https=u'https://pbs.twimg.com/profile_background_images/743499327/3559a428155964b2850f71bef72c0bcd.jpeg', profile_banner_url=u'https://pbs.twimg.com/profile_banners/140578968/1460423740', blocking=False, profile_background_image_url=u'http://pbs.twimg.com/profile_background_images/743499327/3559a428155964b2850f71bef72c0bcd.jpeg', name=u'Cisco FSI', is_translation_enabled=False, profile_background_tile=False, favourites_count=690, screen_name=u'CiscoFSI', url=u'http://t.co/3rQdG7xBjY', created_at=datetime.datetime(2010, 5, 5, 21, 47, 13), contributors_enabled=False, location=u'Global via Cisco TelePresence', profile_sidebar_border_color=u'FFFFFF', translator_type=u'none', following=False)\n"
     ]
    }
   ],
   "source": [
    "mylist =intesa_cursor.items().next()\n",
    "print mylist"
   ]
  },
  {
   "cell_type": "markdown",
   "metadata": {},
   "source": [
    "I 2 codici seguenti chiamano i tweet di ISP fino a quando si raggiunge il limite"
   ]
  },
  {
   "cell_type": "code",
   "execution_count": null,
   "metadata": {
    "collapsed": true
   },
   "outputs": [],
   "source": [
    "#for follower in intesa_cursor.items():\n",
    "#    print follower"
   ]
  },
  {
   "cell_type": "code",
   "execution_count": null,
   "metadata": {
    "collapsed": false
   },
   "outputs": [],
   "source": [
    "#mylist = []\n",
    "#for follower in intesa_cursor.pages():\n",
    "#    print mylist.extend(follower)\n",
    "#    break"
   ]
  },
  {
   "cell_type": "code",
   "execution_count": 27,
   "metadata": {
    "collapsed": false
   },
   "outputs": [
    {
     "ename": "TypeError",
     "evalue": "object of type 'User' has no len()",
     "output_type": "error",
     "traceback": [
      "\u001b[1;31m---------------------------------------------------------------------------\u001b[0m",
      "\u001b[1;31mTypeError\u001b[0m                                 Traceback (most recent call last)",
      "\u001b[1;32m<ipython-input-27-ecc6a9d81dd6>\u001b[0m in \u001b[0;36m<module>\u001b[1;34m()\u001b[0m\n\u001b[1;32m----> 1\u001b[1;33m \u001b[0mlen\u001b[0m\u001b[1;33m(\u001b[0m\u001b[0mmylist\u001b[0m\u001b[1;33m)\u001b[0m\u001b[1;33m\u001b[0m\u001b[0m\n\u001b[0m",
      "\u001b[1;31mTypeError\u001b[0m: object of type 'User' has no len()"
     ]
    }
   ],
   "source": [
    "len(mylist)"
   ]
  },
  {
   "cell_type": "code",
   "execution_count": 24,
   "metadata": {
    "collapsed": false
   },
   "outputs": [
    {
     "ename": "NameError",
     "evalue": "name 'mylist' is not defined",
     "output_type": "error",
     "traceback": [
      "\u001b[1;31m---------------------------------------------------------------------------\u001b[0m",
      "\u001b[1;31mNameError\u001b[0m                                 Traceback (most recent call last)",
      "\u001b[1;32m<ipython-input-24-750f4313fa5d>\u001b[0m in \u001b[0;36m<module>\u001b[1;34m()\u001b[0m\n\u001b[1;32m----> 1\u001b[1;33m \u001b[0mmylist\u001b[0m\u001b[1;33m[\u001b[0m\u001b[1;36m0\u001b[0m\u001b[1;33m]\u001b[0m\u001b[1;33m.\u001b[0m\u001b[0m_json\u001b[0m\u001b[1;33m\u001b[0m\u001b[0m\n\u001b[0m",
      "\u001b[1;31mNameError\u001b[0m: name 'mylist' is not defined"
     ]
    }
   ],
   "source": [
    "mylist[0]._json"
   ]
  },
  {
   "cell_type": "code",
   "execution_count": null,
   "metadata": {
    "collapsed": false
   },
   "outputs": [],
   "source": [
    "for i, f in enumerate(mylist):\n",
    "    print i, f.statuses_count"
   ]
  },
  {
   "cell_type": "markdown",
   "metadata": {
    "collapsed": true
   },
   "source": [
    "# Get Hashtags\n"
   ]
  },
  {
   "cell_type": "code",
   "execution_count": null,
   "metadata": {
    "collapsed": false,
    "scrolled": false
   },
   "outputs": [],
   "source": [
    "tweets = []\n",
    "for tweet in tweepy.Cursor(api.search, q='#trump').items(5):\n",
    "    print tweet.text\n",
    "    tweets.append(tweet)\n",
    "print \"\\n-----\\n\"\n",
    "print tweets[0]"
   ]
  },
  {
   "cell_type": "markdown",
   "metadata": {},
   "source": [
    "# Avoid Rate Limit Exception"
   ]
  },
  {
   "cell_type": "code",
   "execution_count": null,
   "metadata": {
    "collapsed": true
   },
   "outputs": [],
   "source": [
    "import time\n",
    "def limit_handler(cursor):\n",
    "    while True:\n",
    "        try:\n",
    "            yield cursor.next()\n",
    "        except tweepy.RateLimitError:\n",
    "            print \"Timeout Reached, I'm going to sleep for 15 Minutes\"\n",
    "            time.sleep(15*60)\n",
    "            print \"I'm going to try again!\"\n",
    "\n",
    "# manca la gestione della fine totale della richiesta"
   ]
  },
  {
   "cell_type": "code",
   "execution_count": null,
   "metadata": {
    "collapsed": true
   },
   "outputs": [],
   "source": [
    "alexcomu_cursor = tweepy.Cursor(api.followers, screen_name='comualex')\n",
    "\n",
    "alexcomu_followers = []\n",
    "for followers in limit_handler(alexcomu_cursor.pages()):\n",
    "    alexcomu_followers.extend(followers)\n",
    "    "
   ]
  },
  {
   "cell_type": "code",
   "execution_count": null,
   "metadata": {
    "collapsed": false
   },
   "outputs": [],
   "source": [
    "len(alexcomu_followers)"
   ]
  },
  {
   "cell_type": "markdown",
   "metadata": {},
   "source": [
    "# Live Streaming\n",
    "\n",
    "Check the complete example on the folder **esercitazione**."
   ]
  },
  {
   "cell_type": "code",
   "execution_count": 165,
   "metadata": {
    "collapsed": true
   },
   "outputs": [],
   "source": [
    "class BDStreamingListener(tweepy.StreamListener):\n",
    "    def __init__(self, count):\n",
    "        super(BDStreamingListener, self).__init__()\n",
    "        # Number of tweets we want to retrieve\n",
    "        self.count = count\n",
    "\n",
    "    def on_status(self, status):\n",
    "        # automatic called when a new tweet is received\n",
    "        # print dir(status)\n",
    "        print dict(user=status.user.screen_name, text=status.text)\n",
    "\n",
    "        self.count -= 1\n",
    "        if self.count <= 0:\n",
    "            return False\n",
    "\n",
    "    def on_error(self, status_code):\n",
    "        # automatic called when an error occures\n",
    "        print \"Error with status code: \", status_code\n",
    "        return False"
   ]
  },
  {
   "cell_type": "code",
   "execution_count": 168,
   "metadata": {
    "collapsed": false
   },
   "outputs": [
    {
     "name": "stdout",
     "output_type": "stream",
     "text": [
      "{'text': u'RT @SWagenknecht: #Trump,#Brexit:SPD/CDU/GR\\xdcNE immer nur geschockt&amp;machen weiter wie bisher. Soziale Wende \\xfcberf\\xe4llig! Mein TAZ-Interv http\\u2026', 'user': u'ColdWarrior2000'}\n",
      "{'text': u\"RT @yevhenfedchenko: .@RT_America adding more fuel to American political turmoil with KKK rally celebrating #Trump. More 'civil war' nar\\u2026 \", 'user': u'ofionnain'}\n",
      "{'text': u'RT @adjunctprofessr: It\\u2019s official \\u2014 President-elect Donald Trump has won Michigan, bringing his electoral college count to 295.\\n#Trump\\nhtt\\u2026', 'user': u'G6throughF5'}\n",
      "{'text': u'Top Trends Switzerland-Nov11 15:40 CET\\n#TedXZurich\\n#BrazilGP\\n#LeonardCohen\\n#Trump\\n#COP22\\n\\nhttps://t.co/3NQj9S4bHK', 'user': u'GeoHashTrend'}\n",
      "{'text': u'RT @LEDOUAISIEN: #USA : le compte Twitter de @EastwoodUSA a \\xe9t\\xe9 suspendu pour son tweet de f\\xe9licitations \\xe0 #Trump\\nLamentable..!!\\u2026 ', 'user': u'Matrix1O1'}\n"
     ]
    }
   ],
   "source": [
    "# Create an instand set the number of tweets we want ro retrieve\n",
    "listener = BDStreamingListener(5)\n",
    "\n",
    "# Create the stream fetching object with auth and listener\n",
    "stream = tweepy.streaming.Stream(auth, listener)\n",
    "\n",
    "# Tun the stream using filter\n",
    "stream.filter(track=['#Trump'])\n"
   ]
  },
  {
   "cell_type": "markdown",
   "metadata": {},
   "source": [
    "# Get INTESA Followers -- Version 1"
   ]
  },
  {
   "cell_type": "code",
   "execution_count": 169,
   "metadata": {
    "collapsed": true
   },
   "outputs": [],
   "source": [
    "# Ask for Followers using Cursor (20 followers per page, with a limit of 15 requests each 15 minutes) ~ 3 Hours\n",
    "class IntesaFollowers(object):\n",
    "    \n",
    "    def __init__(self, auth):\n",
    "        self.auth = auth\n",
    "        self.api = tweepy.API(self.auth)\n",
    "        self.intesa_cursor = tweepy.Cursor(self.api.followers, screen_name='intesasanpaolo')\n",
    "\n",
    "    def get_followers(self):\n",
    "        while True:\n",
    "            try:\n",
    "                yield self.intesa_cursor.pages().next()\n",
    "            except tweepy.RateLimitError:\n",
    "                print \"[LOG %s] Timeout reached.. I'm going to sleep for 15 minutes..\" % dt.now()\n",
    "                time.sleep(15*60)\n",
    "                print \"[LOG %s] Try Again!\" % dt.now()\n",
    "            except Exception as e:\n",
    "                # Generic Exception\n",
    "                print \"[LOG %s] Generic error \" % dt.now(), e\n",
    "                print \"[LOG %s] Wait 60 seconds...\" % dt.now()\n",
    "                time.sleep(60)"
   ]
  },
  {
   "cell_type": "code",
   "execution_count": null,
   "metadata": {
    "collapsed": true
   },
   "outputs": [],
   "source": [
    "intesa = IntesaFollowers(auth)\n",
    "intesa_followers = []\n",
    "for followers in intesa.get_followers():\n",
    "    intesa_followers.extend(followers)"
   ]
  },
  {
   "cell_type": "markdown",
   "metadata": {},
   "source": [
    "# Get INTESA Followers -- Version 2 (Faster)"
   ]
  },
  {
   "cell_type": "code",
   "execution_count": null,
   "metadata": {
    "collapsed": true
   },
   "outputs": [],
   "source": [
    "# Ask for Followers_ids and ask data for each user -> Much Much Faster!  ~ 1.5 Hours\n",
    "class IntesaFollowers(object):\n",
    "\n",
    "    def __init__(self, auth):\n",
    "        self.auth = auth\n",
    "        self.api = tweepy.API(self.auth)\n",
    "        self.intesa = self.api.get_user('intesasanpaolo')\n",
    "\n",
    "    def get_followers(self):\n",
    "        for follower_id in self.intesa.followers_ids():\n",
    "            try:\n",
    "                yield self.api.get_user(follower_id)\n",
    "            except tweepy.RateLimitError:\n",
    "                print \"[LOG %s] Timeout reached.. I'm going to sleep for 15 minutes..\" % dt.now()\n",
    "                time.sleep(15*60)\n",
    "                print \"[LOG %s] Try Again!\" % dt.now()\n",
    "            except Exception as e:\n",
    "                # Generic Exception\n",
    "                print \"[LOG %s] Generic error \" % dt.now(), e\n",
    "                print \"[LOG %s] Wait 60 seconds...\" % dt.now()\n",
    "                time.sleep(60)"
   ]
  },
  {
   "cell_type": "code",
   "execution_count": null,
   "metadata": {
    "collapsed": true
   },
   "outputs": [],
   "source": [
    "intesa = IntesaFollowers(auth)\n",
    "intesa_followers = []\n",
    "for follower in intesa.get_followers():\n",
    "    intesa_followers.append(follower)"
   ]
  },
  {
   "cell_type": "markdown",
   "metadata": {},
   "source": [
    "# Get INTESA tweets"
   ]
  },
  {
   "cell_type": "code",
   "execution_count": 7,
   "metadata": {
    "collapsed": false
   },
   "outputs": [],
   "source": [
    "class IntesaTweets(object):\n",
    "    \n",
    "    def __init__(self, auth):\n",
    "        self.auth = auth\n",
    "        self.api = tweepy.API(self.auth)\n",
    "        self.intesa_cursor = tweepy.Cursor(self.api.user_timeline, screen_name='intesasanpaolo')\n",
    "\n",
    "    def get_tweets(self):\n",
    "        while True:\n",
    "            try:\n",
    "                yield self.intesa_cursor.pages().next()\n",
    "            except tweepy.RateLimitError:\n",
    "                print \"[LOG %s] Timeout reached.. I'm going to sleep for 15 minutes..\" % dt.now()\n",
    "                time.sleep(15*60)\n",
    "                print \"[LOG %s] Try Again!\" % dt.now()\n",
    "            except Exception as e:\n",
    "                # Generic Exception\n",
    "                print \"[LOG %s] Generic error \" % dt.now(), e\n",
    "                print \"[LOG %s] Wait 60 seconds...\" % dt.now()\n",
    "                time.sleep(60)\n"
   ]
  },
  {
   "cell_type": "code",
   "execution_count": 8,
   "metadata": {
    "collapsed": false
   },
   "outputs": [
    {
     "name": "stdout",
     "output_type": "stream",
     "text": [
      "{ u'contributors': None,\n",
      "  u'coordinates': None,\n",
      "  u'created_at': u'Mon Nov 14 09:25:09 +0000 2016',\n",
      "  u'entities': { u'hashtags': [ { u'indices': [0, 13],\n",
      "                                  u'text': u'FlashMercati'}],\n",
      "                 u'symbols': [],\n",
      "                 u'urls': [ { u'display_url': u'twitter.com/i/web/status/7\\u2026',\n",
      "                              u'expanded_url': u'https://twitter.com/i/web/status/798094406406590464',\n",
      "                              u'indices': [116, 139],\n",
      "                              u'url': u'https://t.co/AOHmJBzUDk'}],\n",
      "                 u'user_mentions': []},\n",
      "  u'favorite_count': 0,\n",
      "  u'favorited': False,\n",
      "  u'geo': None,\n",
      "  u'id': 798094406406590464,\n",
      "  u'id_str': u'798094406406590464',\n",
      "  u'in_reply_to_screen_name': None,\n",
      "  u'in_reply_to_status_id': None,\n",
      "  u'in_reply_to_status_id_str': None,\n",
      "  u'in_reply_to_user_id': None,\n",
      "  u'in_reply_to_user_id_str': None,\n",
      "  u'is_quote_status': False,\n",
      "  u'lang': u'it',\n",
      "  u'place': None,\n",
      "  u'possibly_sensitive': False,\n",
      "  u'retweet_count': 1,\n",
      "  u'retweeted': False,\n",
      "  u'source': u'<a href=\"http://twitter.com\" rel=\"nofollow\">Twitter Web Client</a>',\n",
      "  u'text': u'#FlashMercati: focus sugli eventi del mercato monetario e obbligazionario. \\nEcco i dati pi\\xf9 significativi di oggi.\\u2026 https://t.co/AOHmJBzUDk',\n",
      "  u'truncated': True,\n",
      "  u'user': { u'contributors_enabled': False,\n",
      "             u'created_at': u'Wed Oct 19 07:46:49 +0000 2011',\n",
      "             u'default_profile': False,\n",
      "             u'default_profile_image': False,\n",
      "             u'description': u'Notizie, eventi e informazioni in tempo reale sul mondo Intesa Sanpaolo. Per assistenza su prodotti e servizi seguici su @IntesaSP_Help e @IntesaSPgiovani.',\n",
      "             u'entities': { u'description': { u'urls': []},\n",
      "                            u'url': { u'urls': [ { u'display_url': u'intesasanpaolo.com',\n",
      "                                                   u'expanded_url': u'http://www.intesasanpaolo.com',\n",
      "                                                   u'indices': [0, 22],\n",
      "                                                   u'url': u'http://t.co/lmrSnJtN6Y'}]}},\n",
      "             u'favourites_count': 1071,\n",
      "             u'follow_request_sent': False,\n",
      "             u'followers_count': 4157,\n",
      "             u'following': False,\n",
      "             u'friends_count': 177,\n",
      "             u'geo_enabled': False,\n",
      "             u'has_extended_profile': False,\n",
      "             u'id': 393894382,\n",
      "             u'id_str': u'393894382',\n",
      "             u'is_translation_enabled': True,\n",
      "             u'is_translator': False,\n",
      "             u'lang': u'it',\n",
      "             u'listed_count': 129,\n",
      "             u'location': u'',\n",
      "             u'name': u'Intesa Sanpaolo',\n",
      "             u'notifications': False,\n",
      "             u'profile_background_color': u'DBDBDB',\n",
      "             u'profile_background_image_url': u'http://abs.twimg.com/images/themes/theme1/bg.png',\n",
      "             u'profile_background_image_url_https': u'https://abs.twimg.com/images/themes/theme1/bg.png',\n",
      "             u'profile_background_tile': False,\n",
      "             u'profile_banner_url': u'https://pbs.twimg.com/profile_banners/393894382/1473949795',\n",
      "             u'profile_image_url': u'http://pbs.twimg.com/profile_images/597680334474485760/Z6OMNC0B_normal.jpg',\n",
      "             u'profile_image_url_https': u'https://pbs.twimg.com/profile_images/597680334474485760/Z6OMNC0B_normal.jpg',\n",
      "             u'profile_link_color': u'929292',\n",
      "             u'profile_sidebar_border_color': u'FFFFFF',\n",
      "             u'profile_sidebar_fill_color': u'DDEEF6',\n",
      "             u'profile_text_color': u'333333',\n",
      "             u'profile_use_background_image': False,\n",
      "             u'protected': False,\n",
      "             u'screen_name': u'intesasanpaolo',\n",
      "             u'statuses_count': 2371,\n",
      "             u'time_zone': u'Rome',\n",
      "             u'translator_type': u'none',\n",
      "             u'url': u'http://t.co/lmrSnJtN6Y',\n",
      "             u'utc_offset': 3600,\n",
      "             u'verified': False}}\n"
     ]
    }
   ],
   "source": [
    "intesa_timeline = IntesaTweets(auth)\n",
    "intesa_tweets = []\n",
    "for tweet in intesa_timeline.get_tweets():\n",
    "    pp.pprint(tweet[0]._json)\n",
    "    break"
   ]
  },
  {
   "cell_type": "markdown",
   "metadata": {
    "collapsed": true
   },
   "source": [
    "# GET Intesa Favorites"
   ]
  },
  {
   "cell_type": "markdown",
   "metadata": {},
   "source": [
    "# GET Intesa Friends"
   ]
  },
  {
   "cell_type": "markdown",
   "metadata": {},
   "source": [
    "# GET Intesa Data"
   ]
  },
  {
   "cell_type": "code",
   "execution_count": null,
   "metadata": {
    "collapsed": true
   },
   "outputs": [],
   "source": []
  }
 ],
 "metadata": {
  "kernelspec": {
   "display_name": "Python [Root]",
   "language": "python",
   "name": "Python [Root]"
  },
  "language_info": {
   "codemirror_mode": {
    "name": "ipython",
    "version": 2
   },
   "file_extension": ".py",
   "mimetype": "text/x-python",
   "name": "python",
   "nbconvert_exporter": "python",
   "pygments_lexer": "ipython2",
   "version": "2.7.12"
  }
 },
 "nbformat": 4,
 "nbformat_minor": 0
}
