{
 "cells": [
  {
   "cell_type": "code",
   "execution_count": null,
   "metadata": {
    "collapsed": true
   },
   "outputs": [],
   "source": [
    "from mrjob.job import MRJob\n",
    "from mrjob.step import MRStep\n",
    "import re\n",
    "\n",
    "## Exercise 3\n",
    "# Write a MapReduce job that report the most frequent word grouped by word length.\n",
    "\n",
    "WORD_REGEXP = re.compile(r\"[\\w']+\")\n",
    "\n",
    "class MREx_03(MRJob):\n",
    "    def steps(self):\n",
    "        return [MRStep(mapper=self.mapper_count,\n",
    "                    reducer=self.reducer_count),\n",
    "                MRStep(mapper=self.mapper_len,\n",
    "                    reducer=self.reducer_len)]\n",
    "\n",
    "    def mapper_count(self, _, line):\n",
    "        \n",
    "        words = WORD_REGEXP.findall(line)\n",
    "        for word in words:\n",
    "            yield word, 1\n",
    "\n",
    "    def reducer_count(self, word, counts):\n",
    "        yield word, sum(counts)\n",
    "\n",
    "    def mapper_len(self, word, total):\n",
    "        yield len(word), [word, total]  # Le raggruppo per numero di occorrenze\n",
    "\n",
    "    def reducer_len(self, words, total):\n",
    "        # Avra' all'interno di total il numero di occorrenze\n",
    "        # e all'interno di words un generatore che resituira le singole parole\n",
    "        yield words, total.next()  # .next() restituisce il primo elemento, emetto quindi una sola parola per ogni frequenza\n",
    "\n",
    "    '''def mapper_lettermost(self, freq, word):\n",
    "        yield 'most_used', [freq, word]  # Raggruppo le parole per una lista di tuple (frequenza, parola)\n",
    "\n",
    "    def reducer_lettermost(self, _, freqs):\n",
    "        yield 'most_used', max(freqs)'''\n",
    "\n",
    "\n",
    "if __name__ == '__main__':\n",
    "    MREx_03.run()"
   ]
  }
 ],
 "metadata": {
  "kernelspec": {
   "display_name": "Python [Root]",
   "language": "python",
   "name": "Python [Root]"
  },
  "language_info": {
   "codemirror_mode": {
    "name": "ipython",
    "version": 2
   },
   "file_extension": ".py",
   "mimetype": "text/x-python",
   "name": "python",
   "nbconvert_exporter": "python",
   "pygments_lexer": "ipython2",
   "version": "2.7.12"
  }
 },
 "nbformat": 4,
 "nbformat_minor": 0
}
